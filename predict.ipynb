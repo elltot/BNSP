{
 "cells": [
  {
   "cell_type": "markdown",
   "id": "ecca35bd",
   "metadata": {
    "papermill": {
     "duration": 0.011917,
     "end_time": "2024-05-31T09:07:33.664091",
     "exception": false,
     "start_time": "2024-05-31T09:07:33.652174",
     "status": "completed"
    },
    "tags": []
   },
   "source": [
    "# 📊 <span style='color:green'> <b>Data Description </b></span>\n"
   ]
  },
  {
   "cell_type": "markdown",
   "id": "a216e94e",
   "metadata": {
    "papermill": {
     "duration": 0.011616,
     "end_time": "2024-05-31T09:07:33.687290",
     "exception": false,
     "start_time": "2024-05-31T09:07:33.675674",
     "status": "completed"
    },
    "tags": []
   },
   "source": [
    "#  Heart Disease Dataset\n",
    "\n",
    "| Variabel          | Deskripsi                                                                                         |\n",
    "|-------------------|---------------------------------------------------------------------------------------------------|\n",
    "| Age               | Usia pasien dalam tahun                                                                            |\n",
    "| Sex               | Jenis kelamin pasien, dengan opsi F untuk perempuan (Female) dan M untuk laki-laki (Male)          |\n",
    "| ChestPainType     | Jenis nyeri dada yang dialami oleh pasien, dengan opsi ATA untuk nyeri seperti terjepit (Aching), NAP untuk nyeri tidak berkaitan dengan jantung (Not Heart-related), dan ASY untuk asimtomatik (Asymptomatic) |\n",
    "| RestingBP         | Tekanan darah istirahat pasien dalam mm Hg (milimeter raksa)                                       |\n",
    "| Cholesterol       | Kolesterol pasien dalam mg/dl (miligram per desiliter)                                             |\n",
    "| FastingBS         | Tingkat gula darah puasa pasien dalam mg/dl (miligram per desiliter), dengan 0 untuk tidak ada dan 1 untuk ada |\n",
    "| RestingECG        | Hasil elektrokardiogram (EKG) istirahat pasien, dengan 0 untuk normal, 1 untuk kelainan pada gelombang ST-T, dan 2 untuk hipertrofi ventrikel kiri |\n",
    "| MaxHR             | Denyut jantung maksimum yang dicapai oleh pasien dalam bpm (denyut per menit)                      |\n",
    "| ExerciseAngina    | Kehadiran angina yang dipicu oleh olahraga pada pasien, dengan 0 untuk tidak ada dan 1 untuk ada   |\n",
    "| Oldpeak           | Depresi segmen ST yang diinduksi oleh olahraga relatif terhadap istirahat                          |\n",
    "| ST_Slope          | Kemiringan segmen ST selama olahraga, dengan opsi Up untuk meningkat, Flat untuk datar, dan Down untuk menurun |\n",
    "| HeartDisease      | Kehadiran penyakit jantung pada pasien, dengan 0 untuk tidak ada dan 1 untuk ada                   |\n",
    "\n"
   ]
  },
  {
   "cell_type": "markdown",
   "id": "0d4fdb1c",
   "metadata": {
    "papermill": {
     "duration": 0.011044,
     "end_time": "2024-05-31T09:07:33.710277",
     "exception": false,
     "start_time": "2024-05-31T09:07:33.699233",
     "status": "completed"
    },
    "tags": []
   },
   "source": [
    "# 📚 <span style='color:darkblue'>Import Libraries</span>"
   ]
  },
  {
   "cell_type": "code",
   "execution_count": 638,
   "id": "40464281",
   "metadata": {
    "execution": {
     "iopub.execute_input": "2024-05-31T09:07:33.735637Z",
     "iopub.status.busy": "2024-05-31T09:07:33.734557Z",
     "iopub.status.idle": "2024-05-31T09:07:36.626822Z",
     "shell.execute_reply": "2024-05-31T09:07:36.625473Z"
    },
    "papermill": {
     "duration": 2.90851,
     "end_time": "2024-05-31T09:07:36.630171",
     "exception": false,
     "start_time": "2024-05-31T09:07:33.721661",
     "status": "completed"
    },
    "tags": []
   },
   "outputs": [],
   "source": [
    "import pandas as pd\n",
    "import pickle\n",
    "#for visualization\n",
    "import matplotlib.pyplot as plt \n",
    "import seaborn as sns\n",
    "sns.set(style=\"whitegrid\")\n",
    "from sklearn.model_selection import train_test_split\n",
    "from sklearn.metrics import accuracy_score, precision_score, recall_score, f1_score, roc_auc_score\n"
   ]
  },
  {
   "cell_type": "markdown",
   "id": "02de8294",
   "metadata": {
    "papermill": {
     "duration": 0.01133,
     "end_time": "2024-05-31T09:07:36.654281",
     "exception": false,
     "start_time": "2024-05-31T09:07:36.642951",
     "status": "completed"
    },
    "tags": []
   },
   "source": [
    "# ⚠️ <span style='color:orange'>Remove Warning</span>"
   ]
  },
  {
   "cell_type": "code",
   "execution_count": 639,
   "id": "e75ab241",
   "metadata": {
    "execution": {
     "iopub.execute_input": "2024-05-31T09:07:36.680194Z",
     "iopub.status.busy": "2024-05-31T09:07:36.679327Z",
     "iopub.status.idle": "2024-05-31T09:07:36.684359Z",
     "shell.execute_reply": "2024-05-31T09:07:36.683583Z"
    },
    "papermill": {
     "duration": 0.020488,
     "end_time": "2024-05-31T09:07:36.686438",
     "exception": false,
     "start_time": "2024-05-31T09:07:36.665950",
     "status": "completed"
    },
    "tags": []
   },
   "outputs": [],
   "source": [
    "import warnings\n",
    "warnings.filterwarnings('ignore')"
   ]
  },
  {
   "cell_type": "markdown",
   "id": "b28ad4d5",
   "metadata": {
    "papermill": {
     "duration": 0.011332,
     "end_time": "2024-05-31T09:07:36.709426",
     "exception": false,
     "start_time": "2024-05-31T09:07:36.698094",
     "status": "completed"
    },
    "tags": []
   },
   "source": [
    "# 📂 <span style='color:purple'>Load Data</span>"
   ]
  },
  {
   "cell_type": "code",
   "execution_count": 640,
   "id": "2615d8d4",
   "metadata": {
    "execution": {
     "iopub.execute_input": "2024-05-31T09:07:36.734716Z",
     "iopub.status.busy": "2024-05-31T09:07:36.734066Z",
     "iopub.status.idle": "2024-05-31T09:07:36.756067Z",
     "shell.execute_reply": "2024-05-31T09:07:36.754911Z"
    },
    "papermill": {
     "duration": 0.037343,
     "end_time": "2024-05-31T09:07:36.758454",
     "exception": false,
     "start_time": "2024-05-31T09:07:36.721111",
     "status": "completed"
    },
    "tags": []
   },
   "outputs": [],
   "source": [
    "# read our data\n",
    "data=pd.read_csv('heart.csv')"
   ]
  },
  {
   "cell_type": "code",
   "execution_count": 641,
   "id": "b4c258cf",
   "metadata": {
    "execution": {
     "iopub.execute_input": "2024-05-31T09:07:36.784647Z",
     "iopub.status.busy": "2024-05-31T09:07:36.783932Z",
     "iopub.status.idle": "2024-05-31T09:07:36.788033Z",
     "shell.execute_reply": "2024-05-31T09:07:36.787272Z"
    },
    "papermill": {
     "duration": 0.019845,
     "end_time": "2024-05-31T09:07:36.790067",
     "exception": false,
     "start_time": "2024-05-31T09:07:36.770222",
     "status": "completed"
    },
    "tags": []
   },
   "outputs": [],
   "source": [
    "# display all columns and rows\n",
    "pd.set_option(\"display.max_columns\",None)\n",
    "pd.set_option('display.max_rows',None)"
   ]
  },
  {
   "cell_type": "markdown",
   "id": "103e23cd",
   "metadata": {
    "papermill": {
     "duration": 0.011097,
     "end_time": "2024-05-31T09:07:36.812744",
     "exception": false,
     "start_time": "2024-05-31T09:07:36.801647",
     "status": "completed"
    },
    "tags": []
   },
   "source": [
    "# 🔍 <span style='color:teal'><b>Data Exploration</b></span>"
   ]
  },
  {
   "cell_type": "code",
   "execution_count": 642,
   "id": "6049a036",
   "metadata": {
    "execution": {
     "iopub.execute_input": "2024-05-31T09:07:36.837396Z",
     "iopub.status.busy": "2024-05-31T09:07:36.836829Z",
     "iopub.status.idle": "2024-05-31T09:07:36.863180Z",
     "shell.execute_reply": "2024-05-31T09:07:36.862102Z"
    },
    "papermill": {
     "duration": 0.041497,
     "end_time": "2024-05-31T09:07:36.865628",
     "exception": false,
     "start_time": "2024-05-31T09:07:36.824131",
     "status": "completed"
    },
    "tags": []
   },
   "outputs": [
    {
     "data": {
      "text/html": [
       "<div>\n",
       "<style scoped>\n",
       "    .dataframe tbody tr th:only-of-type {\n",
       "        vertical-align: middle;\n",
       "    }\n",
       "\n",
       "    .dataframe tbody tr th {\n",
       "        vertical-align: top;\n",
       "    }\n",
       "\n",
       "    .dataframe thead th {\n",
       "        text-align: right;\n",
       "    }\n",
       "</style>\n",
       "<table border=\"1\" class=\"dataframe\">\n",
       "  <thead>\n",
       "    <tr style=\"text-align: right;\">\n",
       "      <th></th>\n",
       "      <th>Age</th>\n",
       "      <th>Sex</th>\n",
       "      <th>ChestPainType</th>\n",
       "      <th>RestingBP</th>\n",
       "      <th>Cholesterol</th>\n",
       "      <th>FastingBS</th>\n",
       "      <th>RestingECG</th>\n",
       "      <th>MaxHR</th>\n",
       "      <th>ExerciseAngina</th>\n",
       "      <th>Oldpeak</th>\n",
       "      <th>ST_Slope</th>\n",
       "      <th>HeartDisease</th>\n",
       "    </tr>\n",
       "  </thead>\n",
       "  <tbody>\n",
       "    <tr>\n",
       "      <th>0</th>\n",
       "      <td>NaN</td>\n",
       "      <td>M</td>\n",
       "      <td>ATA</td>\n",
       "      <td>140</td>\n",
       "      <td>289</td>\n",
       "      <td>0</td>\n",
       "      <td>Normal</td>\n",
       "      <td>172</td>\n",
       "      <td>N</td>\n",
       "      <td>0.0</td>\n",
       "      <td>Up</td>\n",
       "      <td>0</td>\n",
       "    </tr>\n",
       "    <tr>\n",
       "      <th>1</th>\n",
       "      <td>49.0</td>\n",
       "      <td>F</td>\n",
       "      <td>NAP</td>\n",
       "      <td>160</td>\n",
       "      <td>180</td>\n",
       "      <td>0</td>\n",
       "      <td>Normal</td>\n",
       "      <td>156</td>\n",
       "      <td>N</td>\n",
       "      <td>1.0</td>\n",
       "      <td>Flat</td>\n",
       "      <td>1</td>\n",
       "    </tr>\n",
       "    <tr>\n",
       "      <th>2</th>\n",
       "      <td>37.0</td>\n",
       "      <td>M</td>\n",
       "      <td>ATA</td>\n",
       "      <td>130</td>\n",
       "      <td>283</td>\n",
       "      <td>0</td>\n",
       "      <td>ST</td>\n",
       "      <td>98</td>\n",
       "      <td>N</td>\n",
       "      <td>0.0</td>\n",
       "      <td>Up</td>\n",
       "      <td>0</td>\n",
       "    </tr>\n",
       "    <tr>\n",
       "      <th>3</th>\n",
       "      <td>48.0</td>\n",
       "      <td>F</td>\n",
       "      <td>ASY</td>\n",
       "      <td>138</td>\n",
       "      <td>214</td>\n",
       "      <td>0</td>\n",
       "      <td>Normal</td>\n",
       "      <td>108</td>\n",
       "      <td>Y</td>\n",
       "      <td>1.5</td>\n",
       "      <td>Flat</td>\n",
       "      <td>1</td>\n",
       "    </tr>\n",
       "    <tr>\n",
       "      <th>4</th>\n",
       "      <td>54.0</td>\n",
       "      <td>M</td>\n",
       "      <td>NAP</td>\n",
       "      <td>150</td>\n",
       "      <td>195</td>\n",
       "      <td>0</td>\n",
       "      <td>Normal</td>\n",
       "      <td>122</td>\n",
       "      <td>N</td>\n",
       "      <td>0.0</td>\n",
       "      <td>Up</td>\n",
       "      <td>0</td>\n",
       "    </tr>\n",
       "  </tbody>\n",
       "</table>\n",
       "</div>"
      ],
      "text/plain": [
       "    Age Sex ChestPainType  RestingBP  Cholesterol  FastingBS RestingECG  \\\n",
       "0   NaN   M           ATA        140          289          0     Normal   \n",
       "1  49.0   F           NAP        160          180          0     Normal   \n",
       "2  37.0   M           ATA        130          283          0         ST   \n",
       "3  48.0   F           ASY        138          214          0     Normal   \n",
       "4  54.0   M           NAP        150          195          0     Normal   \n",
       "\n",
       "   MaxHR ExerciseAngina  Oldpeak ST_Slope  HeartDisease  \n",
       "0    172              N      0.0       Up             0  \n",
       "1    156              N      1.0     Flat             1  \n",
       "2     98              N      0.0       Up             0  \n",
       "3    108              Y      1.5     Flat             1  \n",
       "4    122              N      0.0       Up             0  "
      ]
     },
     "execution_count": 642,
     "metadata": {},
     "output_type": "execute_result"
    }
   ],
   "source": [
    "# show first 5 rows\n",
    "data.head()"
   ]
  },
  {
   "cell_type": "code",
   "execution_count": 643,
   "id": "c0ff5fe0",
   "metadata": {},
   "outputs": [
    {
     "name": "stdout",
     "output_type": "stream",
     "text": [
      "Jumlah nilai yang hilang untuk setiap kolom:\n",
      "Age                7\n",
      "Sex               10\n",
      "ChestPainType      0\n",
      "RestingBP          0\n",
      "Cholesterol        0\n",
      "FastingBS          0\n",
      "RestingECG         0\n",
      "MaxHR              0\n",
      "ExerciseAngina     0\n",
      "Oldpeak            0\n",
      "ST_Slope           0\n",
      "HeartDisease       0\n",
      "dtype: int64\n"
     ]
    }
   ],
   "source": [
    "missing_values = data.isnull().sum()\n",
    "print(\"Jumlah nilai yang hilang untuk setiap kolom:\")\n",
    "print(missing_values)"
   ]
  },
  {
   "cell_type": "code",
   "execution_count": 644,
   "id": "fe3a17eb",
   "metadata": {
    "execution": {
     "iopub.execute_input": "2024-05-31T09:07:36.891302Z",
     "iopub.status.busy": "2024-05-31T09:07:36.890500Z",
     "iopub.status.idle": "2024-05-31T09:07:36.916505Z",
     "shell.execute_reply": "2024-05-31T09:07:36.915306Z"
    },
    "papermill": {
     "duration": 0.041606,
     "end_time": "2024-05-31T09:07:36.918971",
     "exception": false,
     "start_time": "2024-05-31T09:07:36.877365",
     "status": "completed"
    },
    "tags": []
   },
   "outputs": [
    {
     "name": "stdout",
     "output_type": "stream",
     "text": [
      "<class 'pandas.core.frame.DataFrame'>\n",
      "RangeIndex: 918 entries, 0 to 917\n",
      "Data columns (total 12 columns):\n",
      " #   Column          Non-Null Count  Dtype  \n",
      "---  ------          --------------  -----  \n",
      " 0   Age             911 non-null    float64\n",
      " 1   Sex             908 non-null    object \n",
      " 2   ChestPainType   918 non-null    object \n",
      " 3   RestingBP       918 non-null    int64  \n",
      " 4   Cholesterol     918 non-null    int64  \n",
      " 5   FastingBS       918 non-null    int64  \n",
      " 6   RestingECG      918 non-null    object \n",
      " 7   MaxHR           918 non-null    int64  \n",
      " 8   ExerciseAngina  918 non-null    object \n",
      " 9   Oldpeak         918 non-null    float64\n",
      " 10  ST_Slope        918 non-null    object \n",
      " 11  HeartDisease    918 non-null    int64  \n",
      "dtypes: float64(2), int64(5), object(5)\n",
      "memory usage: 86.2+ KB\n"
     ]
    }
   ],
   "source": [
    "data.info()"
   ]
  },
  {
   "cell_type": "code",
   "execution_count": 645,
   "id": "80299a09",
   "metadata": {},
   "outputs": [
    {
     "data": {
      "text/html": [
       "<div>\n",
       "<style scoped>\n",
       "    .dataframe tbody tr th:only-of-type {\n",
       "        vertical-align: middle;\n",
       "    }\n",
       "\n",
       "    .dataframe tbody tr th {\n",
       "        vertical-align: top;\n",
       "    }\n",
       "\n",
       "    .dataframe thead th {\n",
       "        text-align: right;\n",
       "    }\n",
       "</style>\n",
       "<table border=\"1\" class=\"dataframe\">\n",
       "  <thead>\n",
       "    <tr style=\"text-align: right;\">\n",
       "      <th></th>\n",
       "      <th>Age</th>\n",
       "      <th>RestingBP</th>\n",
       "      <th>Cholesterol</th>\n",
       "      <th>FastingBS</th>\n",
       "      <th>MaxHR</th>\n",
       "      <th>Oldpeak</th>\n",
       "      <th>HeartDisease</th>\n",
       "    </tr>\n",
       "  </thead>\n",
       "  <tbody>\n",
       "    <tr>\n",
       "      <th>count</th>\n",
       "      <td>911.000000</td>\n",
       "      <td>918.000000</td>\n",
       "      <td>918.000000</td>\n",
       "      <td>918.000000</td>\n",
       "      <td>918.000000</td>\n",
       "      <td>918.000000</td>\n",
       "      <td>918.000000</td>\n",
       "    </tr>\n",
       "    <tr>\n",
       "      <th>mean</th>\n",
       "      <td>54.102086</td>\n",
       "      <td>132.396514</td>\n",
       "      <td>198.799564</td>\n",
       "      <td>0.233115</td>\n",
       "      <td>136.809368</td>\n",
       "      <td>0.887364</td>\n",
       "      <td>0.553377</td>\n",
       "    </tr>\n",
       "    <tr>\n",
       "      <th>std</th>\n",
       "      <td>12.988393</td>\n",
       "      <td>18.514154</td>\n",
       "      <td>109.384145</td>\n",
       "      <td>0.423046</td>\n",
       "      <td>25.460334</td>\n",
       "      <td>1.066570</td>\n",
       "      <td>0.497414</td>\n",
       "    </tr>\n",
       "    <tr>\n",
       "      <th>min</th>\n",
       "      <td>0.000000</td>\n",
       "      <td>0.000000</td>\n",
       "      <td>0.000000</td>\n",
       "      <td>0.000000</td>\n",
       "      <td>60.000000</td>\n",
       "      <td>-2.600000</td>\n",
       "      <td>0.000000</td>\n",
       "    </tr>\n",
       "    <tr>\n",
       "      <th>25%</th>\n",
       "      <td>47.000000</td>\n",
       "      <td>120.000000</td>\n",
       "      <td>173.250000</td>\n",
       "      <td>0.000000</td>\n",
       "      <td>120.000000</td>\n",
       "      <td>0.000000</td>\n",
       "      <td>0.000000</td>\n",
       "    </tr>\n",
       "    <tr>\n",
       "      <th>50%</th>\n",
       "      <td>54.000000</td>\n",
       "      <td>130.000000</td>\n",
       "      <td>223.000000</td>\n",
       "      <td>0.000000</td>\n",
       "      <td>138.000000</td>\n",
       "      <td>0.600000</td>\n",
       "      <td>1.000000</td>\n",
       "    </tr>\n",
       "    <tr>\n",
       "      <th>75%</th>\n",
       "      <td>60.000000</td>\n",
       "      <td>140.000000</td>\n",
       "      <td>267.000000</td>\n",
       "      <td>0.000000</td>\n",
       "      <td>156.000000</td>\n",
       "      <td>1.500000</td>\n",
       "      <td>1.000000</td>\n",
       "    </tr>\n",
       "    <tr>\n",
       "      <th>max</th>\n",
       "      <td>177.000000</td>\n",
       "      <td>200.000000</td>\n",
       "      <td>603.000000</td>\n",
       "      <td>1.000000</td>\n",
       "      <td>202.000000</td>\n",
       "      <td>6.200000</td>\n",
       "      <td>1.000000</td>\n",
       "    </tr>\n",
       "  </tbody>\n",
       "</table>\n",
       "</div>"
      ],
      "text/plain": [
       "              Age   RestingBP  Cholesterol   FastingBS       MaxHR  \\\n",
       "count  911.000000  918.000000   918.000000  918.000000  918.000000   \n",
       "mean    54.102086  132.396514   198.799564    0.233115  136.809368   \n",
       "std     12.988393   18.514154   109.384145    0.423046   25.460334   \n",
       "min      0.000000    0.000000     0.000000    0.000000   60.000000   \n",
       "25%     47.000000  120.000000   173.250000    0.000000  120.000000   \n",
       "50%     54.000000  130.000000   223.000000    0.000000  138.000000   \n",
       "75%     60.000000  140.000000   267.000000    0.000000  156.000000   \n",
       "max    177.000000  200.000000   603.000000    1.000000  202.000000   \n",
       "\n",
       "          Oldpeak  HeartDisease  \n",
       "count  918.000000    918.000000  \n",
       "mean     0.887364      0.553377  \n",
       "std      1.066570      0.497414  \n",
       "min     -2.600000      0.000000  \n",
       "25%      0.000000      0.000000  \n",
       "50%      0.600000      1.000000  \n",
       "75%      1.500000      1.000000  \n",
       "max      6.200000      1.000000  "
      ]
     },
     "execution_count": 645,
     "metadata": {},
     "output_type": "execute_result"
    }
   ],
   "source": [
    "data.describe()"
   ]
  },
  {
   "cell_type": "code",
   "execution_count": 646,
   "id": "9d9da6d2",
   "metadata": {},
   "outputs": [
    {
     "data": {
      "image/png": "[encoded data removed]",
      "text/plain": [
       "<Figure size 1400x1000 with 3 Axes>"
      ]
     },
     "metadata": {},
     "output_type": "display_data"
    },
    {
     "data": {
      "image/png": "[encoded data removed]",
      "text/plain": [
       "<Figure size 1400x600 with 2 Axes>"
      ]
     },
     "metadata": {},
     "output_type": "display_data"
    }
   ],
   "source": [
    "plt.figure(1,figsize=(14,10))\n",
    "\n",
    "## Age\n",
    "\n",
    "plt.subplot(331)\n",
    "sns.distplot(data.Age, bins = 25)\n",
    "\n",
    "## Blood Pressure in mm Hg\n",
    "\n",
    "plt.subplot(332)\n",
    "sns.distplot(data.RestingBP)\n",
    "\n",
    "## Cholesterol in mm/dl\n",
    "\n",
    "plt.subplot(333)\n",
    "sns.distplot(data.Cholesterol)\n",
    "\n",
    "\n",
    "plt.tight_layout()\n",
    "plt.show()\n",
    "\n",
    "plt.figure(2,figsize=(14,6))\n",
    "\n",
    "## MaxHR - Heart Rate can be between 60 - 202\n",
    "\n",
    "plt.subplot(221)\n",
    "sns.distplot(data.MaxHR)\n",
    "\n",
    "## OldPeak  Numerical value in depression\n",
    "\n",
    "plt.subplot(222)\n",
    "sns.distplot(data.Oldpeak)\n",
    "\n",
    "plt.tight_layout()\n",
    "plt.show()"
   ]
  },
  {
   "cell_type": "markdown",
   "id": "ac235488",
   "metadata": {},
   "source": [
    "Terdapat puncak dekat '0' untuk Tingkat Kolesterol yang diukur dalam mm/dl. Oleh karena itu, kita akan menggantinya dengan nilai rata-rata daripada nilai maksimum atau minimum (selain dari 0) agar distribusi keseluruhan tidak terpengaruh."
   ]
  },
  {
   "cell_type": "code",
   "execution_count": 647,
   "id": "27c9edc1",
   "metadata": {},
   "outputs": [
    {
     "name": "stdout",
     "output_type": "stream",
     "text": [
      "No. of rows having Cholesterol value as 0: 172\n"
     ]
    }
   ],
   "source": [
    "## finding no. of cholesterol values which are marked as 0\n",
    "\n",
    "zero_Cholesterol = len(data[data.Cholesterol == 0])\n",
    "print(\"No. of rows having Cholesterol value as 0:\", zero_Cholesterol)"
   ]
  },
  {
   "cell_type": "code",
   "execution_count": 648,
   "id": "6b29700b",
   "metadata": {},
   "outputs": [
    {
     "name": "stdout",
     "output_type": "stream",
     "text": [
      "237.0\n"
     ]
    }
   ],
   "source": [
    "median = data[data['Cholesterol'] != 0]['Cholesterol'].median()\n",
    "print(median)"
   ]
  },
  {
   "cell_type": "code",
   "execution_count": 649,
   "id": "b1a508e1",
   "metadata": {},
   "outputs": [
    {
     "name": "stdout",
     "output_type": "stream",
     "text": [
      "No. of rows having Cholesterol value as '0' after replacing '0s' with mean: 0\n"
     ]
    }
   ],
   "source": [
    "## replacing 0 values with avg\n",
    "data.loc[data.Cholesterol == 0,\"Cholesterol\"] = median\n",
    "\n",
    "## confirming 0 is replaced\n",
    "\n",
    "zero_Cholesterol = len(data[data.Cholesterol == 0])\n",
    "print(\"No. of rows having Cholesterol value as '0' after replacing '0s' with mean:\", zero_Cholesterol)"
   ]
  },
  {
   "cell_type": "code",
   "execution_count": 650,
   "id": "401bf04a",
   "metadata": {},
   "outputs": [
    {
     "name": "stdout",
     "output_type": "stream",
     "text": [
      "No. of rows having Cholesterol value as 0: 0\n"
     ]
    }
   ],
   "source": [
    "## finding no. of cholesterol values which are marked as 0\n",
    "\n",
    "zero_Cholesterol = len(data[data.Cholesterol == 0])\n",
    "print(\"No. of rows having Cholesterol value as 0:\", zero_Cholesterol)"
   ]
  },
  {
   "cell_type": "code",
   "execution_count": 651,
   "id": "844fabf4",
   "metadata": {
    "execution": {
     "iopub.execute_input": "2024-05-31T09:07:36.944773Z",
     "iopub.status.busy": "2024-05-31T09:07:36.943739Z",
     "iopub.status.idle": "2024-05-31T09:07:36.949402Z",
     "shell.execute_reply": "2024-05-31T09:07:36.948612Z"
    },
    "papermill": {
     "duration": 0.020433,
     "end_time": "2024-05-31T09:07:36.951261",
     "exception": false,
     "start_time": "2024-05-31T09:07:36.930828",
     "status": "completed"
    },
    "tags": []
   },
   "outputs": [
    {
     "data": {
      "text/plain": [
       "(918, 12)"
      ]
     },
     "execution_count": 651,
     "metadata": {},
     "output_type": "execute_result"
    }
   ],
   "source": [
    "data.shape"
   ]
  },
  {
   "cell_type": "code",
   "execution_count": 652,
   "id": "78101ca8",
   "metadata": {
    "execution": {
     "iopub.execute_input": "2024-05-31T09:07:36.976846Z",
     "iopub.status.busy": "2024-05-31T09:07:36.976197Z",
     "iopub.status.idle": "2024-05-31T09:07:36.984854Z",
     "shell.execute_reply": "2024-05-31T09:07:36.983719Z"
    },
    "papermill": {
     "duration": 0.023849,
     "end_time": "2024-05-31T09:07:36.986889",
     "exception": false,
     "start_time": "2024-05-31T09:07:36.963040",
     "status": "completed"
    },
    "tags": []
   },
   "outputs": [
    {
     "data": {
      "text/plain": [
       "Age                7\n",
       "Sex               10\n",
       "ChestPainType      0\n",
       "RestingBP          0\n",
       "Cholesterol        0\n",
       "FastingBS          0\n",
       "RestingECG         0\n",
       "MaxHR              0\n",
       "ExerciseAngina     0\n",
       "Oldpeak            0\n",
       "ST_Slope           0\n",
       "HeartDisease       0\n",
       "dtype: int64"
      ]
     },
     "execution_count": 652,
     "metadata": {},
     "output_type": "execute_result"
    }
   ],
   "source": [
    "data.isna().sum()"
   ]
  },
  {
   "cell_type": "code",
   "execution_count": 653,
   "id": "7cf639cd",
   "metadata": {
    "execution": {
     "iopub.execute_input": "2024-05-31T09:07:37.014984Z",
     "iopub.status.busy": "2024-05-31T09:07:37.014206Z",
     "iopub.status.idle": "2024-05-31T09:07:37.042482Z",
     "shell.execute_reply": "2024-05-31T09:07:37.041726Z"
    },
    "papermill": {
     "duration": 0.043266,
     "end_time": "2024-05-31T09:07:37.044439",
     "exception": false,
     "start_time": "2024-05-31T09:07:37.001173",
     "status": "completed"
    },
    "tags": []
   },
   "outputs": [
    {
     "data": {
      "text/html": [
       "<div>\n",
       "<style scoped>\n",
       "    .dataframe tbody tr th:only-of-type {\n",
       "        vertical-align: middle;\n",
       "    }\n",
       "\n",
       "    .dataframe tbody tr th {\n",
       "        vertical-align: top;\n",
       "    }\n",
       "\n",
       "    .dataframe thead th {\n",
       "        text-align: right;\n",
       "    }\n",
       "</style>\n",
       "<table border=\"1\" class=\"dataframe\">\n",
       "  <thead>\n",
       "    <tr style=\"text-align: right;\">\n",
       "      <th></th>\n",
       "      <th>Age</th>\n",
       "      <th>RestingBP</th>\n",
       "      <th>Cholesterol</th>\n",
       "      <th>FastingBS</th>\n",
       "      <th>MaxHR</th>\n",
       "      <th>Oldpeak</th>\n",
       "      <th>HeartDisease</th>\n",
       "    </tr>\n",
       "  </thead>\n",
       "  <tbody>\n",
       "    <tr>\n",
       "      <th>count</th>\n",
       "      <td>911.000000</td>\n",
       "      <td>918.000000</td>\n",
       "      <td>918.000000</td>\n",
       "      <td>918.000000</td>\n",
       "      <td>918.000000</td>\n",
       "      <td>918.000000</td>\n",
       "      <td>918.000000</td>\n",
       "    </tr>\n",
       "    <tr>\n",
       "      <th>mean</th>\n",
       "      <td>54.102086</td>\n",
       "      <td>132.396514</td>\n",
       "      <td>243.204793</td>\n",
       "      <td>0.233115</td>\n",
       "      <td>136.809368</td>\n",
       "      <td>0.887364</td>\n",
       "      <td>0.553377</td>\n",
       "    </tr>\n",
       "    <tr>\n",
       "      <th>std</th>\n",
       "      <td>12.988393</td>\n",
       "      <td>18.514154</td>\n",
       "      <td>53.401297</td>\n",
       "      <td>0.423046</td>\n",
       "      <td>25.460334</td>\n",
       "      <td>1.066570</td>\n",
       "      <td>0.497414</td>\n",
       "    </tr>\n",
       "    <tr>\n",
       "      <th>min</th>\n",
       "      <td>0.000000</td>\n",
       "      <td>0.000000</td>\n",
       "      <td>85.000000</td>\n",
       "      <td>0.000000</td>\n",
       "      <td>60.000000</td>\n",
       "      <td>-2.600000</td>\n",
       "      <td>0.000000</td>\n",
       "    </tr>\n",
       "    <tr>\n",
       "      <th>25%</th>\n",
       "      <td>47.000000</td>\n",
       "      <td>120.000000</td>\n",
       "      <td>214.000000</td>\n",
       "      <td>0.000000</td>\n",
       "      <td>120.000000</td>\n",
       "      <td>0.000000</td>\n",
       "      <td>0.000000</td>\n",
       "    </tr>\n",
       "    <tr>\n",
       "      <th>50%</th>\n",
       "      <td>54.000000</td>\n",
       "      <td>130.000000</td>\n",
       "      <td>237.000000</td>\n",
       "      <td>0.000000</td>\n",
       "      <td>138.000000</td>\n",
       "      <td>0.600000</td>\n",
       "      <td>1.000000</td>\n",
       "    </tr>\n",
       "    <tr>\n",
       "      <th>75%</th>\n",
       "      <td>60.000000</td>\n",
       "      <td>140.000000</td>\n",
       "      <td>267.000000</td>\n",
       "      <td>0.000000</td>\n",
       "      <td>156.000000</td>\n",
       "      <td>1.500000</td>\n",
       "      <td>1.000000</td>\n",
       "    </tr>\n",
       "    <tr>\n",
       "      <th>max</th>\n",
       "      <td>177.000000</td>\n",
       "      <td>200.000000</td>\n",
       "      <td>603.000000</td>\n",
       "      <td>1.000000</td>\n",
       "      <td>202.000000</td>\n",
       "      <td>6.200000</td>\n",
       "      <td>1.000000</td>\n",
       "    </tr>\n",
       "  </tbody>\n",
       "</table>\n",
       "</div>"
      ],
      "text/plain": [
       "              Age   RestingBP  Cholesterol   FastingBS       MaxHR  \\\n",
       "count  911.000000  918.000000   918.000000  918.000000  918.000000   \n",
       "mean    54.102086  132.396514   243.204793    0.233115  136.809368   \n",
       "std     12.988393   18.514154    53.401297    0.423046   25.460334   \n",
       "min      0.000000    0.000000    85.000000    0.000000   60.000000   \n",
       "25%     47.000000  120.000000   214.000000    0.000000  120.000000   \n",
       "50%     54.000000  130.000000   237.000000    0.000000  138.000000   \n",
       "75%     60.000000  140.000000   267.000000    0.000000  156.000000   \n",
       "max    177.000000  200.000000   603.000000    1.000000  202.000000   \n",
       "\n",
       "          Oldpeak  HeartDisease  \n",
       "count  918.000000    918.000000  \n",
       "mean     0.887364      0.553377  \n",
       "std      1.066570      0.497414  \n",
       "min     -2.600000      0.000000  \n",
       "25%      0.000000      0.000000  \n",
       "50%      0.600000      1.000000  \n",
       "75%      1.500000      1.000000  \n",
       "max      6.200000      1.000000  "
      ]
     },
     "execution_count": 653,
     "metadata": {},
     "output_type": "execute_result"
    }
   ],
   "source": [
    "data.describe()"
   ]
  },
  {
   "cell_type": "code",
   "execution_count": 654,
   "id": "762b12ca",
   "metadata": {
    "execution": {
     "iopub.execute_input": "2024-05-31T09:07:37.071517Z",
     "iopub.status.busy": "2024-05-31T09:07:37.070919Z",
     "iopub.status.idle": "2024-05-31T09:07:37.077940Z",
     "shell.execute_reply": "2024-05-31T09:07:37.077139Z"
    },
    "papermill": {
     "duration": 0.022552,
     "end_time": "2024-05-31T09:07:37.079832",
     "exception": false,
     "start_time": "2024-05-31T09:07:37.057280",
     "status": "completed"
    },
    "tags": []
   },
   "outputs": [
    {
     "data": {
      "text/plain": [
       "0"
      ]
     },
     "execution_count": 654,
     "metadata": {},
     "output_type": "execute_result"
    }
   ],
   "source": [
    "data.duplicated().sum()"
   ]
  },
  {
   "cell_type": "code",
   "execution_count": 655,
   "id": "70a39132",
   "metadata": {},
   "outputs": [],
   "source": [
    "# Menghitung median untuk kolom Age\n",
    "median_age = data['Age'].median()\n",
    "\n",
    "# Hitung modus untuk kolom SEX\n",
    "modus_sex = data['Sex'].mode()[0]\n",
    "\n",
    "# Isi nilai yang hilang dalam kolom SEX dengan modus\n",
    "data['Age'].fillna(median_age, inplace=True)\n",
    "data['Sex'].fillna(modus_sex, inplace=True)"
   ]
  },
  {
   "cell_type": "code",
   "execution_count": 656,
   "id": "5e9b55ad",
   "metadata": {},
   "outputs": [
    {
     "data": {
      "text/plain": [
       "Age               0\n",
       "Sex               0\n",
       "ChestPainType     0\n",
       "RestingBP         0\n",
       "Cholesterol       0\n",
       "FastingBS         0\n",
       "RestingECG        0\n",
       "MaxHR             0\n",
       "ExerciseAngina    0\n",
       "Oldpeak           0\n",
       "ST_Slope          0\n",
       "HeartDisease      0\n",
       "dtype: int64"
      ]
     },
     "execution_count": 656,
     "metadata": {},
     "output_type": "execute_result"
    }
   ],
   "source": [
    "data.isna().sum()"
   ]
  },
  {
   "cell_type": "code",
   "execution_count": 657,
   "id": "d8e55ae5",
   "metadata": {},
   "outputs": [
    {
     "data": {
      "text/html": [
       "<div>\n",
       "<style scoped>\n",
       "    .dataframe tbody tr th:only-of-type {\n",
       "        vertical-align: middle;\n",
       "    }\n",
       "\n",
       "    .dataframe tbody tr th {\n",
       "        vertical-align: top;\n",
       "    }\n",
       "\n",
       "    .dataframe thead th {\n",
       "        text-align: right;\n",
       "    }\n",
       "</style>\n",
       "<table border=\"1\" class=\"dataframe\">\n",
       "  <thead>\n",
       "    <tr style=\"text-align: right;\">\n",
       "      <th></th>\n",
       "      <th>Age</th>\n",
       "      <th>Sex</th>\n",
       "      <th>ChestPainType</th>\n",
       "      <th>RestingBP</th>\n",
       "      <th>Cholesterol</th>\n",
       "      <th>FastingBS</th>\n",
       "      <th>RestingECG</th>\n",
       "      <th>MaxHR</th>\n",
       "      <th>ExerciseAngina</th>\n",
       "      <th>Oldpeak</th>\n",
       "      <th>ST_Slope</th>\n",
       "      <th>HeartDisease</th>\n",
       "    </tr>\n",
       "  </thead>\n",
       "  <tbody>\n",
       "    <tr>\n",
       "      <th>0</th>\n",
       "      <td>54.0</td>\n",
       "      <td>M</td>\n",
       "      <td>ATA</td>\n",
       "      <td>140</td>\n",
       "      <td>289</td>\n",
       "      <td>0</td>\n",
       "      <td>Normal</td>\n",
       "      <td>172</td>\n",
       "      <td>N</td>\n",
       "      <td>0.0</td>\n",
       "      <td>Up</td>\n",
       "      <td>0</td>\n",
       "    </tr>\n",
       "    <tr>\n",
       "      <th>1</th>\n",
       "      <td>49.0</td>\n",
       "      <td>F</td>\n",
       "      <td>NAP</td>\n",
       "      <td>160</td>\n",
       "      <td>180</td>\n",
       "      <td>0</td>\n",
       "      <td>Normal</td>\n",
       "      <td>156</td>\n",
       "      <td>N</td>\n",
       "      <td>1.0</td>\n",
       "      <td>Flat</td>\n",
       "      <td>1</td>\n",
       "    </tr>\n",
       "    <tr>\n",
       "      <th>2</th>\n",
       "      <td>37.0</td>\n",
       "      <td>M</td>\n",
       "      <td>ATA</td>\n",
       "      <td>130</td>\n",
       "      <td>283</td>\n",
       "      <td>0</td>\n",
       "      <td>ST</td>\n",
       "      <td>98</td>\n",
       "      <td>N</td>\n",
       "      <td>0.0</td>\n",
       "      <td>Up</td>\n",
       "      <td>0</td>\n",
       "    </tr>\n",
       "    <tr>\n",
       "      <th>3</th>\n",
       "      <td>48.0</td>\n",
       "      <td>F</td>\n",
       "      <td>ASY</td>\n",
       "      <td>138</td>\n",
       "      <td>214</td>\n",
       "      <td>0</td>\n",
       "      <td>Normal</td>\n",
       "      <td>108</td>\n",
       "      <td>Y</td>\n",
       "      <td>1.5</td>\n",
       "      <td>Flat</td>\n",
       "      <td>1</td>\n",
       "    </tr>\n",
       "    <tr>\n",
       "      <th>4</th>\n",
       "      <td>54.0</td>\n",
       "      <td>M</td>\n",
       "      <td>NAP</td>\n",
       "      <td>150</td>\n",
       "      <td>195</td>\n",
       "      <td>0</td>\n",
       "      <td>Normal</td>\n",
       "      <td>122</td>\n",
       "      <td>N</td>\n",
       "      <td>0.0</td>\n",
       "      <td>Up</td>\n",
       "      <td>0</td>\n",
       "    </tr>\n",
       "  </tbody>\n",
       "</table>\n",
       "</div>"
      ],
      "text/plain": [
       "    Age Sex ChestPainType  RestingBP  Cholesterol  FastingBS RestingECG  \\\n",
       "0  54.0   M           ATA        140          289          0     Normal   \n",
       "1  49.0   F           NAP        160          180          0     Normal   \n",
       "2  37.0   M           ATA        130          283          0         ST   \n",
       "3  48.0   F           ASY        138          214          0     Normal   \n",
       "4  54.0   M           NAP        150          195          0     Normal   \n",
       "\n",
       "   MaxHR ExerciseAngina  Oldpeak ST_Slope  HeartDisease  \n",
       "0    172              N      0.0       Up             0  \n",
       "1    156              N      1.0     Flat             1  \n",
       "2     98              N      0.0       Up             0  \n",
       "3    108              Y      1.5     Flat             1  \n",
       "4    122              N      0.0       Up             0  "
      ]
     },
     "execution_count": 657,
     "metadata": {},
     "output_type": "execute_result"
    }
   ],
   "source": [
    "data.head()"
   ]
  },
  {
   "cell_type": "code",
   "execution_count": 658,
   "id": "57babdc5",
   "metadata": {},
   "outputs": [
    {
     "name": "stdout",
     "output_type": "stream",
     "text": [
      "Ada nilai 'Down' di kolom ST_Slope.\n"
     ]
    }
   ],
   "source": [
    "if (data['ST_Slope'] == 'Down').any():\n",
    "    print(\"Ada nilai 'Down' di kolom ST_Slope.\")\n",
    "else:\n",
    "    print(\"Tidak ada nilai 'Down' di kolom ST_Slope.\")"
   ]
  },
  {
   "cell_type": "code",
   "execution_count": 659,
   "id": "be12db4f",
   "metadata": {},
   "outputs": [
    {
     "data": {
      "text/html": [
       "<div>\n",
       "<style scoped>\n",
       "    .dataframe tbody tr th:only-of-type {\n",
       "        vertical-align: middle;\n",
       "    }\n",
       "\n",
       "    .dataframe tbody tr th {\n",
       "        vertical-align: top;\n",
       "    }\n",
       "\n",
       "    .dataframe thead th {\n",
       "        text-align: right;\n",
       "    }\n",
       "</style>\n",
       "<table border=\"1\" class=\"dataframe\">\n",
       "  <thead>\n",
       "    <tr style=\"text-align: right;\">\n",
       "      <th></th>\n",
       "      <th>Age</th>\n",
       "      <th>RestingBP</th>\n",
       "      <th>Cholesterol</th>\n",
       "      <th>FastingBS</th>\n",
       "      <th>MaxHR</th>\n",
       "      <th>Oldpeak</th>\n",
       "      <th>HeartDisease</th>\n",
       "    </tr>\n",
       "  </thead>\n",
       "  <tbody>\n",
       "    <tr>\n",
       "      <th>count</th>\n",
       "      <td>918.000000</td>\n",
       "      <td>918.000000</td>\n",
       "      <td>918.000000</td>\n",
       "      <td>918.000000</td>\n",
       "      <td>918.000000</td>\n",
       "      <td>918.000000</td>\n",
       "      <td>918.000000</td>\n",
       "    </tr>\n",
       "    <tr>\n",
       "      <th>mean</th>\n",
       "      <td>54.101307</td>\n",
       "      <td>132.396514</td>\n",
       "      <td>243.204793</td>\n",
       "      <td>0.233115</td>\n",
       "      <td>136.809368</td>\n",
       "      <td>0.887364</td>\n",
       "      <td>0.553377</td>\n",
       "    </tr>\n",
       "    <tr>\n",
       "      <th>std</th>\n",
       "      <td>12.938727</td>\n",
       "      <td>18.514154</td>\n",
       "      <td>53.401297</td>\n",
       "      <td>0.423046</td>\n",
       "      <td>25.460334</td>\n",
       "      <td>1.066570</td>\n",
       "      <td>0.497414</td>\n",
       "    </tr>\n",
       "    <tr>\n",
       "      <th>min</th>\n",
       "      <td>0.000000</td>\n",
       "      <td>0.000000</td>\n",
       "      <td>85.000000</td>\n",
       "      <td>0.000000</td>\n",
       "      <td>60.000000</td>\n",
       "      <td>-2.600000</td>\n",
       "      <td>0.000000</td>\n",
       "    </tr>\n",
       "    <tr>\n",
       "      <th>25%</th>\n",
       "      <td>47.000000</td>\n",
       "      <td>120.000000</td>\n",
       "      <td>214.000000</td>\n",
       "      <td>0.000000</td>\n",
       "      <td>120.000000</td>\n",
       "      <td>0.000000</td>\n",
       "      <td>0.000000</td>\n",
       "    </tr>\n",
       "    <tr>\n",
       "      <th>50%</th>\n",
       "      <td>54.000000</td>\n",
       "      <td>130.000000</td>\n",
       "      <td>237.000000</td>\n",
       "      <td>0.000000</td>\n",
       "      <td>138.000000</td>\n",
       "      <td>0.600000</td>\n",
       "      <td>1.000000</td>\n",
       "    </tr>\n",
       "    <tr>\n",
       "      <th>75%</th>\n",
       "      <td>60.000000</td>\n",
       "      <td>140.000000</td>\n",
       "      <td>267.000000</td>\n",
       "      <td>0.000000</td>\n",
       "      <td>156.000000</td>\n",
       "      <td>1.500000</td>\n",
       "      <td>1.000000</td>\n",
       "    </tr>\n",
       "    <tr>\n",
       "      <th>max</th>\n",
       "      <td>177.000000</td>\n",
       "      <td>200.000000</td>\n",
       "      <td>603.000000</td>\n",
       "      <td>1.000000</td>\n",
       "      <td>202.000000</td>\n",
       "      <td>6.200000</td>\n",
       "      <td>1.000000</td>\n",
       "    </tr>\n",
       "  </tbody>\n",
       "</table>\n",
       "</div>"
      ],
      "text/plain": [
       "              Age   RestingBP  Cholesterol   FastingBS       MaxHR  \\\n",
       "count  918.000000  918.000000   918.000000  918.000000  918.000000   \n",
       "mean    54.101307  132.396514   243.204793    0.233115  136.809368   \n",
       "std     12.938727   18.514154    53.401297    0.423046   25.460334   \n",
       "min      0.000000    0.000000    85.000000    0.000000   60.000000   \n",
       "25%     47.000000  120.000000   214.000000    0.000000  120.000000   \n",
       "50%     54.000000  130.000000   237.000000    0.000000  138.000000   \n",
       "75%     60.000000  140.000000   267.000000    0.000000  156.000000   \n",
       "max    177.000000  200.000000   603.000000    1.000000  202.000000   \n",
       "\n",
       "          Oldpeak  HeartDisease  \n",
       "count  918.000000    918.000000  \n",
       "mean     0.887364      0.553377  \n",
       "std      1.066570      0.497414  \n",
       "min     -2.600000      0.000000  \n",
       "25%      0.000000      0.000000  \n",
       "50%      0.600000      1.000000  \n",
       "75%      1.500000      1.000000  \n",
       "max      6.200000      1.000000  "
      ]
     },
     "execution_count": 659,
     "metadata": {},
     "output_type": "execute_result"
    }
   ],
   "source": [
    "data.describe()"
   ]
  },
  {
   "cell_type": "markdown",
   "id": "763a2346",
   "metadata": {},
   "source": [
    "# 📊 <span style='color:green'><b>Visualisasi Data</b></span>"
   ]
  },
  {
   "cell_type": "code",
   "execution_count": 660,
   "id": "be282564",
   "metadata": {},
   "outputs": [
    {
     "data": {
      "image/png": "[encoded data removed]",
      "text/plain": [
       "<Figure size 1000x600 with 1 Axes>"
      ]
     },
     "metadata": {},
     "output_type": "display_data"
    }
   ],
   "source": [
    "# Distribusi Umur\n",
    "plt.figure(figsize=(10, 6))\n",
    "sns.histplot(data['Age'], bins=10, kde=True, color='green', palette= 'pastel')\n",
    "plt.subplots_adjust(left=0.15, right=0.95, top=0.85, bottom=0.15)\n",
    "\n",
    "# Menggunakan font yang bersih dan sederhana\n",
    "plt.title('Distribusi Umur', fontsize=16, weight='bold')\n",
    "plt.xlabel('Umur', fontsize=14)\n",
    "plt.ylabel('Jumlah', fontsize=14)\n",
    "plt.xticks(fontsize=12)\n",
    "plt.yticks(fontsize=12)\n",
    "\n",
    "# Menampilkan plot\n",
    "plt.show()"
   ]
  },
  {
   "cell_type": "code",
   "execution_count": 661,
   "id": "278103bf",
   "metadata": {},
   "outputs": [
    {
     "data": {
      "image/png": "[encoded data removed]",
      "text/plain": [
       "<Figure size 1000x600 with 1 Axes>"
      ]
     },
     "metadata": {},
     "output_type": "display_data"
    }
   ],
   "source": [
    "# Distribusi Jenis Kelamin\n",
    "plt.figure(figsize=(10, 6))\n",
    "sns.countplot(data=data, x='Sex', palette= 'pastel')\n",
    "\n",
    "# Menambahkan margin yang cukup\n",
    "plt.subplots_adjust(left=0.15, right=0.95, top=0.85, bottom=0.15)\n",
    "\n",
    "# Menggunakan font yang bersih dan sederhana\n",
    "plt.title('Distribusi Jenis Kelamin', fontsize=16, weight='bold')\n",
    "plt.xlabel('Jenis Kelamin', fontsize=14)\n",
    "plt.ylabel('Jumlah', fontsize=14)\n",
    "plt.xticks(fontsize=12)\n",
    "plt.yticks(fontsize=12)\n",
    "\n",
    "# Menampilkan plot\n",
    "plt.show()"
   ]
  },
  {
   "cell_type": "code",
   "execution_count": 662,
   "id": "e296016c",
   "metadata": {},
   "outputs": [
    {
     "data": {
      "image/png": "[encoded data removed]",
      "text/plain": [
       "<Figure size 1200x600 with 2 Axes>"
      ]
     },
     "metadata": {},
     "output_type": "display_data"
    }
   ],
   "source": [
    "# Distribusi Penyakit Jantung\n",
    "\n",
    "fig, axs = plt.subplots(1, 2, figsize=(12, 6))\n",
    "# Plotting pie chart\n",
    "data['HeartDisease'].value_counts().plot(kind='pie', autopct='%1.1f%%', colors=['#9467bd', '#ff9896'], ax=axs[0])\n",
    "axs[0].set_title('HeartDisease')\n",
    "axs[0].set_ylabel('')\n",
    "\n",
    "# Plotting count plot\n",
    "sns.countplot(x='HeartDisease', data=data,palette=['#9467bd', '#ff9896'], ax=axs[1])\n",
    "axs[1].set_xlabel('HeartDisease')\n",
    "axs[1].set_ylabel('Count')\n",
    "\n",
    "plt.tight_layout()  \n",
    "plt.show()"
   ]
  },
  {
   "cell_type": "markdown",
   "id": "6d5e3125",
   "metadata": {},
   "source": [
    "54.6% of the population has heart disease.\n",
    "45.4% of the population does not have heart disease.\n"
   ]
  },
  {
   "cell_type": "code",
   "execution_count": 663,
   "id": "8d995146",
   "metadata": {},
   "outputs": [],
   "source": [
    "# Setting buat plot box dan histogram\n",
    "\n",
    "def plot_box_and_hist(data, column_name, palette=\"Set1\"):\n",
    "    plt.figure(figsize=(16, 6))\n",
    "\n",
    "    plt.subplot(1, 2, 1)\n",
    "    sns.boxplot(x=data[\"HeartDisease\"].map({0: \"normal\", 1: \"heart disease\"}), y=column_name, data=data, palette=palette)\n",
    "    plt.title(f\"Box Plot of {column_name} by heart disease\")\n",
    "\n",
    "    plt.subplot(1, 2, 2)\n",
    "    sns.histplot(data=data, x=column_name, hue=data[\"HeartDisease\"].map({0: \"Normal\", 1: \"heart disease\"}), palette=palette, kde=True)\n",
    "    plt.title(f\"Histogram of {column_name} by heart disease\")\n",
    "\n",
    "    plt.tight_layout()\n",
    "    plt.show()"
   ]
  },
  {
   "cell_type": "code",
   "execution_count": 664,
   "id": "4c3d7c09",
   "metadata": {},
   "outputs": [
    {
     "data": {
      "image/png": "[encoded data removed]",
      "text/plain": [
       "<Figure size 1600x600 with 2 Axes>"
      ]
     },
     "metadata": {},
     "output_type": "display_data"
    }
   ],
   "source": [
    "plot_box_and_hist(data,\"Age\")"
   ]
  },
  {
   "cell_type": "markdown",
   "id": "9dc8ddf0",
   "metadata": {},
   "source": [
    "Usia adalah faktor signifikan dalam prevalensi penyakit jantung, di mana individu yang lebih tua lebih cenderung memiliki penyakit jantung.\n",
    "\n",
    "Bagi mereka yang memiliki penyakit jantung, usia median lebih tinggi dibandingkan dengan mereka yang tidak memiliki.\n",
    "\n",
    "Meskipun penyakit jantung lebih umum terjadi pada kelompok usia yang lebih tua, itu juga mempengaruhi jumlah yang signifikan dari individu yang lebih muda."
   ]
  },
  {
   "cell_type": "code",
   "execution_count": 665,
   "id": "eaa436bf",
   "metadata": {},
   "outputs": [
    {
     "data": {
      "text/plain": [
       "911"
      ]
     },
     "execution_count": 665,
     "metadata": {},
     "output_type": "execute_result"
    }
   ],
   "source": [
    "lower_bound = 1  # Batas bawah umur yang wajar\n",
    "upper_bound = 80  # Batas atas umur yang wajar\n",
    "\n",
    "# Menghapus outlier dari DataFrame\n",
    "data = data[(data['Age'] >= lower_bound) & (data['Age'] <= upper_bound)]\n",
    "data.shape[0]"
   ]
  },
  {
   "cell_type": "code",
   "execution_count": 666,
   "id": "11adab26",
   "metadata": {},
   "outputs": [
    {
     "data": {
      "image/png": "[encoded data removed]",
      "text/plain": [
       "<Figure size 1600x600 with 2 Axes>"
      ]
     },
     "metadata": {},
     "output_type": "display_data"
    }
   ],
   "source": [
    "plot_box_and_hist(data,\"Age\")"
   ]
  },
  {
   "cell_type": "code",
   "execution_count": 667,
   "id": "f7b4cb50",
   "metadata": {},
   "outputs": [],
   "source": [
    "# Menambahkan fitur tekanan darah tinggi\n",
    "data['HighBloodPressure'] = (data['RestingBP'] > 140) | (data['Cholesterol'] > 90)"
   ]
  },
  {
   "cell_type": "code",
   "execution_count": 668,
   "id": "b62e6261",
   "metadata": {},
   "outputs": [
    {
     "data": {
      "text/html": [
       "<div>\n",
       "<style scoped>\n",
       "    .dataframe tbody tr th:only-of-type {\n",
       "        vertical-align: middle;\n",
       "    }\n",
       "\n",
       "    .dataframe tbody tr th {\n",
       "        vertical-align: top;\n",
       "    }\n",
       "\n",
       "    .dataframe thead th {\n",
       "        text-align: right;\n",
       "    }\n",
       "</style>\n",
       "<table border=\"1\" class=\"dataframe\">\n",
       "  <thead>\n",
       "    <tr style=\"text-align: right;\">\n",
       "      <th></th>\n",
       "      <th>Age</th>\n",
       "      <th>Sex</th>\n",
       "      <th>ChestPainType</th>\n",
       "      <th>RestingBP</th>\n",
       "      <th>Cholesterol</th>\n",
       "      <th>FastingBS</th>\n",
       "      <th>RestingECG</th>\n",
       "      <th>MaxHR</th>\n",
       "      <th>ExerciseAngina</th>\n",
       "      <th>Oldpeak</th>\n",
       "      <th>ST_Slope</th>\n",
       "      <th>HeartDisease</th>\n",
       "      <th>HighBloodPressure</th>\n",
       "    </tr>\n",
       "  </thead>\n",
       "  <tbody>\n",
       "    <tr>\n",
       "      <th>0</th>\n",
       "      <td>54.0</td>\n",
       "      <td>M</td>\n",
       "      <td>ATA</td>\n",
       "      <td>140</td>\n",
       "      <td>289</td>\n",
       "      <td>0</td>\n",
       "      <td>Normal</td>\n",
       "      <td>172</td>\n",
       "      <td>N</td>\n",
       "      <td>0.0</td>\n",
       "      <td>Up</td>\n",
       "      <td>0</td>\n",
       "      <td>True</td>\n",
       "    </tr>\n",
       "    <tr>\n",
       "      <th>1</th>\n",
       "      <td>49.0</td>\n",
       "      <td>F</td>\n",
       "      <td>NAP</td>\n",
       "      <td>160</td>\n",
       "      <td>180</td>\n",
       "      <td>0</td>\n",
       "      <td>Normal</td>\n",
       "      <td>156</td>\n",
       "      <td>N</td>\n",
       "      <td>1.0</td>\n",
       "      <td>Flat</td>\n",
       "      <td>1</td>\n",
       "      <td>True</td>\n",
       "    </tr>\n",
       "    <tr>\n",
       "      <th>2</th>\n",
       "      <td>37.0</td>\n",
       "      <td>M</td>\n",
       "      <td>ATA</td>\n",
       "      <td>130</td>\n",
       "      <td>283</td>\n",
       "      <td>0</td>\n",
       "      <td>ST</td>\n",
       "      <td>98</td>\n",
       "      <td>N</td>\n",
       "      <td>0.0</td>\n",
       "      <td>Up</td>\n",
       "      <td>0</td>\n",
       "      <td>True</td>\n",
       "    </tr>\n",
       "    <tr>\n",
       "      <th>3</th>\n",
       "      <td>48.0</td>\n",
       "      <td>F</td>\n",
       "      <td>ASY</td>\n",
       "      <td>138</td>\n",
       "      <td>214</td>\n",
       "      <td>0</td>\n",
       "      <td>Normal</td>\n",
       "      <td>108</td>\n",
       "      <td>Y</td>\n",
       "      <td>1.5</td>\n",
       "      <td>Flat</td>\n",
       "      <td>1</td>\n",
       "      <td>True</td>\n",
       "    </tr>\n",
       "    <tr>\n",
       "      <th>4</th>\n",
       "      <td>54.0</td>\n",
       "      <td>M</td>\n",
       "      <td>NAP</td>\n",
       "      <td>150</td>\n",
       "      <td>195</td>\n",
       "      <td>0</td>\n",
       "      <td>Normal</td>\n",
       "      <td>122</td>\n",
       "      <td>N</td>\n",
       "      <td>0.0</td>\n",
       "      <td>Up</td>\n",
       "      <td>0</td>\n",
       "      <td>True</td>\n",
       "    </tr>\n",
       "  </tbody>\n",
       "</table>\n",
       "</div>"
      ],
      "text/plain": [
       "    Age Sex ChestPainType  RestingBP  Cholesterol  FastingBS RestingECG  \\\n",
       "0  54.0   M           ATA        140          289          0     Normal   \n",
       "1  49.0   F           NAP        160          180          0     Normal   \n",
       "2  37.0   M           ATA        130          283          0         ST   \n",
       "3  48.0   F           ASY        138          214          0     Normal   \n",
       "4  54.0   M           NAP        150          195          0     Normal   \n",
       "\n",
       "   MaxHR ExerciseAngina  Oldpeak ST_Slope  HeartDisease  HighBloodPressure  \n",
       "0    172              N      0.0       Up             0               True  \n",
       "1    156              N      1.0     Flat             1               True  \n",
       "2     98              N      0.0       Up             0               True  \n",
       "3    108              Y      1.5     Flat             1               True  \n",
       "4    122              N      0.0       Up             0               True  "
      ]
     },
     "execution_count": 668,
     "metadata": {},
     "output_type": "execute_result"
    }
   ],
   "source": [
    "data.head()"
   ]
  },
  {
   "cell_type": "markdown",
   "id": "ca6f7fc1",
   "metadata": {
    "papermill": {
     "duration": 0.012777,
     "end_time": "2024-05-31T09:07:37.105371",
     "exception": false,
     "start_time": "2024-05-31T09:07:37.092594",
     "status": "completed"
    },
    "tags": []
   },
   "source": [
    "# 📊 <span style='color:navy'><b>Summary</b></span>\n",
    "\n",
    "- There are 918 entries.\n",
    "- Age ranges from 28 to 77 years old.\n",
    "- There is a significant positive skew in cholesterol with a mean of 198.8 and a median of 223, with a maximum value of 603.\n",
    "- 55% of the patients have heart disease.\n",
    "- There are no null values.\n",
    "- There are no duplicates."
   ]
  },
  {
   "cell_type": "markdown",
   "id": "7f5ef157",
   "metadata": {
    "papermill": {
     "duration": 0.012113,
     "end_time": "2024-05-31T09:07:37.129793",
     "exception": false,
     "start_time": "2024-05-31T09:07:37.117680",
     "status": "completed"
    },
    "tags": []
   },
   "source": [
    "***let split our data***"
   ]
  },
  {
   "cell_type": "code",
   "execution_count": 669,
   "id": "9a5c1784",
   "metadata": {},
   "outputs": [],
   "source": [
    "# Mengubah kolom \"HighBloodPressure\" menjadi nilai numerik\n",
    "data['HighBloodPressure'] = data['HighBloodPressure'].astype(int)"
   ]
  },
  {
   "cell_type": "code",
   "execution_count": 670,
   "id": "7a5523b8",
   "metadata": {},
   "outputs": [
    {
     "name": "stdout",
     "output_type": "stream",
     "text": [
      "[0 1 0 1 0]\n"
     ]
    }
   ],
   "source": [
    "from sklearn.preprocessing import LabelEncoder\n",
    "\n",
    "# Membuat objek LabelEncoder\n",
    "label_encoder = LabelEncoder()\n",
    "\n",
    "# Melakukan pelabelan data pada variabel target\n",
    "y_encoded = label_encoder.fit_transform(data[\"HeartDisease\"])\n",
    "\n",
    "# Menampilkan beberapa baris pertama dari hasil pelabelan data\n",
    "print(y_encoded[:5])\n"
   ]
  },
  {
   "cell_type": "code",
   "execution_count": 671,
   "id": "1f3498d3",
   "metadata": {},
   "outputs": [],
   "source": [
    "# Mengambil kolom dengan tipe data objek atau kategori\n",
    "categorical_features = data.select_dtypes(include=['object']).columns.tolist()"
   ]
  },
  {
   "cell_type": "code",
   "execution_count": 672,
   "id": "bc5ceae7",
   "metadata": {},
   "outputs": [
    {
     "data": {
      "text/html": [
       "<div>\n",
       "<style scoped>\n",
       "    .dataframe tbody tr th:only-of-type {\n",
       "        vertical-align: middle;\n",
       "    }\n",
       "\n",
       "    .dataframe tbody tr th {\n",
       "        vertical-align: top;\n",
       "    }\n",
       "\n",
       "    .dataframe thead th {\n",
       "        text-align: right;\n",
       "    }\n",
       "</style>\n",
       "<table border=\"1\" class=\"dataframe\">\n",
       "  <thead>\n",
       "    <tr style=\"text-align: right;\">\n",
       "      <th></th>\n",
       "      <th>Age</th>\n",
       "      <th>Sex</th>\n",
       "      <th>ChestPainType</th>\n",
       "      <th>RestingBP</th>\n",
       "      <th>Cholesterol</th>\n",
       "      <th>FastingBS</th>\n",
       "      <th>RestingECG</th>\n",
       "      <th>MaxHR</th>\n",
       "      <th>ExerciseAngina</th>\n",
       "      <th>Oldpeak</th>\n",
       "      <th>ST_Slope</th>\n",
       "      <th>HeartDisease</th>\n",
       "      <th>HighBloodPressure</th>\n",
       "    </tr>\n",
       "  </thead>\n",
       "  <tbody>\n",
       "    <tr>\n",
       "      <th>0</th>\n",
       "      <td>54.0</td>\n",
       "      <td>1</td>\n",
       "      <td>1</td>\n",
       "      <td>140</td>\n",
       "      <td>289</td>\n",
       "      <td>0</td>\n",
       "      <td>1</td>\n",
       "      <td>172</td>\n",
       "      <td>0</td>\n",
       "      <td>0.0</td>\n",
       "      <td>2</td>\n",
       "      <td>0</td>\n",
       "      <td>1</td>\n",
       "    </tr>\n",
       "    <tr>\n",
       "      <th>1</th>\n",
       "      <td>49.0</td>\n",
       "      <td>0</td>\n",
       "      <td>2</td>\n",
       "      <td>160</td>\n",
       "      <td>180</td>\n",
       "      <td>0</td>\n",
       "      <td>1</td>\n",
       "      <td>156</td>\n",
       "      <td>0</td>\n",
       "      <td>1.0</td>\n",
       "      <td>1</td>\n",
       "      <td>1</td>\n",
       "      <td>1</td>\n",
       "    </tr>\n",
       "    <tr>\n",
       "      <th>2</th>\n",
       "      <td>37.0</td>\n",
       "      <td>1</td>\n",
       "      <td>1</td>\n",
       "      <td>130</td>\n",
       "      <td>283</td>\n",
       "      <td>0</td>\n",
       "      <td>2</td>\n",
       "      <td>98</td>\n",
       "      <td>0</td>\n",
       "      <td>0.0</td>\n",
       "      <td>2</td>\n",
       "      <td>0</td>\n",
       "      <td>1</td>\n",
       "    </tr>\n",
       "    <tr>\n",
       "      <th>3</th>\n",
       "      <td>48.0</td>\n",
       "      <td>0</td>\n",
       "      <td>0</td>\n",
       "      <td>138</td>\n",
       "      <td>214</td>\n",
       "      <td>0</td>\n",
       "      <td>1</td>\n",
       "      <td>108</td>\n",
       "      <td>1</td>\n",
       "      <td>1.5</td>\n",
       "      <td>1</td>\n",
       "      <td>1</td>\n",
       "      <td>1</td>\n",
       "    </tr>\n",
       "    <tr>\n",
       "      <th>4</th>\n",
       "      <td>54.0</td>\n",
       "      <td>1</td>\n",
       "      <td>2</td>\n",
       "      <td>150</td>\n",
       "      <td>195</td>\n",
       "      <td>0</td>\n",
       "      <td>1</td>\n",
       "      <td>122</td>\n",
       "      <td>0</td>\n",
       "      <td>0.0</td>\n",
       "      <td>2</td>\n",
       "      <td>0</td>\n",
       "      <td>1</td>\n",
       "    </tr>\n",
       "  </tbody>\n",
       "</table>\n",
       "</div>"
      ],
      "text/plain": [
       "    Age  Sex  ChestPainType  RestingBP  Cholesterol  FastingBS  RestingECG  \\\n",
       "0  54.0    1              1        140          289          0           1   \n",
       "1  49.0    0              2        160          180          0           1   \n",
       "2  37.0    1              1        130          283          0           2   \n",
       "3  48.0    0              0        138          214          0           1   \n",
       "4  54.0    1              2        150          195          0           1   \n",
       "\n",
       "   MaxHR  ExerciseAngina  Oldpeak  ST_Slope  HeartDisease  HighBloodPressure  \n",
       "0    172               0      0.0         2             0                  1  \n",
       "1    156               0      1.0         1             1                  1  \n",
       "2     98               0      0.0         2             0                  1  \n",
       "3    108               1      1.5         1             1                  1  \n",
       "4    122               0      0.0         2             0                  1  "
      ]
     },
     "execution_count": 672,
     "metadata": {},
     "output_type": "execute_result"
    }
   ],
   "source": [
    "from sklearn.preprocessing import LabelEncoder\n",
    "\n",
    "# Membuat objek LabelEncoder\n",
    "label_encoder = LabelEncoder()\n",
    "\n",
    "# Melakukan label encoding untuk setiap fitur kategori dalam DataFrame\n",
    "for column in categorical_features:\n",
    "    encoded_values = label_encoder.fit_transform(data[column])\n",
    "    data[column] = encoded_values\n",
    "\n",
    "# Menampilkan beberapa baris pertama dari DataFrame yang sudah di-label encoding\n",
    "data.head()"
   ]
  },
  {
   "cell_type": "code",
   "execution_count": 673,
   "id": "f2f56baa",
   "metadata": {},
   "outputs": [
    {
     "name": "stdout",
     "output_type": "stream",
     "text": [
      "<class 'pandas.core.frame.DataFrame'>\n",
      "Index: 911 entries, 0 to 917\n",
      "Data columns (total 13 columns):\n",
      " #   Column             Non-Null Count  Dtype  \n",
      "---  ------             --------------  -----  \n",
      " 0   Age                911 non-null    float64\n",
      " 1   Sex                911 non-null    int64  \n",
      " 2   ChestPainType      911 non-null    int64  \n",
      " 3   RestingBP          911 non-null    int64  \n",
      " 4   Cholesterol        911 non-null    int64  \n",
      " 5   FastingBS          911 non-null    int64  \n",
      " 6   RestingECG         911 non-null    int64  \n",
      " 7   MaxHR              911 non-null    int64  \n",
      " 8   ExerciseAngina     911 non-null    int64  \n",
      " 9   Oldpeak            911 non-null    float64\n",
      " 10  ST_Slope           911 non-null    int64  \n",
      " 11  HeartDisease       911 non-null    int64  \n",
      " 12  HighBloodPressure  911 non-null    int64  \n",
      "dtypes: float64(2), int64(11)\n",
      "memory usage: 99.6 KB\n"
     ]
    }
   ],
   "source": [
    "data.info()"
   ]
  },
  {
   "cell_type": "code",
   "execution_count": 674,
   "id": "427311d5",
   "metadata": {},
   "outputs": [
    {
     "data": {
      "text/plain": [
       "array([[0.53061224, 1.        , 0.33333333, ..., 1.        , 0.        ,\n",
       "        1.        ],\n",
       "       [0.42857143, 0.        , 0.66666667, ..., 0.5       , 1.        ,\n",
       "        1.        ],\n",
       "       [0.18367347, 1.        , 0.33333333, ..., 1.        , 0.        ,\n",
       "        1.        ],\n",
       "       ...,\n",
       "       [0.59183673, 1.        , 0.        , ..., 0.5       , 1.        ,\n",
       "        1.        ],\n",
       "       [0.59183673, 0.        , 0.33333333, ..., 0.5       , 1.        ,\n",
       "        1.        ],\n",
       "       [0.20408163, 1.        , 0.66666667, ..., 1.        , 0.        ,\n",
       "        1.        ]])"
      ]
     },
     "execution_count": 674,
     "metadata": {},
     "output_type": "execute_result"
    }
   ],
   "source": [
    "# Min-Max Scaling\n",
    "from sklearn.preprocessing import MinMaxScaler\n",
    "\n",
    "scaler_minmax = MinMaxScaler()\n",
    "data_minmax = scaler_minmax.fit_transform(data)\n",
    "data_minmax"
   ]
  },
  {
   "cell_type": "code",
   "execution_count": 675,
   "id": "c36a0f79",
   "metadata": {
    "execution": {
     "iopub.execute_input": "2024-05-31T09:07:37.156517Z",
     "iopub.status.busy": "2024-05-31T09:07:37.155941Z",
     "iopub.status.idle": "2024-05-31T09:07:37.163898Z",
     "shell.execute_reply": "2024-05-31T09:07:37.162805Z"
    },
    "papermill": {
     "duration": 0.024021,
     "end_time": "2024-05-31T09:07:37.166162",
     "exception": false,
     "start_time": "2024-05-31T09:07:37.142141",
     "status": "completed"
    },
    "tags": []
   },
   "outputs": [],
   "source": [
    "X = data.drop(\"HeartDisease\", axis  =1) # Fitur\n",
    "y = data[\"HeartDisease\"] # Targer"
   ]
  },
  {
   "cell_type": "code",
   "execution_count": 676,
   "id": "faa45b62",
   "metadata": {
    "execution": {
     "iopub.execute_input": "2024-05-31T09:07:37.192723Z",
     "iopub.status.busy": "2024-05-31T09:07:37.192160Z",
     "iopub.status.idle": "2024-05-31T09:07:37.201539Z",
     "shell.execute_reply": "2024-05-31T09:07:37.200631Z"
    },
    "papermill": {
     "duration": 0.025147,
     "end_time": "2024-05-31T09:07:37.203642",
     "exception": false,
     "start_time": "2024-05-31T09:07:37.178495",
     "status": "completed"
    },
    "tags": []
   },
   "outputs": [],
   "source": [
    "# Membagi data menjadi data latih dan data uji\n",
    "X_train, X_test, y_train, y_test = train_test_split(X, y, test_size=0.2, random_state=42)"
   ]
  },
  {
   "cell_type": "markdown",
   "id": "4202abac",
   "metadata": {
    "papermill": {
     "duration": 0.032882,
     "end_time": "2024-05-31T09:07:45.844973",
     "exception": false,
     "start_time": "2024-05-31T09:07:45.812091",
     "status": "completed"
    },
    "tags": []
   },
   "source": [
    "# 🛠️ <span style='color:purple'> <b> Modelling </b></span>"
   ]
  },
  {
   "cell_type": "code",
   "execution_count": 677,
   "id": "0b9479c7",
   "metadata": {},
   "outputs": [],
   "source": [
    "import pandas as pd\n",
    "import plotly.graph_objects as go\n",
    "\n",
    "def plot_feature_importance(feature_importance, feature_names, title='Feature Importance', colorscale='viridis'):\n",
    "    # Create a DataFrame for better visualization\n",
    "    feature_importance_df = pd.DataFrame(list(zip(feature_names, feature_importance)), columns=['Feature', 'Importance'])\n",
    "\n",
    "    # Sort DataFrame by Importance\n",
    "    feature_importance_df = feature_importance_df.sort_values(by='Importance', ascending=True)\n",
    "\n",
    "    # Create a bar plot using Plotly with random colors\n",
    "    fig = go.Figure(go.Bar(\n",
    "        x=feature_importance_df['Importance'],\n",
    "        y=feature_importance_df['Feature'],\n",
    "        orientation='h',\n",
    "        marker=dict(color=feature_importance_df['Importance'], colorscale=colorscale, cmin=0, cmax=max(feature_importance_df['Importance']), colorbar=dict(title='Importance')),\n",
    "    ))\n",
    "\n",
    "    fig.update_layout(\n",
    "        title=title,\n",
    "        xaxis=dict(title='Importance'),\n",
    "        yaxis=dict(title='Feature'),\n",
    "        height=600,\n",
    "        width=1000,\n",
    "    )\n",
    "\n",
    "    fig.show()"
   ]
  },
  {
   "cell_type": "code",
   "execution_count": 678,
   "id": "020a535c",
   "metadata": {},
   "outputs": [
    {
     "name": "stdout",
     "output_type": "stream",
     "text": [
      "Accuracy: 0.86\n",
      "F1 Score: 0.89\n"
     ]
    }
   ],
   "source": [
    "from catboost import CatBoostClassifier\n",
    "\n",
    "# Membuat model CatBoostClassifier\n",
    "catboost_model = CatBoostClassifier(iterations=1000,\n",
    "                                    random_seed=42,\n",
    "                                    verbose=False)\n",
    "\n",
    "# Melatih model pada data latih\n",
    "catboost_model.fit(X_train, y_train)\n",
    "\n",
    "# Melakukan prediksi pada data uji\n",
    "y_pred = catboost_model.predict(X_test)\n",
    "\n",
    "# Evaluasi performa model\n",
    "accuracy = accuracy_score(y_test, y_pred)\n",
    "f1 = f1_score(y_test, y_pred)  # Menghitung F1 Score\n",
    "print(f'Accuracy: {accuracy:.2f}')\n",
    "print(f'F1 Score: {f1:.2f}')"
   ]
  },
  {
   "cell_type": "code",
   "execution_count": 679,
   "id": "4ec32954",
   "metadata": {},
   "outputs": [
    {
     "data": {
      "application/vnd.plotly.v1+json": {
       "config": {
        "plotlyServerURL": "https://plot.ly"
       },
       "data": [
        {
         "marker": {
          "cmax": 21.42721408180919,
          "cmin": 0,
          "color": [
           0,
           4.407616867139717,
           4.889399582711708,
           5.209649567870642,
           6.166627054006755,
           7.254021446774121,
           8.530529659267591,
           9.31293655767459,
           9.349743241562502,
           11.569690846548003,
           11.882571094635187,
           21.42721408180919
          ],
          "colorbar": {
           "title": {
            "text": "Importance"
           }
          },
          "colorscale": [
           [
            0,
            "#440154"
           ],
           [
            0.1111111111111111,
            "#482878"
           ],
           [
            0.2222222222222222,
            "#3e4989"
           ],
           [
            0.3333333333333333,
            "#31688e"
           ],
           [
            0.4444444444444444,
            "#26828e"
           ],
           [
            0.5555555555555556,
            "#1f9e89"
           ],
           [
            0.6666666666666666,
            "#35b779"
           ],
           [
            0.7777777777777778,
            "#6ece58"
           ],
           [
            0.8888888888888888,
            "#b5de2b"
           ],
           [
            1,
            "#fde725"
           ]
          ]
         },
         "orientation": "h",
         "type": "bar",
         "x": [
          0,
          4.407616867139717,
          4.889399582711708,
          5.209649567870642,
          6.166627054006755,
          7.254021446774121,
          8.530529659267591,
          9.31293655767459,
          9.349743241562502,
          11.569690846548003,
          11.882571094635187,
          21.42721408180919
         ],
         "y": [
          "HighBloodPressure",
          "FastingBS",
          "RestingECG",
          "ExerciseAngina",
          "Sex",
          "Age",
          "RestingBP",
          "MaxHR",
          "Cholesterol",
          "ChestPainType",
          "Oldpeak",
          "ST_Slope"
         ]
        }
       ],
       "layout": {
        "height": 600,
        "template": {
         "data": {
          "bar": [
           {
            "error_x": {
             "color": "#2a3f5f"
            },
            "error_y": {
             "color": "#2a3f5f"
            },
            "marker": {
             "line": {
              "color": "#E5ECF6",
              "width": 0.5
             },
             "pattern": {
              "fillmode": "overlay",
              "size": 10,
              "solidity": 0.2
             }
            },
            "type": "bar"
           }
          ],
          "barpolar": [
           {
            "marker": {
             "line": {
              "color": "#E5ECF6",
              "width": 0.5
             },
             "pattern": {
              "fillmode": "overlay",
              "size": 10,
              "solidity": 0.2
             }
            },
            "type": "barpolar"
           }
          ],
          "carpet": [
           {
            "aaxis": {
             "endlinecolor": "#2a3f5f",
             "gridcolor": "white",
             "linecolor": "white",
             "minorgridcolor": "white",
             "startlinecolor": "#2a3f5f"
            },
            "baxis": {
             "endlinecolor": "#2a3f5f",
             "gridcolor": "white",
             "linecolor": "white",
             "minorgridcolor": "white",
             "startlinecolor": "#2a3f5f"
            },
            "type": "carpet"
           }
          ],
          "choropleth": [
           {
            "colorbar": {
             "outlinewidth": 0,
             "ticks": ""
            },
            "type": "choropleth"
           }
          ],
          "contour": [
           {
            "colorbar": {
             "outlinewidth": 0,
             "ticks": ""
            },
            "colorscale": [
             [
              0,
              "#0d0887"
             ],
             [
              0.1111111111111111,
              "#46039f"
             ],
             [
              0.2222222222222222,
              "#7201a8"
             ],
             [
              0.3333333333333333,
              "#9c179e"
             ],
             [
              0.4444444444444444,
              "#bd3786"
             ],
             [
              0.5555555555555556,
              "#d8576b"
             ],
             [
              0.6666666666666666,
              "#ed7953"
             ],
             [
              0.7777777777777778,
              "#fb9f3a"
             ],
             [
              0.8888888888888888,
              "#fdca26"
             ],
             [
              1,
              "#f0f921"
             ]
            ],
            "type": "contour"
           }
          ],
          "contourcarpet": [
           {
            "colorbar": {
             "outlinewidth": 0,
             "ticks": ""
            },
            "type": "contourcarpet"
           }
          ],
          "heatmap": [
           {
            "colorbar": {
             "outlinewidth": 0,
             "ticks": ""
            },
            "colorscale": [
             [
              0,
              "#0d0887"
             ],
             [
              0.1111111111111111,
              "#46039f"
             ],
             [
              0.2222222222222222,
              "#7201a8"
             ],
             [
              0.3333333333333333,
              "#9c179e"
             ],
             [
              0.4444444444444444,
              "#bd3786"
             ],
             [
              0.5555555555555556,
              "#d8576b"
             ],
             [
              0.6666666666666666,
              "#ed7953"
             ],
             [
              0.7777777777777778,
              "#fb9f3a"
             ],
             [
              0.8888888888888888,
              "#fdca26"
             ],
             [
              1,
              "#f0f921"
             ]
            ],
            "type": "heatmap"
           }
          ],
          "heatmapgl": [
           {
            "colorbar": {
             "outlinewidth": 0,
             "ticks": ""
            },
            "colorscale": [
             [
              0,
              "#0d0887"
             ],
             [
              0.1111111111111111,
              "#46039f"
             ],
             [
              0.2222222222222222,
              "#7201a8"
             ],
             [
              0.3333333333333333,
              "#9c179e"
             ],
             [
              0.4444444444444444,
              "#bd3786"
             ],
             [
              0.5555555555555556,
              "#d8576b"
             ],
             [
              0.6666666666666666,
              "#ed7953"
             ],
             [
              0.7777777777777778,
              "#fb9f3a"
             ],
             [
              0.8888888888888888,
              "#fdca26"
             ],
             [
              1,
              "#f0f921"
             ]
            ],
            "type": "heatmapgl"
           }
          ],
          "histogram": [
           {
            "marker": {
             "pattern": {
              "fillmode": "overlay",
              "size": 10,
              "solidity": 0.2
             }
            },
            "type": "histogram"
           }
          ],
          "histogram2d": [
           {
            "colorbar": {
             "outlinewidth": 0,
             "ticks": ""
            },
            "colorscale": [
             [
              0,
              "#0d0887"
             ],
             [
              0.1111111111111111,
              "#46039f"
             ],
             [
              0.2222222222222222,
              "#7201a8"
             ],
             [
              0.3333333333333333,
              "#9c179e"
             ],
             [
              0.4444444444444444,
              "#bd3786"
             ],
             [
              0.5555555555555556,
              "#d8576b"
             ],
             [
              0.6666666666666666,
              "#ed7953"
             ],
             [
              0.7777777777777778,
              "#fb9f3a"
             ],
             [
              0.8888888888888888,
              "#fdca26"
             ],
             [
              1,
              "#f0f921"
             ]
            ],
            "type": "histogram2d"
           }
          ],
          "histogram2dcontour": [
           {
            "colorbar": {
             "outlinewidth": 0,
             "ticks": ""
            },
            "colorscale": [
             [
              0,
              "#0d0887"
             ],
             [
              0.1111111111111111,
              "#46039f"
             ],
             [
              0.2222222222222222,
              "#7201a8"
             ],
             [
              0.3333333333333333,
              "#9c179e"
             ],
             [
              0.4444444444444444,
              "#bd3786"
             ],
             [
              0.5555555555555556,
              "#d8576b"
             ],
             [
              0.6666666666666666,
              "#ed7953"
             ],
             [
              0.7777777777777778,
              "#fb9f3a"
             ],
             [
              0.8888888888888888,
              "#fdca26"
             ],
             [
              1,
              "#f0f921"
             ]
            ],
            "type": "histogram2dcontour"
           }
          ],
          "mesh3d": [
           {
            "colorbar": {
             "outlinewidth": 0,
             "ticks": ""
            },
            "type": "mesh3d"
           }
          ],
          "parcoords": [
           {
            "line": {
             "colorbar": {
              "outlinewidth": 0,
              "ticks": ""
             }
            },
            "type": "parcoords"
           }
          ],
          "pie": [
           {
            "automargin": true,
            "type": "pie"
           }
          ],
          "scatter": [
           {
            "fillpattern": {
             "fillmode": "overlay",
             "size": 10,
             "solidity": 0.2
            },
            "type": "scatter"
           }
          ],
          "scatter3d": [
           {
            "line": {
             "colorbar": {
              "outlinewidth": 0,
              "ticks": ""
             }
            },
            "marker": {
             "colorbar": {
              "outlinewidth": 0,
              "ticks": ""
             }
            },
            "type": "scatter3d"
           }
          ],
          "scattercarpet": [
           {
            "marker": {
             "colorbar": {
              "outlinewidth": 0,
              "ticks": ""
             }
            },
            "type": "scattercarpet"
           }
          ],
          "scattergeo": [
           {
            "marker": {
             "colorbar": {
              "outlinewidth": 0,
              "ticks": ""
             }
            },
            "type": "scattergeo"
           }
          ],
          "scattergl": [
           {
            "marker": {
             "colorbar": {
              "outlinewidth": 0,
              "ticks": ""
             }
            },
            "type": "scattergl"
           }
          ],
          "scattermapbox": [
           {
            "marker": {
             "colorbar": {
              "outlinewidth": 0,
              "ticks": ""
             }
            },
            "type": "scattermapbox"
           }
          ],
          "scatterpolar": [
           {
            "marker": {
             "colorbar": {
              "outlinewidth": 0,
              "ticks": ""
             }
            },
            "type": "scatterpolar"
           }
          ],
          "scatterpolargl": [
           {
            "marker": {
             "colorbar": {
              "outlinewidth": 0,
              "ticks": ""
             }
            },
            "type": "scatterpolargl"
           }
          ],
          "scatterternary": [
           {
            "marker": {
             "colorbar": {
              "outlinewidth": 0,
              "ticks": ""
             }
            },
            "type": "scatterternary"
           }
          ],
          "surface": [
           {
            "colorbar": {
             "outlinewidth": 0,
             "ticks": ""
            },
            "colorscale": [
             [
              0,
              "#0d0887"
             ],
             [
              0.1111111111111111,
              "#46039f"
             ],
             [
              0.2222222222222222,
              "#7201a8"
             ],
             [
              0.3333333333333333,
              "#9c179e"
             ],
             [
              0.4444444444444444,
              "#bd3786"
             ],
             [
              0.5555555555555556,
              "#d8576b"
             ],
             [
              0.6666666666666666,
              "#ed7953"
             ],
             [
              0.7777777777777778,
              "#fb9f3a"
             ],
             [
              0.8888888888888888,
              "#fdca26"
             ],
             [
              1,
              "#f0f921"
             ]
            ],
            "type": "surface"
           }
          ],
          "table": [
           {
            "cells": {
             "fill": {
              "color": "#EBF0F8"
             },
             "line": {
              "color": "white"
             }
            },
            "header": {
             "fill": {
              "color": "#C8D4E3"
             },
             "line": {
              "color": "white"
             }
            },
            "type": "table"
           }
          ]
         },
         "layout": {
          "annotationdefaults": {
           "arrowcolor": "#2a3f5f",
           "arrowhead": 0,
           "arrowwidth": 1
          },
          "autotypenumbers": "strict",
          "coloraxis": {
           "colorbar": {
            "outlinewidth": 0,
            "ticks": ""
           }
          },
          "colorscale": {
           "diverging": [
            [
             0,
             "#8e0152"
            ],
            [
             0.1,
             "#c51b7d"
            ],
            [
             0.2,
             "#de77ae"
            ],
            [
             0.3,
             "#f1b6da"
            ],
            [
             0.4,
             "#fde0ef"
            ],
            [
             0.5,
             "#f7f7f7"
            ],
            [
             0.6,
             "#e6f5d0"
            ],
            [
             0.7,
             "#b8e186"
            ],
            [
             0.8,
             "#7fbc41"
            ],
            [
             0.9,
             "#4d9221"
            ],
            [
             1,
             "#276419"
            ]
           ],
           "sequential": [
            [
             0,
             "#0d0887"
            ],
            [
             0.1111111111111111,
             "#46039f"
            ],
            [
             0.2222222222222222,
             "#7201a8"
            ],
            [
             0.3333333333333333,
             "#9c179e"
            ],
            [
             0.4444444444444444,
             "#bd3786"
            ],
            [
             0.5555555555555556,
             "#d8576b"
            ],
            [
             0.6666666666666666,
             "#ed7953"
            ],
            [
             0.7777777777777778,
             "#fb9f3a"
            ],
            [
             0.8888888888888888,
             "#fdca26"
            ],
            [
             1,
             "#f0f921"
            ]
           ],
           "sequentialminus": [
            [
             0,
             "#0d0887"
            ],
            [
             0.1111111111111111,
             "#46039f"
            ],
            [
             0.2222222222222222,
             "#7201a8"
            ],
            [
             0.3333333333333333,
             "#9c179e"
            ],
            [
             0.4444444444444444,
             "#bd3786"
            ],
            [
             0.5555555555555556,
             "#d8576b"
            ],
            [
             0.6666666666666666,
             "#ed7953"
            ],
            [
             0.7777777777777778,
             "#fb9f3a"
            ],
            [
             0.8888888888888888,
             "#fdca26"
            ],
            [
             1,
             "#f0f921"
            ]
           ]
          },
          "colorway": [
           "#636efa",
           "#EF553B",
           "#00cc96",
           "#ab63fa",
           "#FFA15A",
           "#19d3f3",
           "#FF6692",
           "#B6E880",
           "#FF97FF",
           "#FECB52"
          ],
          "font": {
           "color": "#2a3f5f"
          },
          "geo": {
           "bgcolor": "white",
           "lakecolor": "white",
           "landcolor": "#E5ECF6",
           "showlakes": true,
           "showland": true,
           "subunitcolor": "white"
          },
          "hoverlabel": {
           "align": "left"
          },
          "hovermode": "closest",
          "mapbox": {
           "style": "light"
          },
          "paper_bgcolor": "white",
          "plot_bgcolor": "#E5ECF6",
          "polar": {
           "angularaxis": {
            "gridcolor": "white",
            "linecolor": "white",
            "ticks": ""
           },
           "bgcolor": "#E5ECF6",
           "radialaxis": {
            "gridcolor": "white",
            "linecolor": "white",
            "ticks": ""
           }
          },
          "scene": {
           "xaxis": {
            "backgroundcolor": "#E5ECF6",
            "gridcolor": "white",
            "gridwidth": 2,
            "linecolor": "white",
            "showbackground": true,
            "ticks": "",
            "zerolinecolor": "white"
           },
           "yaxis": {
            "backgroundcolor": "#E5ECF6",
            "gridcolor": "white",
            "gridwidth": 2,
            "linecolor": "white",
            "showbackground": true,
            "ticks": "",
            "zerolinecolor": "white"
           },
           "zaxis": {
            "backgroundcolor": "#E5ECF6",
            "gridcolor": "white",
            "gridwidth": 2,
            "linecolor": "white",
            "showbackground": true,
            "ticks": "",
            "zerolinecolor": "white"
           }
          },
          "shapedefaults": {
           "line": {
            "color": "#2a3f5f"
           }
          },
          "ternary": {
           "aaxis": {
            "gridcolor": "white",
            "linecolor": "white",
            "ticks": ""
           },
           "baxis": {
            "gridcolor": "white",
            "linecolor": "white",
            "ticks": ""
           },
           "bgcolor": "#E5ECF6",
           "caxis": {
            "gridcolor": "white",
            "linecolor": "white",
            "ticks": ""
           }
          },
          "title": {
           "x": 0.05
          },
          "xaxis": {
           "automargin": true,
           "gridcolor": "white",
           "linecolor": "white",
           "ticks": "",
           "title": {
            "standoff": 15
           },
           "zerolinecolor": "white",
           "zerolinewidth": 2
          },
          "yaxis": {
           "automargin": true,
           "gridcolor": "white",
           "linecolor": "white",
           "ticks": "",
           "title": {
            "standoff": 15
           },
           "zerolinecolor": "white",
           "zerolinewidth": 2
          }
         }
        },
        "title": {
         "text": "Feature Importance for CatBoost Classifier"
        },
        "width": 1000,
        "xaxis": {
         "title": {
          "text": "Importance"
         }
        },
        "yaxis": {
         "title": {
          "text": "Feature"
         }
        }
       }
      }
     },
     "metadata": {},
     "output_type": "display_data"
    }
   ],
   "source": [
    "# Visualisasi Feature Importance\n",
    "feature_importance = catboost_model.feature_importances_  # Example feature importance values\n",
    "feature_names = X.columns  # Example feature names\n",
    "title = \"Feature Importance for CatBoost Classifier\"\n",
    "plot_feature_importance(feature_importance, feature_names, title=title)"
   ]
  },
  {
   "cell_type": "code",
   "execution_count": 680,
   "id": "9ffa6c97",
   "metadata": {},
   "outputs": [
    {
     "name": "stdout",
     "output_type": "stream",
     "text": [
      "Prediksi: [1]\n"
     ]
    }
   ],
   "source": [
    "# Prediksi pada data baru\n",
    "data_baru = [[49.0, 0, 2, 160, 180, 0, 1, 156, 0, 1.0, 1, 1]] # Ganti dengan contoh data Anda\n",
    "prediksi = catboost_model.predict(data_baru)\n",
    "print(\"Prediksi:\", prediksi)"
   ]
  },
  {
   "cell_type": "code",
   "execution_count": 681,
   "id": "0580a757",
   "metadata": {},
   "outputs": [
    {
     "name": "stdout",
     "output_type": "stream",
     "text": [
      "Accuracy: 0.85\n",
      "F1 Score: 0.88\n"
     ]
    }
   ],
   "source": [
    "from sklearn.tree import DecisionTreeClassifier\n",
    "from sklearn.metrics import accuracy_score\n",
    "\n",
    "# Membuat model Decision Tree Classifier\n",
    "decision_tree_model = DecisionTreeClassifier(max_depth=5, random_state=42)\n",
    "\n",
    "# Melatih model pada data latih\n",
    "decision_tree_model.fit(X_train, y_train)\n",
    "\n",
    "# Melakukan prediksi pada data uji\n",
    "y_pred = decision_tree_model.predict(X_test)\n",
    "\n",
    "\n",
    "# Evaluasi performa model\n",
    "accuracy = accuracy_score(y_test, y_pred)\n",
    "f1 = f1_score(y_test, y_pred)  # Menghitung F1 Score\n",
    "print(f'Accuracy: {accuracy:.2f}')\n",
    "print(f'F1 Score: {f1:.2f}')"
   ]
  },
  {
   "cell_type": "code",
   "execution_count": 682,
   "id": "69a4ef2f",
   "metadata": {},
   "outputs": [
    {
     "data": {
      "application/vnd.plotly.v1+json": {
       "config": {
        "plotlyServerURL": "https://plot.ly"
       },
       "data": [
        {
         "marker": {
          "cmax": 0.58745701983413,
          "cmin": 0,
          "color": [
           0,
           0,
           0.0065475676462202785,
           0.00672024934615843,
           0.011564535063453998,
           0.012419806572409927,
           0.034103384599558265,
           0.051047139229878816,
           0.07292482824891937,
           0.10617004362209231,
           0.11104542583717845,
           0.58745701983413
          ],
          "colorbar": {
           "title": {
            "text": "Importance"
           }
          },
          "colorscale": [
           [
            0,
            "#440154"
           ],
           [
            0.1111111111111111,
            "#482878"
           ],
           [
            0.2222222222222222,
            "#3e4989"
           ],
           [
            0.3333333333333333,
            "#31688e"
           ],
           [
            0.4444444444444444,
            "#26828e"
           ],
           [
            0.5555555555555556,
            "#1f9e89"
           ],
           [
            0.6666666666666666,
            "#35b779"
           ],
           [
            0.7777777777777778,
            "#6ece58"
           ],
           [
            0.8888888888888888,
            "#b5de2b"
           ],
           [
            1,
            "#fde725"
           ]
          ]
         },
         "orientation": "h",
         "type": "bar",
         "x": [
          0,
          0,
          0.0065475676462202785,
          0.00672024934615843,
          0.011564535063453998,
          0.012419806572409927,
          0.034103384599558265,
          0.051047139229878816,
          0.07292482824891937,
          0.10617004362209231,
          0.11104542583717845,
          0.58745701983413
         ],
         "y": [
          "FastingBS",
          "HighBloodPressure",
          "RestingECG",
          "Cholesterol",
          "ExerciseAngina",
          "Age",
          "Sex",
          "RestingBP",
          "Oldpeak",
          "MaxHR",
          "ChestPainType",
          "ST_Slope"
         ]
        }
       ],
       "layout": {
        "height": 600,
        "template": {
         "data": {
          "bar": [
           {
            "error_x": {
             "color": "#2a3f5f"
            },
            "error_y": {
             "color": "#2a3f5f"
            },
            "marker": {
             "line": {
              "color": "#E5ECF6",
              "width": 0.5
             },
             "pattern": {
              "fillmode": "overlay",
              "size": 10,
              "solidity": 0.2
             }
            },
            "type": "bar"
           }
          ],
          "barpolar": [
           {
            "marker": {
             "line": {
              "color": "#E5ECF6",
              "width": 0.5
             },
             "pattern": {
              "fillmode": "overlay",
              "size": 10,
              "solidity": 0.2
             }
            },
            "type": "barpolar"
           }
          ],
          "carpet": [
           {
            "aaxis": {
             "endlinecolor": "#2a3f5f",
             "gridcolor": "white",
             "linecolor": "white",
             "minorgridcolor": "white",
             "startlinecolor": "#2a3f5f"
            },
            "baxis": {
             "endlinecolor": "#2a3f5f",
             "gridcolor": "white",
             "linecolor": "white",
             "minorgridcolor": "white",
             "startlinecolor": "#2a3f5f"
            },
            "type": "carpet"
           }
          ],
          "choropleth": [
           {
            "colorbar": {
             "outlinewidth": 0,
             "ticks": ""
            },
            "type": "choropleth"
           }
          ],
          "contour": [
           {
            "colorbar": {
             "outlinewidth": 0,
             "ticks": ""
            },
            "colorscale": [
             [
              0,
              "#0d0887"
             ],
             [
              0.1111111111111111,
              "#46039f"
             ],
             [
              0.2222222222222222,
              "#7201a8"
             ],
             [
              0.3333333333333333,
              "#9c179e"
             ],
             [
              0.4444444444444444,
              "#bd3786"
             ],
             [
              0.5555555555555556,
              "#d8576b"
             ],
             [
              0.6666666666666666,
              "#ed7953"
             ],
             [
              0.7777777777777778,
              "#fb9f3a"
             ],
             [
              0.8888888888888888,
              "#fdca26"
             ],
             [
              1,
              "#f0f921"
             ]
            ],
            "type": "contour"
           }
          ],
          "contourcarpet": [
           {
            "colorbar": {
             "outlinewidth": 0,
             "ticks": ""
            },
            "type": "contourcarpet"
           }
          ],
          "heatmap": [
           {
            "colorbar": {
             "outlinewidth": 0,
             "ticks": ""
            },
            "colorscale": [
             [
              0,
              "#0d0887"
             ],
             [
              0.1111111111111111,
              "#46039f"
             ],
             [
              0.2222222222222222,
              "#7201a8"
             ],
             [
              0.3333333333333333,
              "#9c179e"
             ],
             [
              0.4444444444444444,
              "#bd3786"
             ],
             [
              0.5555555555555556,
              "#d8576b"
             ],
             [
              0.6666666666666666,
              "#ed7953"
             ],
             [
              0.7777777777777778,
              "#fb9f3a"
             ],
             [
              0.8888888888888888,
              "#fdca26"
             ],
             [
              1,
              "#f0f921"
             ]
            ],
            "type": "heatmap"
           }
          ],
          "heatmapgl": [
           {
            "colorbar": {
             "outlinewidth": 0,
             "ticks": ""
            },
            "colorscale": [
             [
              0,
              "#0d0887"
             ],
             [
              0.1111111111111111,
              "#46039f"
             ],
             [
              0.2222222222222222,
              "#7201a8"
             ],
             [
              0.3333333333333333,
              "#9c179e"
             ],
             [
              0.4444444444444444,
              "#bd3786"
             ],
             [
              0.5555555555555556,
              "#d8576b"
             ],
             [
              0.6666666666666666,
              "#ed7953"
             ],
             [
              0.7777777777777778,
              "#fb9f3a"
             ],
             [
              0.8888888888888888,
              "#fdca26"
             ],
             [
              1,
              "#f0f921"
             ]
            ],
            "type": "heatmapgl"
           }
          ],
          "histogram": [
           {
            "marker": {
             "pattern": {
              "fillmode": "overlay",
              "size": 10,
              "solidity": 0.2
             }
            },
            "type": "histogram"
           }
          ],
          "histogram2d": [
           {
            "colorbar": {
             "outlinewidth": 0,
             "ticks": ""
            },
            "colorscale": [
             [
              0,
              "#0d0887"
             ],
             [
              0.1111111111111111,
              "#46039f"
             ],
             [
              0.2222222222222222,
              "#7201a8"
             ],
             [
              0.3333333333333333,
              "#9c179e"
             ],
             [
              0.4444444444444444,
              "#bd3786"
             ],
             [
              0.5555555555555556,
              "#d8576b"
             ],
             [
              0.6666666666666666,
              "#ed7953"
             ],
             [
              0.7777777777777778,
              "#fb9f3a"
             ],
             [
              0.8888888888888888,
              "#fdca26"
             ],
             [
              1,
              "#f0f921"
             ]
            ],
            "type": "histogram2d"
           }
          ],
          "histogram2dcontour": [
           {
            "colorbar": {
             "outlinewidth": 0,
             "ticks": ""
            },
            "colorscale": [
             [
              0,
              "#0d0887"
             ],
             [
              0.1111111111111111,
              "#46039f"
             ],
             [
              0.2222222222222222,
              "#7201a8"
             ],
             [
              0.3333333333333333,
              "#9c179e"
             ],
             [
              0.4444444444444444,
              "#bd3786"
             ],
             [
              0.5555555555555556,
              "#d8576b"
             ],
             [
              0.6666666666666666,
              "#ed7953"
             ],
             [
              0.7777777777777778,
              "#fb9f3a"
             ],
             [
              0.8888888888888888,
              "#fdca26"
             ],
             [
              1,
              "#f0f921"
             ]
            ],
            "type": "histogram2dcontour"
           }
          ],
          "mesh3d": [
           {
            "colorbar": {
             "outlinewidth": 0,
             "ticks": ""
            },
            "type": "mesh3d"
           }
          ],
          "parcoords": [
           {
            "line": {
             "colorbar": {
              "outlinewidth": 0,
              "ticks": ""
             }
            },
            "type": "parcoords"
           }
          ],
          "pie": [
           {
            "automargin": true,
            "type": "pie"
           }
          ],
          "scatter": [
           {
            "fillpattern": {
             "fillmode": "overlay",
             "size": 10,
             "solidity": 0.2
            },
            "type": "scatter"
           }
          ],
          "scatter3d": [
           {
            "line": {
             "colorbar": {
              "outlinewidth": 0,
              "ticks": ""
             }
            },
            "marker": {
             "colorbar": {
              "outlinewidth": 0,
              "ticks": ""
             }
            },
            "type": "scatter3d"
           }
          ],
          "scattercarpet": [
           {
            "marker": {
             "colorbar": {
              "outlinewidth": 0,
              "ticks": ""
             }
            },
            "type": "scattercarpet"
           }
          ],
          "scattergeo": [
           {
            "marker": {
             "colorbar": {
              "outlinewidth": 0,
              "ticks": ""
             }
            },
            "type": "scattergeo"
           }
          ],
          "scattergl": [
           {
            "marker": {
             "colorbar": {
              "outlinewidth": 0,
              "ticks": ""
             }
            },
            "type": "scattergl"
           }
          ],
          "scattermapbox": [
           {
            "marker": {
             "colorbar": {
              "outlinewidth": 0,
              "ticks": ""
             }
            },
            "type": "scattermapbox"
           }
          ],
          "scatterpolar": [
           {
            "marker": {
             "colorbar": {
              "outlinewidth": 0,
              "ticks": ""
             }
            },
            "type": "scatterpolar"
           }
          ],
          "scatterpolargl": [
           {
            "marker": {
             "colorbar": {
              "outlinewidth": 0,
              "ticks": ""
             }
            },
            "type": "scatterpolargl"
           }
          ],
          "scatterternary": [
           {
            "marker": {
             "colorbar": {
              "outlinewidth": 0,
              "ticks": ""
             }
            },
            "type": "scatterternary"
           }
          ],
          "surface": [
           {
            "colorbar": {
             "outlinewidth": 0,
             "ticks": ""
            },
            "colorscale": [
             [
              0,
              "#0d0887"
             ],
             [
              0.1111111111111111,
              "#46039f"
             ],
             [
              0.2222222222222222,
              "#7201a8"
             ],
             [
              0.3333333333333333,
              "#9c179e"
             ],
             [
              0.4444444444444444,
              "#bd3786"
             ],
             [
              0.5555555555555556,
              "#d8576b"
             ],
             [
              0.6666666666666666,
              "#ed7953"
             ],
             [
              0.7777777777777778,
              "#fb9f3a"
             ],
             [
              0.8888888888888888,
              "#fdca26"
             ],
             [
              1,
              "#f0f921"
             ]
            ],
            "type": "surface"
           }
          ],
          "table": [
           {
            "cells": {
             "fill": {
              "color": "#EBF0F8"
             },
             "line": {
              "color": "white"
             }
            },
            "header": {
             "fill": {
              "color": "#C8D4E3"
             },
             "line": {
              "color": "white"
             }
            },
            "type": "table"
           }
          ]
         },
         "layout": {
          "annotationdefaults": {
           "arrowcolor": "#2a3f5f",
           "arrowhead": 0,
           "arrowwidth": 1
          },
          "autotypenumbers": "strict",
          "coloraxis": {
           "colorbar": {
            "outlinewidth": 0,
            "ticks": ""
           }
          },
          "colorscale": {
           "diverging": [
            [
             0,
             "#8e0152"
            ],
            [
             0.1,
             "#c51b7d"
            ],
            [
             0.2,
             "#de77ae"
            ],
            [
             0.3,
             "#f1b6da"
            ],
            [
             0.4,
             "#fde0ef"
            ],
            [
             0.5,
             "#f7f7f7"
            ],
            [
             0.6,
             "#e6f5d0"
            ],
            [
             0.7,
             "#b8e186"
            ],
            [
             0.8,
             "#7fbc41"
            ],
            [
             0.9,
             "#4d9221"
            ],
            [
             1,
             "#276419"
            ]
           ],
           "sequential": [
            [
             0,
             "#0d0887"
            ],
            [
             0.1111111111111111,
             "#46039f"
            ],
            [
             0.2222222222222222,
             "#7201a8"
            ],
            [
             0.3333333333333333,
             "#9c179e"
            ],
            [
             0.4444444444444444,
             "#bd3786"
            ],
            [
             0.5555555555555556,
             "#d8576b"
            ],
            [
             0.6666666666666666,
             "#ed7953"
            ],
            [
             0.7777777777777778,
             "#fb9f3a"
            ],
            [
             0.8888888888888888,
             "#fdca26"
            ],
            [
             1,
             "#f0f921"
            ]
           ],
           "sequentialminus": [
            [
             0,
             "#0d0887"
            ],
            [
             0.1111111111111111,
             "#46039f"
            ],
            [
             0.2222222222222222,
             "#7201a8"
            ],
            [
             0.3333333333333333,
             "#9c179e"
            ],
            [
             0.4444444444444444,
             "#bd3786"
            ],
            [
             0.5555555555555556,
             "#d8576b"
            ],
            [
             0.6666666666666666,
             "#ed7953"
            ],
            [
             0.7777777777777778,
             "#fb9f3a"
            ],
            [
             0.8888888888888888,
             "#fdca26"
            ],
            [
             1,
             "#f0f921"
            ]
           ]
          },
          "colorway": [
           "#636efa",
           "#EF553B",
           "#00cc96",
           "#ab63fa",
           "#FFA15A",
           "#19d3f3",
           "#FF6692",
           "#B6E880",
           "#FF97FF",
           "#FECB52"
          ],
          "font": {
           "color": "#2a3f5f"
          },
          "geo": {
           "bgcolor": "white",
           "lakecolor": "white",
           "landcolor": "#E5ECF6",
           "showlakes": true,
           "showland": true,
           "subunitcolor": "white"
          },
          "hoverlabel": {
           "align": "left"
          },
          "hovermode": "closest",
          "mapbox": {
           "style": "light"
          },
          "paper_bgcolor": "white",
          "plot_bgcolor": "#E5ECF6",
          "polar": {
           "angularaxis": {
            "gridcolor": "white",
            "linecolor": "white",
            "ticks": ""
           },
           "bgcolor": "#E5ECF6",
           "radialaxis": {
            "gridcolor": "white",
            "linecolor": "white",
            "ticks": ""
           }
          },
          "scene": {
           "xaxis": {
            "backgroundcolor": "#E5ECF6",
            "gridcolor": "white",
            "gridwidth": 2,
            "linecolor": "white",
            "showbackground": true,
            "ticks": "",
            "zerolinecolor": "white"
           },
           "yaxis": {
            "backgroundcolor": "#E5ECF6",
            "gridcolor": "white",
            "gridwidth": 2,
            "linecolor": "white",
            "showbackground": true,
            "ticks": "",
            "zerolinecolor": "white"
           },
           "zaxis": {
            "backgroundcolor": "#E5ECF6",
            "gridcolor": "white",
            "gridwidth": 2,
            "linecolor": "white",
            "showbackground": true,
            "ticks": "",
            "zerolinecolor": "white"
           }
          },
          "shapedefaults": {
           "line": {
            "color": "#2a3f5f"
           }
          },
          "ternary": {
           "aaxis": {
            "gridcolor": "white",
            "linecolor": "white",
            "ticks": ""
           },
           "baxis": {
            "gridcolor": "white",
            "linecolor": "white",
            "ticks": ""
           },
           "bgcolor": "#E5ECF6",
           "caxis": {
            "gridcolor": "white",
            "linecolor": "white",
            "ticks": ""
           }
          },
          "title": {
           "x": 0.05
          },
          "xaxis": {
           "automargin": true,
           "gridcolor": "white",
           "linecolor": "white",
           "ticks": "",
           "title": {
            "standoff": 15
           },
           "zerolinecolor": "white",
           "zerolinewidth": 2
          },
          "yaxis": {
           "automargin": true,
           "gridcolor": "white",
           "linecolor": "white",
           "ticks": "",
           "title": {
            "standoff": 15
           },
           "zerolinecolor": "white",
           "zerolinewidth": 2
          }
         }
        },
        "title": {
         "text": "Feature Importance for Decesion Tree"
        },
        "width": 1000,
        "xaxis": {
         "title": {
          "text": "Importance"
         }
        },
        "yaxis": {
         "title": {
          "text": "Feature"
         }
        }
       }
      }
     },
     "metadata": {},
     "output_type": "display_data"
    }
   ],
   "source": [
    "# Visualisasi Feature Importance\n",
    "feature_importance = decision_tree_model.feature_importances_  # Example feature importance values\n",
    "feature_names = X.columns  # Example feature names\n",
    "title = \"Feature Importance for Decesion Tree\"\n",
    "plot_feature_importance(feature_importance, feature_names, title=title)"
   ]
  },
  {
   "cell_type": "code",
   "execution_count": 683,
   "id": "e53afdb4",
   "metadata": {},
   "outputs": [
    {
     "name": "stdout",
     "output_type": "stream",
     "text": [
      "Prediksi: [1]\n"
     ]
    }
   ],
   "source": [
    "# Prediksi pada data baru\n",
    "data_baru = [[49.0, 0, 2, 160, 180, 0, 1, 156, 0, 1.0, 1, 1]] # Ganti dengan contoh data Anda\n",
    "prediksi = decision_tree_model.predict(data_baru)\n",
    "print(\"Prediksi:\", prediksi)"
   ]
  },
  {
   "cell_type": "code",
   "execution_count": 684,
   "id": "cea05943",
   "metadata": {},
   "outputs": [],
   "source": [
    "model_fix = catboost_model  # Model Random Forest Classifier\n",
    "filename1= 'catboost.pkl'\n",
    "\n",
    "pickle.dump(model_fix, open(filename1,'wb'))"
   ]
  },
  {
   "cell_type": "markdown",
   "id": "c95ed321",
   "metadata": {},
   "source": [
    "# Mencoba Pipline dan Klasifikasi Voting\n"
   ]
  },
  {
   "cell_type": "code",
   "execution_count": 685,
   "id": "e215108f",
   "metadata": {},
   "outputs": [],
   "source": [
    "# Definisi transformer untuk data numerik dan kategorikal\n",
    "from sklearn.pipeline import Pipeline\n",
    "from sklearn.impute import SimpleImputer\n",
    "from sklearn.preprocessing import StandardScaler, OneHotEncoder\n",
    "from sklearn.compose import ColumnTransformer\n",
    "from sklearn.tree import DecisionTreeClassifier\n",
    "from catboost import CatBoostClassifier\n",
    "from sklearn.ensemble import VotingClassifier\n",
    "from sklearn.metrics import accuracy_score\n",
    "\n",
    "numeric_features = X.select_dtypes(include=['int64', 'float64']).columns\n",
    "categorical_features = X.select_dtypes(include=['object']).columns"
   ]
  },
  {
   "cell_type": "code",
   "execution_count": 686,
   "id": "6d7b183b",
   "metadata": {},
   "outputs": [],
   "source": [
    "numeric_transformer = Pipeline(steps=[\n",
    "    ('imputer', SimpleImputer(strategy='median')),\n",
    "    ('scaler', StandardScaler())\n",
    "])"
   ]
  },
  {
   "cell_type": "code",
   "execution_count": 687,
   "id": "0cae5b12",
   "metadata": {},
   "outputs": [],
   "source": [
    "categorical_transformer = Pipeline(steps=[\n",
    "    ('imputer', SimpleImputer(strategy='most_frequent')),\n",
    "    ('onehot', OneHotEncoder(handle_unknown='ignore'))\n",
    "])"
   ]
  },
  {
   "cell_type": "code",
   "execution_count": 688,
   "id": "870de060",
   "metadata": {},
   "outputs": [],
   "source": [
    "# Menggabungkan transformer\n",
    "preprocessor = ColumnTransformer(\n",
    "    transformers=[\n",
    "        ('num', numeric_transformer, numeric_features),\n",
    "        ('cat', categorical_transformer, categorical_features)\n",
    "    ])"
   ]
  },
  {
   "cell_type": "code",
   "execution_count": 689,
   "id": "be10560a",
   "metadata": {},
   "outputs": [],
   "source": [
    "# Membuat pipeline dengan model CatBoost dan Decision Tree\n",
    "catboost_model = Pipeline(steps=[\n",
    "    ('preprocessor', preprocessor),\n",
    "    ('classifier', CatBoostClassifier(random_state=42))\n",
    "])"
   ]
  },
  {
   "cell_type": "code",
   "execution_count": 690,
   "id": "8edd23cc",
   "metadata": {},
   "outputs": [],
   "source": [
    "decision_tree_model = Pipeline(steps=[\n",
    "    ('preprocessor', preprocessor),\n",
    "    ('classifier', DecisionTreeClassifier(random_state=42))\n",
    "])"
   ]
  },
  {
   "cell_type": "code",
   "execution_count": 691,
   "id": "602ab22c",
   "metadata": {},
   "outputs": [],
   "source": [
    "# Membuat Voting Classifier\n",
    "voting_classifier = VotingClassifier(estimators=[\n",
    "    ('catboost', catboost_model),\n",
    "    ('decision_tree', decision_tree_model)\n",
    "], voting='soft')  # 'soft' untuk penggunaan prediksi probabilitas"
   ]
  },
  {
   "cell_type": "code",
   "execution_count": 692,
   "id": "faa9fc1d",
   "metadata": {},
   "outputs": [
    {
     "name": "stdout",
     "output_type": "stream",
     "text": [
      "Learning rate set to 0.008996\n",
      "0:\tlearn: 0.6847433\ttotal: 1.16ms\tremaining: 1.16s\n",
      "1:\tlearn: 0.6774288\ttotal: 1.51ms\tremaining: 753ms\n",
      "2:\tlearn: 0.6686825\ttotal: 2.11ms\tremaining: 701ms\n",
      "3:\tlearn: 0.6603968\ttotal: 3.29ms\tremaining: 818ms\n",
      "4:\tlearn: 0.6512921\ttotal: 3.82ms\tremaining: 760ms\n",
      "5:\tlearn: 0.6435106\ttotal: 4.29ms\tremaining: 711ms\n",
      "6:\tlearn: 0.6375634\ttotal: 4.83ms\tremaining: 686ms\n",
      "7:\tlearn: 0.6308821\ttotal: 5.4ms\tremaining: 669ms\n",
      "8:\tlearn: 0.6235886\ttotal: 5.88ms\tremaining: 648ms\n",
      "9:\tlearn: 0.6188056\ttotal: 6.21ms\tremaining: 615ms\n",
      "10:\tlearn: 0.6123643\ttotal: 6.91ms\tremaining: 621ms\n",
      "11:\tlearn: 0.6073956\ttotal: 7.52ms\tremaining: 619ms\n",
      "12:\tlearn: 0.6004833\ttotal: 8.05ms\tremaining: 612ms\n",
      "13:\tlearn: 0.5940871\ttotal: 8.52ms\tremaining: 600ms\n",
      "14:\tlearn: 0.5886311\ttotal: 8.95ms\tremaining: 588ms\n",
      "15:\tlearn: 0.5821618\ttotal: 9.72ms\tremaining: 598ms\n",
      "16:\tlearn: 0.5758788\ttotal: 10.3ms\tremaining: 598ms\n",
      "17:\tlearn: 0.5718578\ttotal: 10.7ms\tremaining: 586ms\n",
      "18:\tlearn: 0.5657702\ttotal: 11.4ms\tremaining: 587ms\n",
      "19:\tlearn: 0.5602196\ttotal: 11.9ms\tremaining: 585ms\n",
      "20:\tlearn: 0.5538056\ttotal: 12.8ms\tremaining: 595ms\n",
      "21:\tlearn: 0.5478698\ttotal: 13.4ms\tremaining: 597ms\n",
      "22:\tlearn: 0.5426437\ttotal: 14ms\tremaining: 593ms\n",
      "23:\tlearn: 0.5386130\ttotal: 14.4ms\tremaining: 584ms\n",
      "24:\tlearn: 0.5331505\ttotal: 14.8ms\tremaining: 576ms\n",
      "25:\tlearn: 0.5287254\ttotal: 15.2ms\tremaining: 570ms\n",
      "26:\tlearn: 0.5240105\ttotal: 15.6ms\tremaining: 562ms\n",
      "27:\tlearn: 0.5200636\ttotal: 16ms\tremaining: 557ms\n",
      "28:\tlearn: 0.5155499\ttotal: 16.5ms\tremaining: 552ms\n",
      "29:\tlearn: 0.5108354\ttotal: 16.8ms\tremaining: 544ms\n",
      "30:\tlearn: 0.5062319\ttotal: 17.2ms\tremaining: 539ms\n",
      "31:\tlearn: 0.5012558\ttotal: 17.7ms\tremaining: 534ms\n",
      "32:\tlearn: 0.4974067\ttotal: 18.1ms\tremaining: 530ms\n",
      "33:\tlearn: 0.4931307\ttotal: 18.4ms\tremaining: 523ms\n",
      "34:\tlearn: 0.4899404\ttotal: 19ms\tremaining: 525ms\n",
      "35:\tlearn: 0.4858234\ttotal: 19.6ms\tremaining: 526ms\n",
      "36:\tlearn: 0.4821071\ttotal: 20.2ms\tremaining: 525ms\n",
      "37:\tlearn: 0.4784161\ttotal: 20.6ms\tremaining: 522ms\n",
      "38:\tlearn: 0.4745150\ttotal: 21.1ms\tremaining: 521ms\n",
      "39:\tlearn: 0.4716116\ttotal: 21.6ms\tremaining: 519ms\n",
      "40:\tlearn: 0.4679849\ttotal: 22.1ms\tremaining: 518ms\n",
      "41:\tlearn: 0.4649810\ttotal: 22.6ms\tremaining: 515ms\n",
      "42:\tlearn: 0.4611079\ttotal: 23ms\tremaining: 513ms\n",
      "43:\tlearn: 0.4579361\ttotal: 23.5ms\tremaining: 510ms\n",
      "44:\tlearn: 0.4552121\ttotal: 24ms\tremaining: 509ms\n",
      "45:\tlearn: 0.4519967\ttotal: 24.4ms\tremaining: 507ms\n",
      "46:\tlearn: 0.4492426\ttotal: 24.9ms\tremaining: 504ms\n",
      "47:\tlearn: 0.4473354\ttotal: 25.2ms\tremaining: 500ms\n",
      "48:\tlearn: 0.4439358\ttotal: 25.7ms\tremaining: 499ms\n",
      "49:\tlearn: 0.4412434\ttotal: 26.2ms\tremaining: 498ms\n",
      "50:\tlearn: 0.4384867\ttotal: 26.6ms\tremaining: 494ms\n",
      "51:\tlearn: 0.4355704\ttotal: 27ms\tremaining: 493ms\n",
      "52:\tlearn: 0.4329674\ttotal: 27.5ms\tremaining: 491ms\n",
      "53:\tlearn: 0.4299240\ttotal: 27.9ms\tremaining: 489ms\n",
      "54:\tlearn: 0.4269517\ttotal: 28.4ms\tremaining: 487ms\n",
      "55:\tlearn: 0.4250902\ttotal: 28.7ms\tremaining: 484ms\n",
      "56:\tlearn: 0.4223576\ttotal: 29.8ms\tremaining: 492ms\n",
      "57:\tlearn: 0.4194949\ttotal: 30.6ms\tremaining: 496ms\n",
      "58:\tlearn: 0.4164385\ttotal: 31.1ms\tremaining: 496ms\n",
      "59:\tlearn: 0.4133765\ttotal: 31.9ms\tremaining: 499ms\n",
      "60:\tlearn: 0.4108011\ttotal: 32.7ms\tremaining: 504ms\n",
      "61:\tlearn: 0.4083829\ttotal: 33.9ms\tremaining: 513ms\n",
      "62:\tlearn: 0.4058316\ttotal: 34.5ms\tremaining: 513ms\n",
      "63:\tlearn: 0.4030883\ttotal: 35ms\tremaining: 512ms\n",
      "64:\tlearn: 0.4003994\ttotal: 38.2ms\tremaining: 550ms\n",
      "65:\tlearn: 0.3979677\ttotal: 39ms\tremaining: 552ms\n",
      "66:\tlearn: 0.3961099\ttotal: 39.5ms\tremaining: 550ms\n",
      "67:\tlearn: 0.3938870\ttotal: 40.1ms\tremaining: 549ms\n",
      "68:\tlearn: 0.3914143\ttotal: 40.8ms\tremaining: 551ms\n",
      "69:\tlearn: 0.3893969\ttotal: 41.3ms\tremaining: 549ms\n",
      "70:\tlearn: 0.3864946\ttotal: 42.1ms\tremaining: 550ms\n",
      "71:\tlearn: 0.3844552\ttotal: 42.6ms\tremaining: 549ms\n",
      "72:\tlearn: 0.3831504\ttotal: 43.2ms\tremaining: 548ms\n",
      "73:\tlearn: 0.3812952\ttotal: 43.7ms\tremaining: 547ms\n",
      "74:\tlearn: 0.3792552\ttotal: 45.4ms\tremaining: 559ms\n",
      "75:\tlearn: 0.3770687\ttotal: 45.9ms\tremaining: 558ms\n",
      "76:\tlearn: 0.3758806\ttotal: 46.5ms\tremaining: 557ms\n",
      "77:\tlearn: 0.3744517\ttotal: 47ms\tremaining: 556ms\n",
      "78:\tlearn: 0.3723337\ttotal: 48ms\tremaining: 560ms\n",
      "79:\tlearn: 0.3707486\ttotal: 48.6ms\tremaining: 559ms\n",
      "80:\tlearn: 0.3689541\ttotal: 49.1ms\tremaining: 557ms\n",
      "81:\tlearn: 0.3678646\ttotal: 49.5ms\tremaining: 554ms\n",
      "82:\tlearn: 0.3660542\ttotal: 52.4ms\tremaining: 579ms\n",
      "83:\tlearn: 0.3644424\ttotal: 53.4ms\tremaining: 582ms\n",
      "84:\tlearn: 0.3621999\ttotal: 53.9ms\tremaining: 580ms\n",
      "85:\tlearn: 0.3608668\ttotal: 54.5ms\tremaining: 579ms\n",
      "86:\tlearn: 0.3593653\ttotal: 55ms\tremaining: 577ms\n",
      "87:\tlearn: 0.3576012\ttotal: 55.6ms\tremaining: 576ms\n",
      "88:\tlearn: 0.3563618\ttotal: 56.1ms\tremaining: 574ms\n",
      "89:\tlearn: 0.3544794\ttotal: 56.7ms\tremaining: 573ms\n",
      "90:\tlearn: 0.3530931\ttotal: 57.2ms\tremaining: 572ms\n",
      "91:\tlearn: 0.3517087\ttotal: 57.8ms\tremaining: 570ms\n",
      "92:\tlearn: 0.3502201\ttotal: 58.3ms\tremaining: 569ms\n",
      "93:\tlearn: 0.3489708\ttotal: 58.8ms\tremaining: 567ms\n",
      "94:\tlearn: 0.3472335\ttotal: 59.4ms\tremaining: 566ms\n",
      "95:\tlearn: 0.3468532\ttotal: 59.6ms\tremaining: 562ms\n",
      "96:\tlearn: 0.3455250\ttotal: 60.2ms\tremaining: 560ms\n",
      "97:\tlearn: 0.3443606\ttotal: 60.7ms\tremaining: 559ms\n",
      "98:\tlearn: 0.3428442\ttotal: 61.3ms\tremaining: 558ms\n",
      "99:\tlearn: 0.3415293\ttotal: 70.4ms\tremaining: 633ms\n",
      "100:\tlearn: 0.3406373\ttotal: 72.6ms\tremaining: 646ms\n",
      "101:\tlearn: 0.3393553\ttotal: 73.4ms\tremaining: 646ms\n",
      "102:\tlearn: 0.3378680\ttotal: 74ms\tremaining: 644ms\n",
      "103:\tlearn: 0.3372596\ttotal: 74.3ms\tremaining: 640ms\n",
      "104:\tlearn: 0.3360132\ttotal: 74.9ms\tremaining: 638ms\n",
      "105:\tlearn: 0.3348268\ttotal: 75.9ms\tremaining: 640ms\n",
      "106:\tlearn: 0.3331978\ttotal: 82ms\tremaining: 684ms\n",
      "107:\tlearn: 0.3316574\ttotal: 83.3ms\tremaining: 688ms\n",
      "108:\tlearn: 0.3307235\ttotal: 84ms\tremaining: 687ms\n",
      "109:\tlearn: 0.3296469\ttotal: 84.5ms\tremaining: 683ms\n",
      "110:\tlearn: 0.3285661\ttotal: 86.4ms\tremaining: 692ms\n",
      "111:\tlearn: 0.3273949\ttotal: 87.2ms\tremaining: 692ms\n",
      "112:\tlearn: 0.3258636\ttotal: 87.7ms\tremaining: 689ms\n",
      "113:\tlearn: 0.3247797\ttotal: 88.6ms\tremaining: 689ms\n",
      "114:\tlearn: 0.3237435\ttotal: 89.1ms\tremaining: 686ms\n",
      "115:\tlearn: 0.3234574\ttotal: 89.5ms\tremaining: 682ms\n",
      "116:\tlearn: 0.3224855\ttotal: 90.4ms\tremaining: 682ms\n",
      "117:\tlearn: 0.3213630\ttotal: 104ms\tremaining: 780ms\n",
      "118:\tlearn: 0.3200286\ttotal: 105ms\tremaining: 777ms\n",
      "119:\tlearn: 0.3190191\ttotal: 105ms\tremaining: 774ms\n",
      "120:\tlearn: 0.3184111\ttotal: 106ms\tremaining: 770ms\n",
      "121:\tlearn: 0.3173723\ttotal: 107ms\tremaining: 768ms\n",
      "122:\tlearn: 0.3159963\ttotal: 108ms\tremaining: 768ms\n",
      "123:\tlearn: 0.3148030\ttotal: 108ms\tremaining: 764ms\n",
      "124:\tlearn: 0.3136045\ttotal: 109ms\tremaining: 761ms\n",
      "125:\tlearn: 0.3123967\ttotal: 109ms\tremaining: 758ms\n",
      "126:\tlearn: 0.3114691\ttotal: 110ms\tremaining: 754ms\n",
      "127:\tlearn: 0.3105513\ttotal: 110ms\tremaining: 751ms\n",
      "128:\tlearn: 0.3099321\ttotal: 111ms\tremaining: 750ms\n",
      "129:\tlearn: 0.3089985\ttotal: 112ms\tremaining: 749ms\n",
      "130:\tlearn: 0.3083159\ttotal: 113ms\tremaining: 749ms\n",
      "131:\tlearn: 0.3073107\ttotal: 114ms\tremaining: 747ms\n",
      "132:\tlearn: 0.3062463\ttotal: 114ms\tremaining: 744ms\n",
      "133:\tlearn: 0.3058537\ttotal: 115ms\tremaining: 740ms\n",
      "134:\tlearn: 0.3049890\ttotal: 115ms\tremaining: 737ms\n",
      "135:\tlearn: 0.3038332\ttotal: 116ms\tremaining: 734ms\n",
      "136:\tlearn: 0.3029335\ttotal: 116ms\tremaining: 731ms\n",
      "137:\tlearn: 0.3024169\ttotal: 117ms\tremaining: 728ms\n",
      "138:\tlearn: 0.3017639\ttotal: 117ms\tremaining: 726ms\n",
      "139:\tlearn: 0.3012540\ttotal: 118ms\tremaining: 723ms\n",
      "140:\tlearn: 0.3003703\ttotal: 118ms\tremaining: 720ms\n",
      "141:\tlearn: 0.2992831\ttotal: 119ms\tremaining: 718ms\n",
      "142:\tlearn: 0.2982692\ttotal: 119ms\tremaining: 715ms\n",
      "143:\tlearn: 0.2972423\ttotal: 120ms\tremaining: 713ms\n",
      "144:\tlearn: 0.2966539\ttotal: 121ms\tremaining: 712ms\n",
      "145:\tlearn: 0.2959051\ttotal: 123ms\tremaining: 720ms\n",
      "146:\tlearn: 0.2952310\ttotal: 124ms\tremaining: 718ms\n",
      "147:\tlearn: 0.2946594\ttotal: 124ms\tremaining: 716ms\n",
      "148:\tlearn: 0.2939582\ttotal: 125ms\tremaining: 717ms\n",
      "149:\tlearn: 0.2932353\ttotal: 126ms\tremaining: 716ms\n",
      "150:\tlearn: 0.2923263\ttotal: 127ms\tremaining: 716ms\n",
      "151:\tlearn: 0.2918318\ttotal: 129ms\tremaining: 718ms\n",
      "152:\tlearn: 0.2910649\ttotal: 129ms\tremaining: 717ms\n",
      "153:\tlearn: 0.2905838\ttotal: 130ms\tremaining: 714ms\n",
      "154:\tlearn: 0.2898501\ttotal: 131ms\tremaining: 712ms\n",
      "155:\tlearn: 0.2892144\ttotal: 131ms\tremaining: 709ms\n",
      "156:\tlearn: 0.2884266\ttotal: 132ms\tremaining: 707ms\n",
      "157:\tlearn: 0.2874161\ttotal: 132ms\tremaining: 704ms\n",
      "158:\tlearn: 0.2867317\ttotal: 133ms\tremaining: 701ms\n",
      "159:\tlearn: 0.2860478\ttotal: 133ms\tremaining: 699ms\n",
      "160:\tlearn: 0.2853499\ttotal: 134ms\tremaining: 697ms\n",
      "161:\tlearn: 0.2847824\ttotal: 134ms\tremaining: 694ms\n",
      "162:\tlearn: 0.2840298\ttotal: 135ms\tremaining: 692ms\n",
      "163:\tlearn: 0.2834059\ttotal: 135ms\tremaining: 689ms\n",
      "164:\tlearn: 0.2826590\ttotal: 136ms\tremaining: 687ms\n",
      "165:\tlearn: 0.2819606\ttotal: 136ms\tremaining: 684ms\n",
      "166:\tlearn: 0.2815092\ttotal: 137ms\tremaining: 682ms\n",
      "167:\tlearn: 0.2805447\ttotal: 137ms\tremaining: 679ms\n",
      "168:\tlearn: 0.2800160\ttotal: 138ms\tremaining: 677ms\n",
      "169:\tlearn: 0.2792724\ttotal: 138ms\tremaining: 675ms\n",
      "170:\tlearn: 0.2786497\ttotal: 139ms\tremaining: 673ms\n",
      "171:\tlearn: 0.2780157\ttotal: 139ms\tremaining: 671ms\n",
      "172:\tlearn: 0.2778549\ttotal: 140ms\tremaining: 668ms\n",
      "173:\tlearn: 0.2773225\ttotal: 140ms\tremaining: 666ms\n",
      "174:\tlearn: 0.2766107\ttotal: 141ms\tremaining: 664ms\n",
      "175:\tlearn: 0.2760154\ttotal: 141ms\tremaining: 661ms\n",
      "176:\tlearn: 0.2752429\ttotal: 142ms\tremaining: 659ms\n",
      "177:\tlearn: 0.2743219\ttotal: 142ms\tremaining: 657ms\n",
      "178:\tlearn: 0.2736558\ttotal: 143ms\tremaining: 655ms\n",
      "179:\tlearn: 0.2730488\ttotal: 143ms\tremaining: 653ms\n",
      "180:\tlearn: 0.2721895\ttotal: 144ms\tremaining: 651ms\n",
      "181:\tlearn: 0.2716032\ttotal: 144ms\tremaining: 649ms\n",
      "182:\tlearn: 0.2712933\ttotal: 145ms\tremaining: 647ms\n",
      "183:\tlearn: 0.2707280\ttotal: 145ms\tremaining: 645ms\n",
      "184:\tlearn: 0.2703153\ttotal: 146ms\tremaining: 643ms\n",
      "185:\tlearn: 0.2698835\ttotal: 146ms\tremaining: 641ms\n",
      "186:\tlearn: 0.2693173\ttotal: 147ms\tremaining: 638ms\n",
      "187:\tlearn: 0.2687641\ttotal: 147ms\tremaining: 636ms\n",
      "188:\tlearn: 0.2682121\ttotal: 148ms\tremaining: 634ms\n",
      "189:\tlearn: 0.2678219\ttotal: 148ms\tremaining: 632ms\n",
      "190:\tlearn: 0.2673078\ttotal: 149ms\tremaining: 631ms\n",
      "191:\tlearn: 0.2666039\ttotal: 149ms\tremaining: 629ms\n",
      "192:\tlearn: 0.2660946\ttotal: 150ms\tremaining: 627ms\n",
      "193:\tlearn: 0.2656263\ttotal: 151ms\tremaining: 625ms\n",
      "194:\tlearn: 0.2649588\ttotal: 151ms\tremaining: 623ms\n",
      "195:\tlearn: 0.2641768\ttotal: 151ms\tremaining: 621ms\n",
      "196:\tlearn: 0.2637508\ttotal: 152ms\tremaining: 620ms\n",
      "197:\tlearn: 0.2632040\ttotal: 153ms\tremaining: 618ms\n",
      "198:\tlearn: 0.2625257\ttotal: 153ms\tremaining: 616ms\n",
      "199:\tlearn: 0.2621044\ttotal: 154ms\tremaining: 614ms\n",
      "200:\tlearn: 0.2617871\ttotal: 154ms\tremaining: 613ms\n",
      "201:\tlearn: 0.2614009\ttotal: 155ms\tremaining: 611ms\n",
      "202:\tlearn: 0.2607424\ttotal: 155ms\tremaining: 610ms\n",
      "203:\tlearn: 0.2605307\ttotal: 156ms\tremaining: 607ms\n",
      "204:\tlearn: 0.2598748\ttotal: 156ms\tremaining: 606ms\n",
      "205:\tlearn: 0.2595304\ttotal: 157ms\tremaining: 604ms\n",
      "206:\tlearn: 0.2591312\ttotal: 157ms\tremaining: 603ms\n",
      "207:\tlearn: 0.2586518\ttotal: 158ms\tremaining: 601ms\n",
      "208:\tlearn: 0.2580325\ttotal: 158ms\tremaining: 600ms\n",
      "209:\tlearn: 0.2576099\ttotal: 159ms\tremaining: 598ms\n",
      "210:\tlearn: 0.2572163\ttotal: 160ms\tremaining: 596ms\n",
      "211:\tlearn: 0.2568177\ttotal: 160ms\tremaining: 595ms\n",
      "212:\tlearn: 0.2562058\ttotal: 161ms\tremaining: 594ms\n",
      "213:\tlearn: 0.2558709\ttotal: 161ms\tremaining: 592ms\n",
      "214:\tlearn: 0.2554744\ttotal: 162ms\tremaining: 590ms\n",
      "215:\tlearn: 0.2549926\ttotal: 162ms\tremaining: 588ms\n",
      "216:\tlearn: 0.2544770\ttotal: 163ms\tremaining: 586ms\n",
      "217:\tlearn: 0.2541939\ttotal: 163ms\tremaining: 585ms\n",
      "218:\tlearn: 0.2536522\ttotal: 164ms\tremaining: 585ms\n",
      "219:\tlearn: 0.2530496\ttotal: 165ms\tremaining: 585ms\n",
      "220:\tlearn: 0.2526420\ttotal: 166ms\tremaining: 584ms\n",
      "221:\tlearn: 0.2521592\ttotal: 166ms\tremaining: 582ms\n",
      "222:\tlearn: 0.2517660\ttotal: 167ms\tremaining: 581ms\n",
      "223:\tlearn: 0.2513758\ttotal: 167ms\tremaining: 579ms\n",
      "224:\tlearn: 0.2508749\ttotal: 168ms\tremaining: 578ms\n",
      "225:\tlearn: 0.2503272\ttotal: 168ms\tremaining: 577ms\n",
      "226:\tlearn: 0.2501054\ttotal: 169ms\tremaining: 577ms\n",
      "227:\tlearn: 0.2497488\ttotal: 171ms\tremaining: 578ms\n",
      "228:\tlearn: 0.2492690\ttotal: 172ms\tremaining: 580ms\n",
      "229:\tlearn: 0.2488098\ttotal: 173ms\tremaining: 579ms\n",
      "230:\tlearn: 0.2483527\ttotal: 174ms\tremaining: 578ms\n",
      "231:\tlearn: 0.2477801\ttotal: 174ms\tremaining: 578ms\n",
      "232:\tlearn: 0.2473753\ttotal: 175ms\tremaining: 576ms\n",
      "233:\tlearn: 0.2470044\ttotal: 175ms\tremaining: 574ms\n",
      "234:\tlearn: 0.2466095\ttotal: 176ms\tremaining: 573ms\n",
      "235:\tlearn: 0.2462578\ttotal: 177ms\tremaining: 571ms\n",
      "236:\tlearn: 0.2459348\ttotal: 177ms\tremaining: 570ms\n",
      "237:\tlearn: 0.2455503\ttotal: 178ms\tremaining: 571ms\n",
      "238:\tlearn: 0.2448530\ttotal: 179ms\tremaining: 569ms\n",
      "239:\tlearn: 0.2445583\ttotal: 179ms\tremaining: 568ms\n",
      "240:\tlearn: 0.2441213\ttotal: 180ms\tremaining: 567ms\n",
      "241:\tlearn: 0.2438702\ttotal: 180ms\tremaining: 565ms\n",
      "242:\tlearn: 0.2436947\ttotal: 181ms\tremaining: 564ms\n",
      "243:\tlearn: 0.2430897\ttotal: 182ms\tremaining: 563ms\n",
      "244:\tlearn: 0.2425173\ttotal: 182ms\tremaining: 562ms\n",
      "245:\tlearn: 0.2420555\ttotal: 183ms\tremaining: 561ms\n",
      "246:\tlearn: 0.2418132\ttotal: 184ms\tremaining: 560ms\n",
      "247:\tlearn: 0.2412385\ttotal: 184ms\tremaining: 559ms\n",
      "248:\tlearn: 0.2409023\ttotal: 185ms\tremaining: 559ms\n",
      "249:\tlearn: 0.2406549\ttotal: 186ms\tremaining: 559ms\n",
      "250:\tlearn: 0.2403669\ttotal: 187ms\tremaining: 557ms\n",
      "251:\tlearn: 0.2400755\ttotal: 187ms\tremaining: 556ms\n",
      "252:\tlearn: 0.2395559\ttotal: 188ms\tremaining: 554ms\n",
      "253:\tlearn: 0.2390965\ttotal: 188ms\tremaining: 553ms\n",
      "254:\tlearn: 0.2388369\ttotal: 189ms\tremaining: 551ms\n",
      "255:\tlearn: 0.2383162\ttotal: 189ms\tremaining: 550ms\n",
      "256:\tlearn: 0.2378330\ttotal: 190ms\tremaining: 548ms\n",
      "257:\tlearn: 0.2373963\ttotal: 190ms\tremaining: 547ms\n",
      "258:\tlearn: 0.2370525\ttotal: 191ms\tremaining: 545ms\n",
      "259:\tlearn: 0.2366621\ttotal: 191ms\tremaining: 544ms\n",
      "260:\tlearn: 0.2363780\ttotal: 192ms\tremaining: 543ms\n",
      "261:\tlearn: 0.2359253\ttotal: 192ms\tremaining: 541ms\n",
      "262:\tlearn: 0.2354660\ttotal: 193ms\tremaining: 540ms\n",
      "263:\tlearn: 0.2350606\ttotal: 193ms\tremaining: 538ms\n",
      "264:\tlearn: 0.2347913\ttotal: 193ms\tremaining: 536ms\n",
      "265:\tlearn: 0.2343756\ttotal: 194ms\tremaining: 535ms\n",
      "266:\tlearn: 0.2337670\ttotal: 194ms\tremaining: 534ms\n",
      "267:\tlearn: 0.2332935\ttotal: 195ms\tremaining: 533ms\n",
      "268:\tlearn: 0.2329327\ttotal: 196ms\tremaining: 531ms\n",
      "269:\tlearn: 0.2324494\ttotal: 196ms\tremaining: 530ms\n",
      "270:\tlearn: 0.2320813\ttotal: 197ms\tremaining: 529ms\n",
      "271:\tlearn: 0.2316664\ttotal: 197ms\tremaining: 527ms\n",
      "272:\tlearn: 0.2314088\ttotal: 197ms\tremaining: 526ms\n",
      "273:\tlearn: 0.2310079\ttotal: 198ms\tremaining: 524ms\n",
      "274:\tlearn: 0.2309803\ttotal: 198ms\tremaining: 522ms\n",
      "275:\tlearn: 0.2306948\ttotal: 199ms\tremaining: 521ms\n",
      "276:\tlearn: 0.2302688\ttotal: 199ms\tremaining: 520ms\n",
      "277:\tlearn: 0.2300007\ttotal: 200ms\tremaining: 518ms\n",
      "278:\tlearn: 0.2297804\ttotal: 200ms\tremaining: 517ms\n",
      "279:\tlearn: 0.2293374\ttotal: 200ms\tremaining: 515ms\n",
      "280:\tlearn: 0.2291510\ttotal: 201ms\tremaining: 514ms\n",
      "281:\tlearn: 0.2287647\ttotal: 201ms\tremaining: 513ms\n",
      "282:\tlearn: 0.2283808\ttotal: 202ms\tremaining: 511ms\n",
      "283:\tlearn: 0.2280352\ttotal: 202ms\tremaining: 510ms\n",
      "284:\tlearn: 0.2276880\ttotal: 203ms\tremaining: 508ms\n",
      "285:\tlearn: 0.2273630\ttotal: 203ms\tremaining: 507ms\n",
      "286:\tlearn: 0.2270992\ttotal: 203ms\tremaining: 505ms\n",
      "287:\tlearn: 0.2268939\ttotal: 204ms\tremaining: 504ms\n",
      "288:\tlearn: 0.2265321\ttotal: 204ms\tremaining: 503ms\n",
      "289:\tlearn: 0.2262049\ttotal: 205ms\tremaining: 502ms\n",
      "290:\tlearn: 0.2258332\ttotal: 205ms\tremaining: 500ms\n",
      "291:\tlearn: 0.2253636\ttotal: 206ms\tremaining: 499ms\n",
      "292:\tlearn: 0.2250535\ttotal: 206ms\tremaining: 498ms\n",
      "293:\tlearn: 0.2247632\ttotal: 207ms\tremaining: 496ms\n",
      "294:\tlearn: 0.2244468\ttotal: 207ms\tremaining: 495ms\n",
      "295:\tlearn: 0.2242130\ttotal: 208ms\tremaining: 494ms\n",
      "296:\tlearn: 0.2240130\ttotal: 208ms\tremaining: 492ms\n",
      "297:\tlearn: 0.2237411\ttotal: 209ms\tremaining: 491ms\n",
      "298:\tlearn: 0.2236084\ttotal: 209ms\tremaining: 490ms\n",
      "299:\tlearn: 0.2230859\ttotal: 209ms\tremaining: 489ms\n",
      "300:\tlearn: 0.2227862\ttotal: 210ms\tremaining: 487ms\n",
      "301:\tlearn: 0.2224404\ttotal: 210ms\tremaining: 486ms\n",
      "302:\tlearn: 0.2222790\ttotal: 211ms\tremaining: 485ms\n",
      "303:\tlearn: 0.2219309\ttotal: 211ms\tremaining: 483ms\n",
      "304:\tlearn: 0.2215686\ttotal: 212ms\tremaining: 482ms\n",
      "305:\tlearn: 0.2212993\ttotal: 212ms\tremaining: 481ms\n",
      "306:\tlearn: 0.2209307\ttotal: 213ms\tremaining: 480ms\n",
      "307:\tlearn: 0.2206131\ttotal: 213ms\tremaining: 478ms\n",
      "308:\tlearn: 0.2202716\ttotal: 213ms\tremaining: 477ms\n",
      "309:\tlearn: 0.2198645\ttotal: 214ms\tremaining: 476ms\n",
      "310:\tlearn: 0.2195883\ttotal: 214ms\tremaining: 475ms\n",
      "311:\tlearn: 0.2193313\ttotal: 215ms\tremaining: 474ms\n",
      "312:\tlearn: 0.2190482\ttotal: 215ms\tremaining: 472ms\n",
      "313:\tlearn: 0.2188094\ttotal: 216ms\tremaining: 471ms\n",
      "314:\tlearn: 0.2185597\ttotal: 216ms\tremaining: 470ms\n",
      "315:\tlearn: 0.2182355\ttotal: 216ms\tremaining: 468ms\n",
      "316:\tlearn: 0.2179660\ttotal: 217ms\tremaining: 467ms\n",
      "317:\tlearn: 0.2176526\ttotal: 217ms\tremaining: 466ms\n",
      "318:\tlearn: 0.2173604\ttotal: 218ms\tremaining: 465ms\n",
      "319:\tlearn: 0.2168559\ttotal: 218ms\tremaining: 464ms\n",
      "320:\tlearn: 0.2165918\ttotal: 219ms\tremaining: 463ms\n",
      "321:\tlearn: 0.2162474\ttotal: 219ms\tremaining: 462ms\n",
      "322:\tlearn: 0.2159474\ttotal: 220ms\tremaining: 460ms\n",
      "323:\tlearn: 0.2157529\ttotal: 220ms\tremaining: 459ms\n",
      "324:\tlearn: 0.2155080\ttotal: 220ms\tremaining: 458ms\n",
      "325:\tlearn: 0.2153093\ttotal: 221ms\tremaining: 457ms\n",
      "326:\tlearn: 0.2150987\ttotal: 221ms\tremaining: 456ms\n",
      "327:\tlearn: 0.2146868\ttotal: 222ms\tremaining: 454ms\n",
      "328:\tlearn: 0.2143815\ttotal: 222ms\tremaining: 453ms\n",
      "329:\tlearn: 0.2141495\ttotal: 223ms\tremaining: 452ms\n",
      "330:\tlearn: 0.2138315\ttotal: 223ms\tremaining: 451ms\n",
      "331:\tlearn: 0.2137041\ttotal: 223ms\tremaining: 450ms\n",
      "332:\tlearn: 0.2135232\ttotal: 224ms\tremaining: 448ms\n",
      "333:\tlearn: 0.2133925\ttotal: 224ms\tremaining: 447ms\n",
      "334:\tlearn: 0.2131852\ttotal: 225ms\tremaining: 446ms\n",
      "335:\tlearn: 0.2129265\ttotal: 225ms\tremaining: 445ms\n",
      "336:\tlearn: 0.2128305\ttotal: 225ms\tremaining: 444ms\n",
      "337:\tlearn: 0.2126983\ttotal: 226ms\tremaining: 442ms\n",
      "338:\tlearn: 0.2125335\ttotal: 226ms\tremaining: 441ms\n",
      "339:\tlearn: 0.2122124\ttotal: 227ms\tremaining: 440ms\n",
      "340:\tlearn: 0.2119080\ttotal: 227ms\tremaining: 439ms\n",
      "341:\tlearn: 0.2114945\ttotal: 228ms\tremaining: 438ms\n",
      "342:\tlearn: 0.2112060\ttotal: 228ms\tremaining: 437ms\n",
      "343:\tlearn: 0.2108512\ttotal: 228ms\tremaining: 436ms\n",
      "344:\tlearn: 0.2105778\ttotal: 229ms\tremaining: 435ms\n",
      "345:\tlearn: 0.2105611\ttotal: 229ms\tremaining: 433ms\n",
      "346:\tlearn: 0.2101142\ttotal: 230ms\tremaining: 432ms\n",
      "347:\tlearn: 0.2097884\ttotal: 230ms\tremaining: 431ms\n",
      "348:\tlearn: 0.2094047\ttotal: 231ms\tremaining: 430ms\n",
      "349:\tlearn: 0.2092125\ttotal: 231ms\tremaining: 429ms\n",
      "350:\tlearn: 0.2089265\ttotal: 231ms\tremaining: 428ms\n",
      "351:\tlearn: 0.2087180\ttotal: 232ms\tremaining: 427ms\n",
      "352:\tlearn: 0.2085379\ttotal: 232ms\tremaining: 426ms\n",
      "353:\tlearn: 0.2084023\ttotal: 233ms\tremaining: 425ms\n",
      "354:\tlearn: 0.2080269\ttotal: 233ms\tremaining: 424ms\n",
      "355:\tlearn: 0.2078650\ttotal: 234ms\tremaining: 423ms\n",
      "356:\tlearn: 0.2077067\ttotal: 234ms\tremaining: 422ms\n",
      "357:\tlearn: 0.2074214\ttotal: 235ms\tremaining: 421ms\n",
      "358:\tlearn: 0.2071757\ttotal: 236ms\tremaining: 420ms\n",
      "359:\tlearn: 0.2068946\ttotal: 236ms\tremaining: 419ms\n",
      "360:\tlearn: 0.2066966\ttotal: 236ms\tremaining: 418ms\n",
      "361:\tlearn: 0.2064931\ttotal: 237ms\tremaining: 417ms\n",
      "362:\tlearn: 0.2060853\ttotal: 237ms\tremaining: 416ms\n",
      "363:\tlearn: 0.2059391\ttotal: 238ms\tremaining: 416ms\n",
      "364:\tlearn: 0.2057651\ttotal: 239ms\tremaining: 415ms\n",
      "365:\tlearn: 0.2055846\ttotal: 239ms\tremaining: 414ms\n",
      "366:\tlearn: 0.2053506\ttotal: 240ms\tremaining: 414ms\n",
      "367:\tlearn: 0.2051058\ttotal: 240ms\tremaining: 413ms\n",
      "368:\tlearn: 0.2049678\ttotal: 241ms\tremaining: 412ms\n",
      "369:\tlearn: 0.2046859\ttotal: 241ms\tremaining: 411ms\n",
      "370:\tlearn: 0.2044795\ttotal: 242ms\tremaining: 410ms\n",
      "371:\tlearn: 0.2042235\ttotal: 242ms\tremaining: 409ms\n",
      "372:\tlearn: 0.2039552\ttotal: 243ms\tremaining: 408ms\n",
      "373:\tlearn: 0.2036450\ttotal: 243ms\tremaining: 407ms\n",
      "374:\tlearn: 0.2034004\ttotal: 243ms\tremaining: 406ms\n",
      "375:\tlearn: 0.2032211\ttotal: 244ms\tremaining: 405ms\n",
      "376:\tlearn: 0.2030543\ttotal: 244ms\tremaining: 404ms\n",
      "377:\tlearn: 0.2028515\ttotal: 245ms\tremaining: 403ms\n",
      "378:\tlearn: 0.2026065\ttotal: 245ms\tremaining: 402ms\n",
      "379:\tlearn: 0.2024707\ttotal: 246ms\tremaining: 401ms\n",
      "380:\tlearn: 0.2023139\ttotal: 246ms\tremaining: 400ms\n",
      "381:\tlearn: 0.2020042\ttotal: 247ms\tremaining: 399ms\n",
      "382:\tlearn: 0.2015180\ttotal: 247ms\tremaining: 398ms\n",
      "383:\tlearn: 0.2012138\ttotal: 248ms\tremaining: 397ms\n",
      "384:\tlearn: 0.2008637\ttotal: 248ms\tremaining: 397ms\n",
      "385:\tlearn: 0.2005879\ttotal: 249ms\tremaining: 396ms\n",
      "386:\tlearn: 0.2003531\ttotal: 249ms\tremaining: 395ms\n",
      "387:\tlearn: 0.1999650\ttotal: 250ms\tremaining: 394ms\n",
      "388:\tlearn: 0.1997715\ttotal: 250ms\tremaining: 393ms\n",
      "389:\tlearn: 0.1994616\ttotal: 250ms\tremaining: 392ms\n",
      "390:\tlearn: 0.1992639\ttotal: 251ms\tremaining: 391ms\n",
      "391:\tlearn: 0.1990100\ttotal: 252ms\tremaining: 390ms\n",
      "392:\tlearn: 0.1987673\ttotal: 252ms\tremaining: 389ms\n",
      "393:\tlearn: 0.1986274\ttotal: 252ms\tremaining: 388ms\n",
      "394:\tlearn: 0.1984728\ttotal: 253ms\tremaining: 387ms\n",
      "395:\tlearn: 0.1981687\ttotal: 253ms\tremaining: 386ms\n",
      "396:\tlearn: 0.1979753\ttotal: 254ms\tremaining: 385ms\n",
      "397:\tlearn: 0.1976967\ttotal: 254ms\tremaining: 385ms\n",
      "398:\tlearn: 0.1973555\ttotal: 255ms\tremaining: 384ms\n",
      "399:\tlearn: 0.1972121\ttotal: 255ms\tremaining: 383ms\n",
      "400:\tlearn: 0.1970883\ttotal: 256ms\tremaining: 382ms\n",
      "401:\tlearn: 0.1968633\ttotal: 256ms\tremaining: 381ms\n",
      "402:\tlearn: 0.1966855\ttotal: 257ms\tremaining: 380ms\n",
      "403:\tlearn: 0.1963026\ttotal: 257ms\tremaining: 380ms\n",
      "404:\tlearn: 0.1961990\ttotal: 258ms\tremaining: 379ms\n",
      "405:\tlearn: 0.1958881\ttotal: 258ms\tremaining: 378ms\n",
      "406:\tlearn: 0.1957861\ttotal: 259ms\tremaining: 377ms\n",
      "407:\tlearn: 0.1956714\ttotal: 259ms\tremaining: 376ms\n",
      "408:\tlearn: 0.1953015\ttotal: 259ms\tremaining: 375ms\n",
      "409:\tlearn: 0.1950539\ttotal: 260ms\tremaining: 374ms\n",
      "410:\tlearn: 0.1947421\ttotal: 261ms\tremaining: 373ms\n",
      "411:\tlearn: 0.1946153\ttotal: 261ms\tremaining: 373ms\n",
      "412:\tlearn: 0.1941048\ttotal: 261ms\tremaining: 372ms\n",
      "413:\tlearn: 0.1940012\ttotal: 262ms\tremaining: 371ms\n",
      "414:\tlearn: 0.1938029\ttotal: 263ms\tremaining: 370ms\n",
      "415:\tlearn: 0.1936364\ttotal: 263ms\tremaining: 369ms\n",
      "416:\tlearn: 0.1933902\ttotal: 264ms\tremaining: 369ms\n",
      "417:\tlearn: 0.1931217\ttotal: 264ms\tremaining: 368ms\n",
      "418:\tlearn: 0.1928025\ttotal: 265ms\tremaining: 367ms\n",
      "419:\tlearn: 0.1925668\ttotal: 265ms\tremaining: 366ms\n",
      "420:\tlearn: 0.1923425\ttotal: 266ms\tremaining: 365ms\n",
      "421:\tlearn: 0.1918344\ttotal: 266ms\tremaining: 365ms\n",
      "422:\tlearn: 0.1916467\ttotal: 267ms\tremaining: 364ms\n",
      "423:\tlearn: 0.1914511\ttotal: 268ms\tremaining: 364ms\n",
      "424:\tlearn: 0.1913617\ttotal: 268ms\tremaining: 363ms\n",
      "425:\tlearn: 0.1910621\ttotal: 269ms\tremaining: 362ms\n",
      "426:\tlearn: 0.1909690\ttotal: 269ms\tremaining: 361ms\n",
      "427:\tlearn: 0.1909170\ttotal: 270ms\tremaining: 360ms\n",
      "428:\tlearn: 0.1906399\ttotal: 270ms\tremaining: 360ms\n",
      "429:\tlearn: 0.1902851\ttotal: 271ms\tremaining: 359ms\n",
      "430:\tlearn: 0.1900551\ttotal: 271ms\tremaining: 358ms\n",
      "431:\tlearn: 0.1898931\ttotal: 272ms\tremaining: 357ms\n",
      "432:\tlearn: 0.1897903\ttotal: 272ms\tremaining: 356ms\n",
      "433:\tlearn: 0.1896395\ttotal: 273ms\tremaining: 355ms\n",
      "434:\tlearn: 0.1895318\ttotal: 273ms\tremaining: 355ms\n",
      "435:\tlearn: 0.1893916\ttotal: 274ms\tremaining: 354ms\n",
      "436:\tlearn: 0.1891054\ttotal: 274ms\tremaining: 353ms\n",
      "437:\tlearn: 0.1889677\ttotal: 275ms\tremaining: 352ms\n",
      "438:\tlearn: 0.1887060\ttotal: 275ms\tremaining: 351ms\n",
      "439:\tlearn: 0.1885323\ttotal: 275ms\tremaining: 351ms\n",
      "440:\tlearn: 0.1884133\ttotal: 276ms\tremaining: 350ms\n",
      "441:\tlearn: 0.1882991\ttotal: 276ms\tremaining: 349ms\n",
      "442:\tlearn: 0.1878968\ttotal: 277ms\tremaining: 348ms\n",
      "443:\tlearn: 0.1878363\ttotal: 277ms\tremaining: 347ms\n",
      "444:\tlearn: 0.1874433\ttotal: 278ms\tremaining: 346ms\n",
      "445:\tlearn: 0.1871693\ttotal: 278ms\tremaining: 345ms\n",
      "446:\tlearn: 0.1870032\ttotal: 279ms\tremaining: 345ms\n",
      "447:\tlearn: 0.1868339\ttotal: 279ms\tremaining: 344ms\n",
      "448:\tlearn: 0.1866536\ttotal: 279ms\tremaining: 343ms\n",
      "449:\tlearn: 0.1865028\ttotal: 280ms\tremaining: 342ms\n",
      "450:\tlearn: 0.1863579\ttotal: 280ms\tremaining: 341ms\n",
      "451:\tlearn: 0.1862133\ttotal: 281ms\tremaining: 340ms\n",
      "452:\tlearn: 0.1859723\ttotal: 282ms\tremaining: 340ms\n",
      "453:\tlearn: 0.1857639\ttotal: 282ms\tremaining: 339ms\n",
      "454:\tlearn: 0.1855175\ttotal: 283ms\tremaining: 338ms\n",
      "455:\tlearn: 0.1853489\ttotal: 283ms\tremaining: 338ms\n",
      "456:\tlearn: 0.1850334\ttotal: 284ms\tremaining: 337ms\n",
      "457:\tlearn: 0.1847496\ttotal: 284ms\tremaining: 336ms\n",
      "458:\tlearn: 0.1846215\ttotal: 285ms\tremaining: 335ms\n",
      "459:\tlearn: 0.1844839\ttotal: 285ms\tremaining: 335ms\n",
      "460:\tlearn: 0.1840938\ttotal: 286ms\tremaining: 334ms\n",
      "461:\tlearn: 0.1837921\ttotal: 286ms\tremaining: 333ms\n",
      "462:\tlearn: 0.1834838\ttotal: 286ms\tremaining: 332ms\n",
      "463:\tlearn: 0.1832091\ttotal: 287ms\tremaining: 331ms\n",
      "464:\tlearn: 0.1828985\ttotal: 287ms\tremaining: 331ms\n",
      "465:\tlearn: 0.1827742\ttotal: 288ms\tremaining: 330ms\n",
      "466:\tlearn: 0.1826622\ttotal: 288ms\tremaining: 329ms\n",
      "467:\tlearn: 0.1823354\ttotal: 289ms\tremaining: 328ms\n",
      "468:\tlearn: 0.1821209\ttotal: 289ms\tremaining: 327ms\n",
      "469:\tlearn: 0.1818631\ttotal: 289ms\tremaining: 326ms\n",
      "470:\tlearn: 0.1816309\ttotal: 290ms\tremaining: 326ms\n",
      "471:\tlearn: 0.1814802\ttotal: 290ms\tremaining: 325ms\n",
      "472:\tlearn: 0.1812337\ttotal: 291ms\tremaining: 324ms\n",
      "473:\tlearn: 0.1811418\ttotal: 291ms\tremaining: 323ms\n",
      "474:\tlearn: 0.1809586\ttotal: 292ms\tremaining: 323ms\n",
      "475:\tlearn: 0.1807487\ttotal: 292ms\tremaining: 322ms\n",
      "476:\tlearn: 0.1806468\ttotal: 293ms\tremaining: 321ms\n",
      "477:\tlearn: 0.1804343\ttotal: 293ms\tremaining: 320ms\n",
      "478:\tlearn: 0.1802340\ttotal: 294ms\tremaining: 320ms\n",
      "479:\tlearn: 0.1801870\ttotal: 294ms\tremaining: 319ms\n",
      "480:\tlearn: 0.1798969\ttotal: 295ms\tremaining: 318ms\n",
      "481:\tlearn: 0.1797494\ttotal: 295ms\tremaining: 317ms\n",
      "482:\tlearn: 0.1796036\ttotal: 296ms\tremaining: 317ms\n",
      "483:\tlearn: 0.1795307\ttotal: 296ms\tremaining: 316ms\n",
      "484:\tlearn: 0.1793586\ttotal: 297ms\tremaining: 315ms\n",
      "485:\tlearn: 0.1790524\ttotal: 298ms\tremaining: 315ms\n",
      "486:\tlearn: 0.1789080\ttotal: 298ms\tremaining: 314ms\n",
      "487:\tlearn: 0.1785190\ttotal: 299ms\tremaining: 314ms\n",
      "488:\tlearn: 0.1783435\ttotal: 299ms\tremaining: 313ms\n",
      "489:\tlearn: 0.1781736\ttotal: 300ms\tremaining: 312ms\n",
      "490:\tlearn: 0.1780296\ttotal: 300ms\tremaining: 312ms\n",
      "491:\tlearn: 0.1779114\ttotal: 301ms\tremaining: 311ms\n",
      "492:\tlearn: 0.1777203\ttotal: 302ms\tremaining: 310ms\n",
      "493:\tlearn: 0.1775646\ttotal: 302ms\tremaining: 310ms\n",
      "494:\tlearn: 0.1773178\ttotal: 303ms\tremaining: 309ms\n",
      "495:\tlearn: 0.1772258\ttotal: 303ms\tremaining: 308ms\n",
      "496:\tlearn: 0.1772049\ttotal: 304ms\tremaining: 307ms\n",
      "497:\tlearn: 0.1770965\ttotal: 304ms\tremaining: 306ms\n",
      "498:\tlearn: 0.1769566\ttotal: 304ms\tremaining: 306ms\n",
      "499:\tlearn: 0.1767728\ttotal: 305ms\tremaining: 305ms\n",
      "500:\tlearn: 0.1766328\ttotal: 305ms\tremaining: 304ms\n",
      "501:\tlearn: 0.1763663\ttotal: 306ms\tremaining: 303ms\n",
      "502:\tlearn: 0.1761889\ttotal: 306ms\tremaining: 303ms\n",
      "503:\tlearn: 0.1760421\ttotal: 307ms\tremaining: 302ms\n",
      "504:\tlearn: 0.1759132\ttotal: 307ms\tremaining: 301ms\n",
      "505:\tlearn: 0.1756506\ttotal: 307ms\tremaining: 300ms\n",
      "506:\tlearn: 0.1754688\ttotal: 308ms\tremaining: 299ms\n",
      "507:\tlearn: 0.1751494\ttotal: 308ms\tremaining: 299ms\n",
      "508:\tlearn: 0.1749925\ttotal: 309ms\tremaining: 298ms\n",
      "509:\tlearn: 0.1748239\ttotal: 309ms\tremaining: 297ms\n",
      "510:\tlearn: 0.1747728\ttotal: 310ms\tremaining: 296ms\n",
      "511:\tlearn: 0.1745751\ttotal: 310ms\tremaining: 296ms\n",
      "512:\tlearn: 0.1744815\ttotal: 311ms\tremaining: 295ms\n",
      "513:\tlearn: 0.1743246\ttotal: 311ms\tremaining: 294ms\n",
      "514:\tlearn: 0.1741576\ttotal: 312ms\tremaining: 294ms\n",
      "515:\tlearn: 0.1740433\ttotal: 312ms\tremaining: 293ms\n",
      "516:\tlearn: 0.1739414\ttotal: 313ms\tremaining: 292ms\n",
      "517:\tlearn: 0.1737600\ttotal: 313ms\tremaining: 291ms\n",
      "518:\tlearn: 0.1735931\ttotal: 314ms\tremaining: 291ms\n",
      "519:\tlearn: 0.1732160\ttotal: 314ms\tremaining: 290ms\n",
      "520:\tlearn: 0.1731405\ttotal: 315ms\tremaining: 289ms\n",
      "521:\tlearn: 0.1729227\ttotal: 315ms\tremaining: 289ms\n",
      "522:\tlearn: 0.1728199\ttotal: 316ms\tremaining: 288ms\n",
      "523:\tlearn: 0.1726138\ttotal: 316ms\tremaining: 287ms\n",
      "524:\tlearn: 0.1722945\ttotal: 317ms\tremaining: 287ms\n",
      "525:\tlearn: 0.1720451\ttotal: 317ms\tremaining: 286ms\n",
      "526:\tlearn: 0.1718964\ttotal: 318ms\tremaining: 285ms\n",
      "527:\tlearn: 0.1717492\ttotal: 318ms\tremaining: 285ms\n",
      "528:\tlearn: 0.1716479\ttotal: 319ms\tremaining: 284ms\n",
      "529:\tlearn: 0.1713071\ttotal: 319ms\tremaining: 283ms\n",
      "530:\tlearn: 0.1711298\ttotal: 320ms\tremaining: 282ms\n",
      "531:\tlearn: 0.1710378\ttotal: 320ms\tremaining: 282ms\n",
      "532:\tlearn: 0.1707285\ttotal: 321ms\tremaining: 281ms\n",
      "533:\tlearn: 0.1704652\ttotal: 321ms\tremaining: 280ms\n",
      "534:\tlearn: 0.1704121\ttotal: 322ms\tremaining: 279ms\n",
      "535:\tlearn: 0.1703367\ttotal: 322ms\tremaining: 279ms\n",
      "536:\tlearn: 0.1701435\ttotal: 322ms\tremaining: 278ms\n",
      "537:\tlearn: 0.1700409\ttotal: 323ms\tremaining: 277ms\n",
      "538:\tlearn: 0.1698773\ttotal: 323ms\tremaining: 277ms\n",
      "539:\tlearn: 0.1696927\ttotal: 324ms\tremaining: 276ms\n",
      "540:\tlearn: 0.1695173\ttotal: 324ms\tremaining: 275ms\n",
      "541:\tlearn: 0.1694111\ttotal: 325ms\tremaining: 274ms\n",
      "542:\tlearn: 0.1691719\ttotal: 325ms\tremaining: 274ms\n",
      "543:\tlearn: 0.1690348\ttotal: 326ms\tremaining: 273ms\n",
      "544:\tlearn: 0.1686965\ttotal: 326ms\tremaining: 272ms\n",
      "545:\tlearn: 0.1684958\ttotal: 327ms\tremaining: 271ms\n",
      "546:\tlearn: 0.1682121\ttotal: 327ms\tremaining: 271ms\n",
      "547:\tlearn: 0.1680231\ttotal: 328ms\tremaining: 270ms\n",
      "548:\tlearn: 0.1679078\ttotal: 328ms\tremaining: 270ms\n",
      "549:\tlearn: 0.1677566\ttotal: 329ms\tremaining: 269ms\n",
      "550:\tlearn: 0.1676914\ttotal: 329ms\tremaining: 268ms\n",
      "551:\tlearn: 0.1675479\ttotal: 330ms\tremaining: 268ms\n",
      "552:\tlearn: 0.1674455\ttotal: 330ms\tremaining: 267ms\n",
      "553:\tlearn: 0.1672477\ttotal: 330ms\tremaining: 266ms\n",
      "554:\tlearn: 0.1671695\ttotal: 331ms\tremaining: 265ms\n",
      "555:\tlearn: 0.1670640\ttotal: 331ms\tremaining: 265ms\n",
      "556:\tlearn: 0.1667302\ttotal: 332ms\tremaining: 264ms\n",
      "557:\tlearn: 0.1665895\ttotal: 332ms\tremaining: 263ms\n",
      "558:\tlearn: 0.1664236\ttotal: 332ms\tremaining: 262ms\n",
      "559:\tlearn: 0.1663359\ttotal: 333ms\tremaining: 262ms\n",
      "560:\tlearn: 0.1661996\ttotal: 333ms\tremaining: 261ms\n",
      "561:\tlearn: 0.1660889\ttotal: 334ms\tremaining: 260ms\n",
      "562:\tlearn: 0.1660316\ttotal: 334ms\tremaining: 260ms\n",
      "563:\tlearn: 0.1657695\ttotal: 335ms\tremaining: 259ms\n",
      "564:\tlearn: 0.1656658\ttotal: 336ms\tremaining: 258ms\n",
      "565:\tlearn: 0.1654482\ttotal: 336ms\tremaining: 258ms\n",
      "566:\tlearn: 0.1654057\ttotal: 337ms\tremaining: 257ms\n",
      "567:\tlearn: 0.1652416\ttotal: 337ms\tremaining: 257ms\n",
      "568:\tlearn: 0.1650557\ttotal: 338ms\tremaining: 256ms\n",
      "569:\tlearn: 0.1649133\ttotal: 338ms\tremaining: 255ms\n",
      "570:\tlearn: 0.1646814\ttotal: 339ms\tremaining: 255ms\n",
      "571:\tlearn: 0.1644961\ttotal: 339ms\tremaining: 254ms\n",
      "572:\tlearn: 0.1643855\ttotal: 340ms\tremaining: 253ms\n",
      "573:\tlearn: 0.1642397\ttotal: 340ms\tremaining: 252ms\n",
      "574:\tlearn: 0.1640862\ttotal: 341ms\tremaining: 252ms\n",
      "575:\tlearn: 0.1640105\ttotal: 341ms\tremaining: 251ms\n",
      "576:\tlearn: 0.1639418\ttotal: 341ms\tremaining: 250ms\n",
      "577:\tlearn: 0.1637683\ttotal: 342ms\tremaining: 250ms\n",
      "578:\tlearn: 0.1633767\ttotal: 342ms\tremaining: 249ms\n",
      "579:\tlearn: 0.1631404\ttotal: 343ms\tremaining: 248ms\n",
      "580:\tlearn: 0.1630679\ttotal: 343ms\tremaining: 247ms\n",
      "581:\tlearn: 0.1628271\ttotal: 344ms\tremaining: 247ms\n",
      "582:\tlearn: 0.1625061\ttotal: 344ms\tremaining: 246ms\n",
      "583:\tlearn: 0.1623132\ttotal: 345ms\tremaining: 245ms\n",
      "584:\tlearn: 0.1621294\ttotal: 345ms\tremaining: 245ms\n",
      "585:\tlearn: 0.1621031\ttotal: 346ms\tremaining: 244ms\n",
      "586:\tlearn: 0.1620029\ttotal: 346ms\tremaining: 243ms\n",
      "587:\tlearn: 0.1619232\ttotal: 346ms\tremaining: 243ms\n",
      "588:\tlearn: 0.1616738\ttotal: 347ms\tremaining: 242ms\n",
      "589:\tlearn: 0.1615475\ttotal: 347ms\tremaining: 241ms\n",
      "590:\tlearn: 0.1614543\ttotal: 348ms\tremaining: 241ms\n",
      "591:\tlearn: 0.1613339\ttotal: 348ms\tremaining: 240ms\n",
      "592:\tlearn: 0.1612182\ttotal: 349ms\tremaining: 239ms\n",
      "593:\tlearn: 0.1610389\ttotal: 349ms\tremaining: 239ms\n",
      "594:\tlearn: 0.1610270\ttotal: 349ms\tremaining: 238ms\n",
      "595:\tlearn: 0.1609006\ttotal: 350ms\tremaining: 237ms\n",
      "596:\tlearn: 0.1606050\ttotal: 350ms\tremaining: 236ms\n",
      "597:\tlearn: 0.1603907\ttotal: 351ms\tremaining: 236ms\n",
      "598:\tlearn: 0.1602238\ttotal: 351ms\tremaining: 235ms\n",
      "599:\tlearn: 0.1601033\ttotal: 352ms\tremaining: 234ms\n",
      "600:\tlearn: 0.1599855\ttotal: 352ms\tremaining: 234ms\n",
      "601:\tlearn: 0.1598770\ttotal: 352ms\tremaining: 233ms\n",
      "602:\tlearn: 0.1596792\ttotal: 353ms\tremaining: 232ms\n",
      "603:\tlearn: 0.1594614\ttotal: 353ms\tremaining: 232ms\n",
      "604:\tlearn: 0.1593134\ttotal: 354ms\tremaining: 231ms\n",
      "605:\tlearn: 0.1591177\ttotal: 354ms\tremaining: 230ms\n",
      "606:\tlearn: 0.1590149\ttotal: 355ms\tremaining: 230ms\n",
      "607:\tlearn: 0.1588874\ttotal: 355ms\tremaining: 229ms\n",
      "608:\tlearn: 0.1587138\ttotal: 355ms\tremaining: 228ms\n",
      "609:\tlearn: 0.1586107\ttotal: 356ms\tremaining: 228ms\n",
      "610:\tlearn: 0.1585209\ttotal: 356ms\tremaining: 227ms\n",
      "611:\tlearn: 0.1583801\ttotal: 357ms\tremaining: 226ms\n",
      "612:\tlearn: 0.1582346\ttotal: 357ms\tremaining: 226ms\n",
      "613:\tlearn: 0.1581861\ttotal: 358ms\tremaining: 225ms\n",
      "614:\tlearn: 0.1579384\ttotal: 358ms\tremaining: 224ms\n",
      "615:\tlearn: 0.1577776\ttotal: 359ms\tremaining: 224ms\n",
      "616:\tlearn: 0.1576266\ttotal: 359ms\tremaining: 223ms\n",
      "617:\tlearn: 0.1574770\ttotal: 360ms\tremaining: 222ms\n",
      "618:\tlearn: 0.1573762\ttotal: 360ms\tremaining: 222ms\n",
      "619:\tlearn: 0.1572492\ttotal: 361ms\tremaining: 221ms\n",
      "620:\tlearn: 0.1571109\ttotal: 361ms\tremaining: 221ms\n",
      "621:\tlearn: 0.1569529\ttotal: 362ms\tremaining: 220ms\n",
      "622:\tlearn: 0.1568938\ttotal: 362ms\tremaining: 219ms\n",
      "623:\tlearn: 0.1567957\ttotal: 363ms\tremaining: 219ms\n",
      "624:\tlearn: 0.1567047\ttotal: 363ms\tremaining: 218ms\n",
      "625:\tlearn: 0.1566433\ttotal: 364ms\tremaining: 217ms\n",
      "626:\tlearn: 0.1564932\ttotal: 364ms\tremaining: 217ms\n",
      "627:\tlearn: 0.1562186\ttotal: 365ms\tremaining: 216ms\n",
      "628:\tlearn: 0.1559914\ttotal: 365ms\tremaining: 215ms\n",
      "629:\tlearn: 0.1558338\ttotal: 366ms\tremaining: 215ms\n",
      "630:\tlearn: 0.1556376\ttotal: 366ms\tremaining: 214ms\n",
      "631:\tlearn: 0.1554590\ttotal: 366ms\tremaining: 213ms\n",
      "632:\tlearn: 0.1553695\ttotal: 367ms\tremaining: 213ms\n",
      "633:\tlearn: 0.1551842\ttotal: 367ms\tremaining: 212ms\n",
      "634:\tlearn: 0.1550820\ttotal: 368ms\tremaining: 211ms\n",
      "635:\tlearn: 0.1549723\ttotal: 368ms\tremaining: 211ms\n",
      "636:\tlearn: 0.1547037\ttotal: 368ms\tremaining: 210ms\n",
      "637:\tlearn: 0.1545221\ttotal: 369ms\tremaining: 209ms\n",
      "638:\tlearn: 0.1543397\ttotal: 370ms\tremaining: 209ms\n",
      "639:\tlearn: 0.1542093\ttotal: 370ms\tremaining: 208ms\n",
      "640:\tlearn: 0.1541286\ttotal: 370ms\tremaining: 207ms\n",
      "641:\tlearn: 0.1540205\ttotal: 371ms\tremaining: 207ms\n",
      "642:\tlearn: 0.1538940\ttotal: 371ms\tremaining: 206ms\n",
      "643:\tlearn: 0.1537051\ttotal: 372ms\tremaining: 205ms\n",
      "644:\tlearn: 0.1533014\ttotal: 372ms\tremaining: 205ms\n",
      "645:\tlearn: 0.1531218\ttotal: 372ms\tremaining: 204ms\n",
      "646:\tlearn: 0.1529170\ttotal: 373ms\tremaining: 203ms\n",
      "647:\tlearn: 0.1526925\ttotal: 373ms\tremaining: 203ms\n",
      "648:\tlearn: 0.1525510\ttotal: 374ms\tremaining: 202ms\n",
      "649:\tlearn: 0.1524178\ttotal: 374ms\tremaining: 201ms\n",
      "650:\tlearn: 0.1521632\ttotal: 375ms\tremaining: 201ms\n",
      "651:\tlearn: 0.1521024\ttotal: 375ms\tremaining: 200ms\n",
      "652:\tlearn: 0.1520066\ttotal: 375ms\tremaining: 199ms\n",
      "653:\tlearn: 0.1517452\ttotal: 376ms\tremaining: 199ms\n",
      "654:\tlearn: 0.1515474\ttotal: 377ms\tremaining: 198ms\n",
      "655:\tlearn: 0.1514272\ttotal: 377ms\tremaining: 198ms\n",
      "656:\tlearn: 0.1512972\ttotal: 378ms\tremaining: 197ms\n",
      "657:\tlearn: 0.1511673\ttotal: 379ms\tremaining: 197ms\n",
      "658:\tlearn: 0.1509291\ttotal: 379ms\tremaining: 196ms\n",
      "659:\tlearn: 0.1507845\ttotal: 380ms\tremaining: 196ms\n",
      "660:\tlearn: 0.1506789\ttotal: 380ms\tremaining: 195ms\n",
      "661:\tlearn: 0.1505679\ttotal: 381ms\tremaining: 194ms\n",
      "662:\tlearn: 0.1505063\ttotal: 381ms\tremaining: 194ms\n",
      "663:\tlearn: 0.1503504\ttotal: 382ms\tremaining: 193ms\n",
      "664:\tlearn: 0.1502593\ttotal: 382ms\tremaining: 192ms\n",
      "665:\tlearn: 0.1501329\ttotal: 383ms\tremaining: 192ms\n",
      "666:\tlearn: 0.1498956\ttotal: 383ms\tremaining: 191ms\n",
      "667:\tlearn: 0.1496796\ttotal: 383ms\tremaining: 191ms\n",
      "668:\tlearn: 0.1494852\ttotal: 384ms\tremaining: 190ms\n",
      "669:\tlearn: 0.1492848\ttotal: 384ms\tremaining: 189ms\n",
      "670:\tlearn: 0.1490456\ttotal: 385ms\tremaining: 189ms\n",
      "671:\tlearn: 0.1488072\ttotal: 385ms\tremaining: 188ms\n",
      "672:\tlearn: 0.1486957\ttotal: 386ms\tremaining: 187ms\n",
      "673:\tlearn: 0.1485673\ttotal: 386ms\tremaining: 187ms\n",
      "674:\tlearn: 0.1484140\ttotal: 386ms\tremaining: 186ms\n",
      "675:\tlearn: 0.1481800\ttotal: 387ms\tremaining: 185ms\n",
      "676:\tlearn: 0.1479048\ttotal: 387ms\tremaining: 185ms\n",
      "677:\tlearn: 0.1478086\ttotal: 388ms\tremaining: 184ms\n",
      "678:\tlearn: 0.1475403\ttotal: 388ms\tremaining: 184ms\n",
      "679:\tlearn: 0.1472879\ttotal: 389ms\tremaining: 183ms\n",
      "680:\tlearn: 0.1471888\ttotal: 389ms\tremaining: 182ms\n",
      "681:\tlearn: 0.1469722\ttotal: 390ms\tremaining: 182ms\n",
      "682:\tlearn: 0.1468880\ttotal: 390ms\tremaining: 181ms\n",
      "683:\tlearn: 0.1468461\ttotal: 390ms\tremaining: 180ms\n",
      "684:\tlearn: 0.1467197\ttotal: 391ms\tremaining: 180ms\n",
      "685:\tlearn: 0.1466275\ttotal: 391ms\tremaining: 179ms\n",
      "686:\tlearn: 0.1464231\ttotal: 392ms\tremaining: 179ms\n",
      "687:\tlearn: 0.1462607\ttotal: 392ms\tremaining: 178ms\n",
      "688:\tlearn: 0.1461138\ttotal: 393ms\tremaining: 177ms\n",
      "689:\tlearn: 0.1459908\ttotal: 393ms\tremaining: 177ms\n",
      "690:\tlearn: 0.1459089\ttotal: 394ms\tremaining: 176ms\n",
      "691:\tlearn: 0.1459035\ttotal: 394ms\tremaining: 175ms\n",
      "692:\tlearn: 0.1457910\ttotal: 395ms\tremaining: 175ms\n",
      "693:\tlearn: 0.1457144\ttotal: 395ms\tremaining: 174ms\n",
      "694:\tlearn: 0.1455851\ttotal: 396ms\tremaining: 174ms\n",
      "695:\tlearn: 0.1454522\ttotal: 396ms\tremaining: 173ms\n",
      "696:\tlearn: 0.1451640\ttotal: 397ms\tremaining: 172ms\n",
      "697:\tlearn: 0.1449282\ttotal: 397ms\tremaining: 172ms\n",
      "698:\tlearn: 0.1446529\ttotal: 398ms\tremaining: 171ms\n",
      "699:\tlearn: 0.1444422\ttotal: 398ms\tremaining: 171ms\n",
      "700:\tlearn: 0.1443854\ttotal: 399ms\tremaining: 170ms\n",
      "701:\tlearn: 0.1442235\ttotal: 399ms\tremaining: 169ms\n",
      "702:\tlearn: 0.1441692\ttotal: 400ms\tremaining: 169ms\n",
      "703:\tlearn: 0.1439120\ttotal: 400ms\tremaining: 168ms\n",
      "704:\tlearn: 0.1437327\ttotal: 400ms\tremaining: 168ms\n",
      "705:\tlearn: 0.1435438\ttotal: 401ms\tremaining: 167ms\n",
      "706:\tlearn: 0.1434629\ttotal: 401ms\tremaining: 166ms\n",
      "707:\tlearn: 0.1434127\ttotal: 402ms\tremaining: 166ms\n",
      "708:\tlearn: 0.1433812\ttotal: 402ms\tremaining: 165ms\n",
      "709:\tlearn: 0.1431605\ttotal: 403ms\tremaining: 165ms\n",
      "710:\tlearn: 0.1431378\ttotal: 403ms\tremaining: 164ms\n",
      "711:\tlearn: 0.1430163\ttotal: 404ms\tremaining: 163ms\n",
      "712:\tlearn: 0.1429644\ttotal: 404ms\tremaining: 163ms\n",
      "713:\tlearn: 0.1427926\ttotal: 405ms\tremaining: 162ms\n",
      "714:\tlearn: 0.1427445\ttotal: 405ms\tremaining: 161ms\n",
      "715:\tlearn: 0.1425940\ttotal: 405ms\tremaining: 161ms\n",
      "716:\tlearn: 0.1423763\ttotal: 406ms\tremaining: 160ms\n",
      "717:\tlearn: 0.1422740\ttotal: 406ms\tremaining: 160ms\n",
      "718:\tlearn: 0.1420402\ttotal: 407ms\tremaining: 159ms\n",
      "719:\tlearn: 0.1419111\ttotal: 407ms\tremaining: 158ms\n",
      "720:\tlearn: 0.1417634\ttotal: 408ms\tremaining: 158ms\n",
      "721:\tlearn: 0.1415478\ttotal: 408ms\tremaining: 157ms\n",
      "722:\tlearn: 0.1414407\ttotal: 408ms\tremaining: 156ms\n",
      "723:\tlearn: 0.1413759\ttotal: 409ms\tremaining: 156ms\n",
      "724:\tlearn: 0.1412727\ttotal: 409ms\tremaining: 155ms\n",
      "725:\tlearn: 0.1410307\ttotal: 410ms\tremaining: 155ms\n",
      "726:\tlearn: 0.1408639\ttotal: 410ms\tremaining: 154ms\n",
      "727:\tlearn: 0.1407708\ttotal: 411ms\tremaining: 153ms\n",
      "728:\tlearn: 0.1405920\ttotal: 411ms\tremaining: 153ms\n",
      "729:\tlearn: 0.1404958\ttotal: 411ms\tremaining: 152ms\n",
      "730:\tlearn: 0.1402517\ttotal: 412ms\tremaining: 152ms\n",
      "731:\tlearn: 0.1400494\ttotal: 412ms\tremaining: 151ms\n",
      "732:\tlearn: 0.1399889\ttotal: 413ms\tremaining: 150ms\n",
      "733:\tlearn: 0.1398491\ttotal: 413ms\tremaining: 150ms\n",
      "734:\tlearn: 0.1398173\ttotal: 414ms\tremaining: 149ms\n",
      "735:\tlearn: 0.1397327\ttotal: 414ms\tremaining: 149ms\n",
      "736:\tlearn: 0.1396085\ttotal: 414ms\tremaining: 148ms\n",
      "737:\tlearn: 0.1395211\ttotal: 415ms\tremaining: 147ms\n",
      "738:\tlearn: 0.1394795\ttotal: 415ms\tremaining: 147ms\n",
      "739:\tlearn: 0.1394221\ttotal: 416ms\tremaining: 146ms\n",
      "740:\tlearn: 0.1393181\ttotal: 416ms\tremaining: 146ms\n",
      "741:\tlearn: 0.1392587\ttotal: 417ms\tremaining: 145ms\n",
      "742:\tlearn: 0.1392241\ttotal: 417ms\tremaining: 144ms\n",
      "743:\tlearn: 0.1389853\ttotal: 418ms\tremaining: 144ms\n",
      "744:\tlearn: 0.1388492\ttotal: 418ms\tremaining: 143ms\n",
      "745:\tlearn: 0.1385709\ttotal: 419ms\tremaining: 143ms\n",
      "746:\tlearn: 0.1384276\ttotal: 419ms\tremaining: 142ms\n",
      "747:\tlearn: 0.1382648\ttotal: 420ms\tremaining: 141ms\n",
      "748:\tlearn: 0.1381326\ttotal: 420ms\tremaining: 141ms\n",
      "749:\tlearn: 0.1379323\ttotal: 421ms\tremaining: 140ms\n",
      "750:\tlearn: 0.1378683\ttotal: 421ms\tremaining: 140ms\n",
      "751:\tlearn: 0.1377468\ttotal: 421ms\tremaining: 139ms\n",
      "752:\tlearn: 0.1376168\ttotal: 422ms\tremaining: 138ms\n",
      "753:\tlearn: 0.1374458\ttotal: 422ms\tremaining: 138ms\n",
      "754:\tlearn: 0.1372333\ttotal: 423ms\tremaining: 137ms\n",
      "755:\tlearn: 0.1371177\ttotal: 423ms\tremaining: 137ms\n",
      "756:\tlearn: 0.1369267\ttotal: 424ms\tremaining: 136ms\n",
      "757:\tlearn: 0.1368745\ttotal: 424ms\tremaining: 135ms\n",
      "758:\tlearn: 0.1367173\ttotal: 425ms\tremaining: 135ms\n",
      "759:\tlearn: 0.1366155\ttotal: 425ms\tremaining: 134ms\n",
      "760:\tlearn: 0.1364205\ttotal: 426ms\tremaining: 134ms\n",
      "761:\tlearn: 0.1362412\ttotal: 426ms\tremaining: 133ms\n",
      "762:\tlearn: 0.1360005\ttotal: 426ms\tremaining: 132ms\n",
      "763:\tlearn: 0.1359075\ttotal: 427ms\tremaining: 132ms\n",
      "764:\tlearn: 0.1357607\ttotal: 427ms\tremaining: 131ms\n",
      "765:\tlearn: 0.1357116\ttotal: 428ms\tremaining: 131ms\n",
      "766:\tlearn: 0.1354980\ttotal: 428ms\tremaining: 130ms\n",
      "767:\tlearn: 0.1352882\ttotal: 429ms\tremaining: 129ms\n",
      "768:\tlearn: 0.1352114\ttotal: 429ms\tremaining: 129ms\n",
      "769:\tlearn: 0.1351005\ttotal: 430ms\tremaining: 128ms\n",
      "770:\tlearn: 0.1350701\ttotal: 430ms\tremaining: 128ms\n",
      "771:\tlearn: 0.1349172\ttotal: 431ms\tremaining: 127ms\n",
      "772:\tlearn: 0.1346440\ttotal: 431ms\tremaining: 127ms\n",
      "773:\tlearn: 0.1344563\ttotal: 432ms\tremaining: 126ms\n",
      "774:\tlearn: 0.1343144\ttotal: 433ms\tremaining: 126ms\n",
      "775:\tlearn: 0.1340783\ttotal: 433ms\tremaining: 125ms\n",
      "776:\tlearn: 0.1338640\ttotal: 434ms\tremaining: 124ms\n",
      "777:\tlearn: 0.1337559\ttotal: 434ms\tremaining: 124ms\n",
      "778:\tlearn: 0.1335845\ttotal: 435ms\tremaining: 123ms\n",
      "779:\tlearn: 0.1334742\ttotal: 435ms\tremaining: 123ms\n",
      "780:\tlearn: 0.1334195\ttotal: 436ms\tremaining: 122ms\n",
      "781:\tlearn: 0.1333178\ttotal: 437ms\tremaining: 122ms\n",
      "782:\tlearn: 0.1331696\ttotal: 437ms\tremaining: 121ms\n",
      "783:\tlearn: 0.1331626\ttotal: 437ms\tremaining: 120ms\n",
      "784:\tlearn: 0.1329695\ttotal: 438ms\tremaining: 120ms\n",
      "785:\tlearn: 0.1329319\ttotal: 438ms\tremaining: 119ms\n",
      "786:\tlearn: 0.1326970\ttotal: 439ms\tremaining: 119ms\n",
      "787:\tlearn: 0.1325086\ttotal: 440ms\tremaining: 118ms\n",
      "788:\tlearn: 0.1323382\ttotal: 440ms\tremaining: 118ms\n",
      "789:\tlearn: 0.1322440\ttotal: 441ms\tremaining: 117ms\n",
      "790:\tlearn: 0.1321470\ttotal: 441ms\tremaining: 117ms\n",
      "791:\tlearn: 0.1321043\ttotal: 442ms\tremaining: 116ms\n",
      "792:\tlearn: 0.1317757\ttotal: 442ms\tremaining: 115ms\n",
      "793:\tlearn: 0.1316583\ttotal: 443ms\tremaining: 115ms\n",
      "794:\tlearn: 0.1315726\ttotal: 444ms\tremaining: 114ms\n",
      "795:\tlearn: 0.1314743\ttotal: 445ms\tremaining: 114ms\n",
      "796:\tlearn: 0.1314147\ttotal: 445ms\tremaining: 113ms\n",
      "797:\tlearn: 0.1311985\ttotal: 446ms\tremaining: 113ms\n",
      "798:\tlearn: 0.1309070\ttotal: 447ms\tremaining: 112ms\n",
      "799:\tlearn: 0.1307928\ttotal: 448ms\tremaining: 112ms\n",
      "800:\tlearn: 0.1306583\ttotal: 449ms\tremaining: 112ms\n",
      "801:\tlearn: 0.1305506\ttotal: 451ms\tremaining: 111ms\n",
      "802:\tlearn: 0.1304683\ttotal: 452ms\tremaining: 111ms\n",
      "803:\tlearn: 0.1302678\ttotal: 453ms\tremaining: 110ms\n",
      "804:\tlearn: 0.1300678\ttotal: 453ms\tremaining: 110ms\n",
      "805:\tlearn: 0.1299441\ttotal: 454ms\tremaining: 109ms\n",
      "806:\tlearn: 0.1296936\ttotal: 455ms\tremaining: 109ms\n",
      "807:\tlearn: 0.1295234\ttotal: 455ms\tremaining: 108ms\n",
      "808:\tlearn: 0.1294186\ttotal: 456ms\tremaining: 108ms\n",
      "809:\tlearn: 0.1292813\ttotal: 457ms\tremaining: 107ms\n",
      "810:\tlearn: 0.1292335\ttotal: 457ms\tremaining: 107ms\n",
      "811:\tlearn: 0.1291580\ttotal: 459ms\tremaining: 106ms\n",
      "812:\tlearn: 0.1290335\ttotal: 459ms\tremaining: 106ms\n",
      "813:\tlearn: 0.1289231\ttotal: 460ms\tremaining: 105ms\n",
      "814:\tlearn: 0.1288541\ttotal: 462ms\tremaining: 105ms\n",
      "815:\tlearn: 0.1287342\ttotal: 462ms\tremaining: 104ms\n",
      "816:\tlearn: 0.1285506\ttotal: 463ms\tremaining: 104ms\n",
      "817:\tlearn: 0.1284194\ttotal: 464ms\tremaining: 103ms\n",
      "818:\tlearn: 0.1283318\ttotal: 465ms\tremaining: 103ms\n",
      "819:\tlearn: 0.1282022\ttotal: 466ms\tremaining: 102ms\n",
      "820:\tlearn: 0.1280240\ttotal: 467ms\tremaining: 102ms\n",
      "821:\tlearn: 0.1278850\ttotal: 468ms\tremaining: 101ms\n",
      "822:\tlearn: 0.1277398\ttotal: 469ms\tremaining: 101ms\n",
      "823:\tlearn: 0.1276312\ttotal: 469ms\tremaining: 100ms\n",
      "824:\tlearn: 0.1276035\ttotal: 470ms\tremaining: 99.7ms\n",
      "825:\tlearn: 0.1275443\ttotal: 471ms\tremaining: 99.1ms\n",
      "826:\tlearn: 0.1273349\ttotal: 471ms\tremaining: 98.6ms\n",
      "827:\tlearn: 0.1272163\ttotal: 472ms\tremaining: 98ms\n",
      "828:\tlearn: 0.1271311\ttotal: 472ms\tremaining: 97.4ms\n",
      "829:\tlearn: 0.1269195\ttotal: 473ms\tremaining: 96.8ms\n",
      "830:\tlearn: 0.1267749\ttotal: 474ms\tremaining: 96.3ms\n",
      "831:\tlearn: 0.1266316\ttotal: 474ms\tremaining: 95.7ms\n",
      "832:\tlearn: 0.1263507\ttotal: 475ms\tremaining: 95.1ms\n",
      "833:\tlearn: 0.1262862\ttotal: 475ms\tremaining: 94.6ms\n",
      "834:\tlearn: 0.1262034\ttotal: 476ms\tremaining: 94ms\n",
      "835:\tlearn: 0.1261557\ttotal: 477ms\tremaining: 93.5ms\n",
      "836:\tlearn: 0.1261090\ttotal: 477ms\tremaining: 92.9ms\n",
      "837:\tlearn: 0.1259431\ttotal: 478ms\tremaining: 92.4ms\n",
      "838:\tlearn: 0.1257589\ttotal: 479ms\tremaining: 91.9ms\n",
      "839:\tlearn: 0.1257030\ttotal: 479ms\tremaining: 91.3ms\n",
      "840:\tlearn: 0.1255307\ttotal: 480ms\tremaining: 90.7ms\n",
      "841:\tlearn: 0.1252992\ttotal: 481ms\tremaining: 90.2ms\n",
      "842:\tlearn: 0.1251827\ttotal: 481ms\tremaining: 89.6ms\n",
      "843:\tlearn: 0.1250673\ttotal: 482ms\tremaining: 89ms\n",
      "844:\tlearn: 0.1248875\ttotal: 482ms\tremaining: 88.4ms\n",
      "845:\tlearn: 0.1247783\ttotal: 483ms\tremaining: 87.9ms\n",
      "846:\tlearn: 0.1246685\ttotal: 483ms\tremaining: 87.3ms\n",
      "847:\tlearn: 0.1245385\ttotal: 484ms\tremaining: 86.7ms\n",
      "848:\tlearn: 0.1244859\ttotal: 484ms\tremaining: 86.1ms\n",
      "849:\tlearn: 0.1244603\ttotal: 485ms\tremaining: 85.5ms\n",
      "850:\tlearn: 0.1242698\ttotal: 485ms\tremaining: 84.9ms\n",
      "851:\tlearn: 0.1241355\ttotal: 486ms\tremaining: 84.3ms\n",
      "852:\tlearn: 0.1239714\ttotal: 486ms\tremaining: 83.8ms\n",
      "853:\tlearn: 0.1237033\ttotal: 487ms\tremaining: 83.2ms\n",
      "854:\tlearn: 0.1235805\ttotal: 487ms\tremaining: 82.6ms\n",
      "855:\tlearn: 0.1234739\ttotal: 488ms\tremaining: 82ms\n",
      "856:\tlearn: 0.1233522\ttotal: 488ms\tremaining: 81.5ms\n",
      "857:\tlearn: 0.1232478\ttotal: 489ms\tremaining: 80.9ms\n",
      "858:\tlearn: 0.1230802\ttotal: 489ms\tremaining: 80.3ms\n",
      "859:\tlearn: 0.1230211\ttotal: 490ms\tremaining: 79.7ms\n",
      "860:\tlearn: 0.1228950\ttotal: 490ms\tremaining: 79.1ms\n",
      "861:\tlearn: 0.1227528\ttotal: 491ms\tremaining: 78.5ms\n",
      "862:\tlearn: 0.1224927\ttotal: 491ms\tremaining: 77.9ms\n",
      "863:\tlearn: 0.1223530\ttotal: 491ms\tremaining: 77.4ms\n",
      "864:\tlearn: 0.1222651\ttotal: 492ms\tremaining: 76.8ms\n",
      "865:\tlearn: 0.1222550\ttotal: 492ms\tremaining: 76.2ms\n",
      "866:\tlearn: 0.1221406\ttotal: 493ms\tremaining: 75.6ms\n",
      "867:\tlearn: 0.1220804\ttotal: 493ms\tremaining: 75ms\n",
      "868:\tlearn: 0.1220268\ttotal: 494ms\tremaining: 74.5ms\n",
      "869:\tlearn: 0.1219858\ttotal: 495ms\tremaining: 73.9ms\n",
      "870:\tlearn: 0.1219470\ttotal: 495ms\tremaining: 73.3ms\n",
      "871:\tlearn: 0.1219304\ttotal: 495ms\tremaining: 72.7ms\n",
      "872:\tlearn: 0.1217758\ttotal: 496ms\tremaining: 72.1ms\n",
      "873:\tlearn: 0.1216339\ttotal: 496ms\tremaining: 71.6ms\n",
      "874:\tlearn: 0.1215131\ttotal: 497ms\tremaining: 71ms\n",
      "875:\tlearn: 0.1214161\ttotal: 497ms\tremaining: 70.4ms\n",
      "876:\tlearn: 0.1212606\ttotal: 498ms\tremaining: 69.8ms\n",
      "877:\tlearn: 0.1211387\ttotal: 498ms\tremaining: 69.2ms\n",
      "878:\tlearn: 0.1210729\ttotal: 499ms\tremaining: 68.7ms\n",
      "879:\tlearn: 0.1209159\ttotal: 499ms\tremaining: 68.1ms\n",
      "880:\tlearn: 0.1207370\ttotal: 500ms\tremaining: 67.5ms\n",
      "881:\tlearn: 0.1206203\ttotal: 500ms\tremaining: 66.9ms\n",
      "882:\tlearn: 0.1205260\ttotal: 501ms\tremaining: 66.3ms\n",
      "883:\tlearn: 0.1203853\ttotal: 501ms\tremaining: 65.8ms\n",
      "884:\tlearn: 0.1202428\ttotal: 501ms\tremaining: 65.2ms\n",
      "885:\tlearn: 0.1201113\ttotal: 502ms\tremaining: 64.6ms\n",
      "886:\tlearn: 0.1200512\ttotal: 502ms\tremaining: 64ms\n",
      "887:\tlearn: 0.1199342\ttotal: 503ms\tremaining: 63.4ms\n",
      "888:\tlearn: 0.1198103\ttotal: 503ms\tremaining: 62.8ms\n",
      "889:\tlearn: 0.1197868\ttotal: 504ms\tremaining: 62.3ms\n",
      "890:\tlearn: 0.1197184\ttotal: 504ms\tremaining: 61.7ms\n",
      "891:\tlearn: 0.1196586\ttotal: 505ms\tremaining: 61.1ms\n",
      "892:\tlearn: 0.1196074\ttotal: 505ms\tremaining: 60.5ms\n",
      "893:\tlearn: 0.1194960\ttotal: 506ms\tremaining: 59.9ms\n",
      "894:\tlearn: 0.1193450\ttotal: 506ms\tremaining: 59.4ms\n",
      "895:\tlearn: 0.1191421\ttotal: 506ms\tremaining: 58.8ms\n",
      "896:\tlearn: 0.1190797\ttotal: 507ms\tremaining: 58.2ms\n",
      "897:\tlearn: 0.1190183\ttotal: 507ms\tremaining: 57.6ms\n",
      "898:\tlearn: 0.1188825\ttotal: 508ms\tremaining: 57ms\n",
      "899:\tlearn: 0.1187172\ttotal: 508ms\tremaining: 56.5ms\n",
      "900:\tlearn: 0.1186456\ttotal: 509ms\tremaining: 55.9ms\n",
      "901:\tlearn: 0.1184289\ttotal: 509ms\tremaining: 55.3ms\n",
      "902:\tlearn: 0.1182341\ttotal: 509ms\tremaining: 54.7ms\n",
      "903:\tlearn: 0.1182236\ttotal: 510ms\tremaining: 54.1ms\n",
      "904:\tlearn: 0.1181676\ttotal: 510ms\tremaining: 53.6ms\n",
      "905:\tlearn: 0.1181625\ttotal: 510ms\tremaining: 53ms\n",
      "906:\tlearn: 0.1180001\ttotal: 511ms\tremaining: 52.4ms\n",
      "907:\tlearn: 0.1178958\ttotal: 511ms\tremaining: 51.8ms\n",
      "908:\tlearn: 0.1177418\ttotal: 512ms\tremaining: 51.2ms\n",
      "909:\tlearn: 0.1176651\ttotal: 512ms\tremaining: 50.6ms\n",
      "910:\tlearn: 0.1175733\ttotal: 513ms\tremaining: 50.1ms\n",
      "911:\tlearn: 0.1173953\ttotal: 513ms\tremaining: 49.5ms\n",
      "912:\tlearn: 0.1172916\ttotal: 513ms\tremaining: 48.9ms\n",
      "913:\tlearn: 0.1171828\ttotal: 514ms\tremaining: 48.4ms\n",
      "914:\tlearn: 0.1169726\ttotal: 514ms\tremaining: 47.8ms\n",
      "915:\tlearn: 0.1169054\ttotal: 515ms\tremaining: 47.2ms\n",
      "916:\tlearn: 0.1167956\ttotal: 515ms\tremaining: 46.6ms\n",
      "917:\tlearn: 0.1166174\ttotal: 516ms\tremaining: 46.1ms\n",
      "918:\tlearn: 0.1164835\ttotal: 516ms\tremaining: 45.5ms\n",
      "919:\tlearn: 0.1163442\ttotal: 516ms\tremaining: 44.9ms\n",
      "920:\tlearn: 0.1163210\ttotal: 517ms\tremaining: 44.3ms\n",
      "921:\tlearn: 0.1161334\ttotal: 518ms\tremaining: 43.8ms\n",
      "922:\tlearn: 0.1160198\ttotal: 518ms\tremaining: 43.2ms\n",
      "923:\tlearn: 0.1158775\ttotal: 519ms\tremaining: 42.7ms\n",
      "924:\tlearn: 0.1157704\ttotal: 519ms\tremaining: 42.1ms\n",
      "925:\tlearn: 0.1156806\ttotal: 519ms\tremaining: 41.5ms\n",
      "926:\tlearn: 0.1155743\ttotal: 520ms\tremaining: 40.9ms\n",
      "927:\tlearn: 0.1154430\ttotal: 520ms\tremaining: 40.4ms\n",
      "928:\tlearn: 0.1153670\ttotal: 521ms\tremaining: 39.8ms\n",
      "929:\tlearn: 0.1153203\ttotal: 521ms\tremaining: 39.2ms\n",
      "930:\tlearn: 0.1151785\ttotal: 522ms\tremaining: 38.7ms\n",
      "931:\tlearn: 0.1150934\ttotal: 522ms\tremaining: 38.1ms\n",
      "932:\tlearn: 0.1149782\ttotal: 523ms\tremaining: 37.5ms\n",
      "933:\tlearn: 0.1147898\ttotal: 523ms\tremaining: 37ms\n",
      "934:\tlearn: 0.1146028\ttotal: 523ms\tremaining: 36.4ms\n",
      "935:\tlearn: 0.1144234\ttotal: 524ms\tremaining: 35.8ms\n",
      "936:\tlearn: 0.1143147\ttotal: 525ms\tremaining: 35.3ms\n",
      "937:\tlearn: 0.1141542\ttotal: 525ms\tremaining: 34.7ms\n",
      "938:\tlearn: 0.1140978\ttotal: 526ms\tremaining: 34.2ms\n",
      "939:\tlearn: 0.1140090\ttotal: 526ms\tremaining: 33.6ms\n",
      "940:\tlearn: 0.1138842\ttotal: 527ms\tremaining: 33ms\n",
      "941:\tlearn: 0.1138443\ttotal: 527ms\tremaining: 32.5ms\n",
      "942:\tlearn: 0.1135893\ttotal: 528ms\tremaining: 31.9ms\n",
      "943:\tlearn: 0.1133926\ttotal: 528ms\tremaining: 31.3ms\n",
      "944:\tlearn: 0.1133294\ttotal: 528ms\tremaining: 30.8ms\n",
      "945:\tlearn: 0.1132390\ttotal: 529ms\tremaining: 30.2ms\n",
      "946:\tlearn: 0.1131472\ttotal: 529ms\tremaining: 29.6ms\n",
      "947:\tlearn: 0.1130593\ttotal: 530ms\tremaining: 29.1ms\n",
      "948:\tlearn: 0.1130058\ttotal: 530ms\tremaining: 28.5ms\n",
      "949:\tlearn: 0.1129171\ttotal: 531ms\tremaining: 27.9ms\n",
      "950:\tlearn: 0.1127508\ttotal: 531ms\tremaining: 27.4ms\n",
      "951:\tlearn: 0.1125361\ttotal: 532ms\tremaining: 26.8ms\n",
      "952:\tlearn: 0.1124367\ttotal: 532ms\tremaining: 26.3ms\n",
      "953:\tlearn: 0.1123430\ttotal: 533ms\tremaining: 25.7ms\n",
      "954:\tlearn: 0.1122373\ttotal: 533ms\tremaining: 25.1ms\n",
      "955:\tlearn: 0.1121737\ttotal: 534ms\tremaining: 24.6ms\n",
      "956:\tlearn: 0.1119412\ttotal: 534ms\tremaining: 24ms\n",
      "957:\tlearn: 0.1118359\ttotal: 535ms\tremaining: 23.4ms\n",
      "958:\tlearn: 0.1117822\ttotal: 535ms\tremaining: 22.9ms\n",
      "959:\tlearn: 0.1116825\ttotal: 535ms\tremaining: 22.3ms\n",
      "960:\tlearn: 0.1115216\ttotal: 536ms\tremaining: 21.7ms\n",
      "961:\tlearn: 0.1114062\ttotal: 536ms\tremaining: 21.2ms\n",
      "962:\tlearn: 0.1111845\ttotal: 537ms\tremaining: 20.6ms\n",
      "963:\tlearn: 0.1110885\ttotal: 537ms\tremaining: 20.1ms\n",
      "964:\tlearn: 0.1109053\ttotal: 538ms\tremaining: 19.5ms\n",
      "965:\tlearn: 0.1106894\ttotal: 538ms\tremaining: 18.9ms\n",
      "966:\tlearn: 0.1105779\ttotal: 538ms\tremaining: 18.4ms\n",
      "967:\tlearn: 0.1105143\ttotal: 539ms\tremaining: 17.8ms\n",
      "968:\tlearn: 0.1103638\ttotal: 540ms\tremaining: 17.3ms\n",
      "969:\tlearn: 0.1103596\ttotal: 540ms\tremaining: 16.7ms\n",
      "970:\tlearn: 0.1102965\ttotal: 540ms\tremaining: 16.1ms\n",
      "971:\tlearn: 0.1102898\ttotal: 541ms\tremaining: 15.6ms\n",
      "972:\tlearn: 0.1101835\ttotal: 541ms\tremaining: 15ms\n",
      "973:\tlearn: 0.1101202\ttotal: 542ms\tremaining: 14.5ms\n",
      "974:\tlearn: 0.1099980\ttotal: 542ms\tremaining: 13.9ms\n",
      "975:\tlearn: 0.1099211\ttotal: 543ms\tremaining: 13.3ms\n",
      "976:\tlearn: 0.1098812\ttotal: 543ms\tremaining: 12.8ms\n",
      "977:\tlearn: 0.1097960\ttotal: 544ms\tremaining: 12.2ms\n",
      "978:\tlearn: 0.1097588\ttotal: 544ms\tremaining: 11.7ms\n",
      "979:\tlearn: 0.1096241\ttotal: 545ms\tremaining: 11.1ms\n",
      "980:\tlearn: 0.1095415\ttotal: 545ms\tremaining: 10.6ms\n",
      "981:\tlearn: 0.1095328\ttotal: 546ms\tremaining: 10ms\n",
      "982:\tlearn: 0.1093790\ttotal: 546ms\tremaining: 9.44ms\n",
      "983:\tlearn: 0.1092771\ttotal: 547ms\tremaining: 8.89ms\n",
      "984:\tlearn: 0.1091642\ttotal: 547ms\tremaining: 8.33ms\n",
      "985:\tlearn: 0.1091006\ttotal: 547ms\tremaining: 7.77ms\n",
      "986:\tlearn: 0.1090040\ttotal: 548ms\tremaining: 7.22ms\n",
      "987:\tlearn: 0.1088216\ttotal: 549ms\tremaining: 6.66ms\n",
      "988:\tlearn: 0.1087575\ttotal: 549ms\tremaining: 6.11ms\n",
      "989:\tlearn: 0.1086049\ttotal: 549ms\tremaining: 5.55ms\n",
      "990:\tlearn: 0.1085018\ttotal: 550ms\tremaining: 4.99ms\n",
      "991:\tlearn: 0.1082821\ttotal: 550ms\tremaining: 4.44ms\n",
      "992:\tlearn: 0.1082220\ttotal: 551ms\tremaining: 3.88ms\n",
      "993:\tlearn: 0.1081199\ttotal: 551ms\tremaining: 3.33ms\n",
      "994:\tlearn: 0.1080150\ttotal: 552ms\tremaining: 2.77ms\n",
      "995:\tlearn: 0.1078830\ttotal: 552ms\tremaining: 2.22ms\n",
      "996:\tlearn: 0.1077279\ttotal: 553ms\tremaining: 1.66ms\n",
      "997:\tlearn: 0.1076071\ttotal: 553ms\tremaining: 1.11ms\n",
      "998:\tlearn: 0.1075342\ttotal: 553ms\tremaining: 554us\n",
      "999:\tlearn: 0.1073646\ttotal: 554ms\tremaining: 0us\n",
      "Accuracy: 0.80\n",
      "F1 Score: 0.83\n"
     ]
    }
   ],
   "source": [
    "# Melatih model Voting Classifier\n",
    "voting_classifier.fit(X_train, y_train)\n",
    "\n",
    "# Prediksi pada testing set\n",
    "y_pred = voting_classifier.predict(X_test)\n",
    "\n",
    "# Evaluasi performa model\n",
    "accuracy = accuracy_score(y_test, y_pred)\n",
    "f1 = f1_score(y_test, y_pred)\n",
    "\n",
    "print(f'Accuracy: {accuracy:.2f}')\n",
    "print(f'F1 Score: {f1:.2f}')"
   ]
  }
 ],
 "metadata": {
  "kaggle": {
   "accelerator": "none",
   "dataSources": [
    {
     "datasetId": 1582403,
     "sourceId": 2603715,
     "sourceType": "datasetVersion"
    }
   ],
   "dockerImageVersionId": 30715,
   "isGpuEnabled": false,
   "isInternetEnabled": true,
   "language": "python",
   "sourceType": "notebook"
  },
  "kernelspec": {
   "display_name": "Python 3",
   "language": "python",
   "name": "python3"
  },
  "language_info": {
   "codemirror_mode": {
    "name": "ipython",
    "version": 3
   },
   "file_extension": ".py",
   "mimetype": "text/x-python",
   "name": "python",
   "nbconvert_exporter": "python",
   "pygments_lexer": "ipython3",
   "version": "3.12.1"
  },
  "papermill": {
   "default_parameters": {},
   "duration": 16.917242,
   "end_time": "2024-05-31T09:07:47.893678",
   "environment_variables": {},
   "exception": null,
   "input_path": "__notebook__.ipynb",
   "output_path": "__notebook__.ipynb",
   "parameters": {},
   "start_time": "2024-05-31T09:07:30.976436",
   "version": "2.5.0"
  }
 },
 "nbformat": 4,
 "nbformat_minor": 5
}
